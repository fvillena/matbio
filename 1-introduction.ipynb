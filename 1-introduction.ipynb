{
 "cells": [
  {
   "cell_type": "markdown",
   "metadata": {},
   "source": [
    "# Introducción a R"
   ]
  },
  {
   "cell_type": "markdown",
   "metadata": {},
   "source": [
    "## Operando con números"
   ]
  },
  {
   "cell_type": "markdown",
   "metadata": {},
   "source": [
    "El procedimiento más básico que podemos realizar con R es utilizarlo como una calculadora en donde los operadores `+`, `-`, `*` o `/` pueden ser utilizados para operar sobre números, como también podemos utilizar paréntesis redodondos `()` tal como lo hacemos en álgebra. Al ejecutar la operación, se retornará el resultado."
   ]
  },
  {
   "cell_type": "code",
   "execution_count": 3,
   "metadata": {},
   "outputs": [
    {
     "data": {
      "text/html": [
       "4"
      ],
      "text/latex": [
       "4"
      ],
      "text/markdown": [
       "4"
      ],
      "text/plain": [
       "[1] 4"
      ]
     },
     "metadata": {},
     "output_type": "display_data"
    }
   ],
   "source": [
    "2 + 2"
   ]
  },
  {
   "cell_type": "code",
   "execution_count": 2,
   "metadata": {},
   "outputs": [
    {
     "data": {
      "text/html": [
       "6"
      ],
      "text/latex": [
       "6"
      ],
      "text/markdown": [
       "6"
      ],
      "text/plain": [
       "[1] 6"
      ]
     },
     "metadata": {},
     "output_type": "display_data"
    }
   ],
   "source": [
    "2 * 3"
   ]
  },
  {
   "cell_type": "code",
   "execution_count": 6,
   "metadata": {},
   "outputs": [
    {
     "data": {
      "text/html": [
       "4"
      ],
      "text/latex": [
       "4"
      ],
      "text/markdown": [
       "4"
      ],
      "text/plain": [
       "[1] 4"
      ]
     },
     "metadata": {},
     "output_type": "display_data"
    }
   ],
   "source": [
    "2 * 3 - 2"
   ]
  },
  {
   "cell_type": "code",
   "execution_count": 7,
   "metadata": {},
   "outputs": [
    {
     "data": {
      "text/html": [
       "2"
      ],
      "text/latex": [
       "2"
      ],
      "text/markdown": [
       "2"
      ],
      "text/plain": [
       "[1] 2"
      ]
     },
     "metadata": {},
     "output_type": "display_data"
    }
   ],
   "source": [
    "2 * ( 3 - 2 )"
   ]
  },
  {
   "cell_type": "markdown",
   "metadata": {},
   "source": [
    "## Variables y tipos de datos"
   ]
  },
  {
   "cell_type": "markdown",
   "metadata": {},
   "source": [
    "Una variable está formada un espacio que podemos utilizar en la memoria del computador para almacenar un valor y este espacio de memoria le podemos asignar un nombre simbólico o al que nos referiremos como nombre de la variable."
   ]
  },
  {
   "cell_type": "code",
   "execution_count": 97,
   "metadata": {},
   "outputs": [
    {
     "data": {
      "text/html": [
       "1"
      ],
      "text/latex": [
       "1"
      ],
      "text/markdown": [
       "1"
      ],
      "text/plain": [
       "[1] 1"
      ]
     },
     "metadata": {},
     "output_type": "display_data"
    }
   ],
   "source": [
    "# Este es un comentario y en la línea de abajo tenemos el nombre de la variable junto con su valor.\n",
    "number = 1\n",
    "number"
   ]
  },
  {
   "cell_type": "markdown",
   "metadata": {},
   "source": [
    "A una variable le podemos asignar distintos tipos de datos, los más básicos en R son:\n",
    "* `character`: Una cadena de caracteres. Podemos darnos cuenta que una variable es de este tipo, porque siempre estará entre comillas (`'foo'`).\n",
    "* `numeric`: Un número que puede ser entero o decimal.\n",
    "* `logical`: Un valor dicotómico (`TRUE`, `FALSE`)"
   ]
  },
  {
   "cell_type": "code",
   "execution_count": 9,
   "metadata": {},
   "outputs": [],
   "source": [
    "the_character = \"foo\""
   ]
  },
  {
   "cell_type": "markdown",
   "metadata": {},
   "source": [
    "Cuando le asignamos un valor a una variable R no retornará nada hasta que nosotros llamemos a la misma."
   ]
  },
  {
   "cell_type": "code",
   "execution_count": 10,
   "metadata": {},
   "outputs": [
    {
     "data": {
      "text/html": [
       "'foo'"
      ],
      "text/latex": [
       "'foo'"
      ],
      "text/markdown": [
       "'foo'"
      ],
      "text/plain": [
       "[1] \"foo\""
      ]
     },
     "metadata": {},
     "output_type": "display_data"
    }
   ],
   "source": [
    "# Estoy llamando a la variable.\n",
    "the_character"
   ]
  },
  {
   "cell_type": "code",
   "execution_count": 11,
   "metadata": {},
   "outputs": [
    {
     "data": {
      "text/html": [
       "'11'"
      ],
      "text/latex": [
       "'11'"
      ],
      "text/markdown": [
       "'11'"
      ],
      "text/plain": [
       "[1] \"11\""
      ]
     },
     "metadata": {},
     "output_type": "display_data"
    }
   ],
   "source": [
    "# Una variable del tipo character no es exclusivo para letras.\n",
    "also_character = '11'\n",
    "also_character"
   ]
  },
  {
   "cell_type": "code",
   "execution_count": 15,
   "metadata": {},
   "outputs": [
    {
     "data": {
      "text/html": [
       "11"
      ],
      "text/latex": [
       "11"
      ],
      "text/markdown": [
       "11"
      ],
      "text/plain": [
       "[1] 11"
      ]
     },
     "metadata": {},
     "output_type": "display_data"
    }
   ],
   "source": [
    "# Esta variable es de la clase numeric.\n",
    "the_numeric = 11\n",
    "the_numeric"
   ]
  },
  {
   "cell_type": "code",
   "execution_count": 14,
   "metadata": {},
   "outputs": [
    {
     "data": {
      "text/html": [
       "11.1"
      ],
      "text/latex": [
       "11.1"
      ],
      "text/markdown": [
       "11.1"
      ],
      "text/plain": [
       "[1] 11.1"
      ]
     },
     "metadata": {},
     "output_type": "display_data"
    }
   ],
   "source": [
    "also_numeric = 11.1\n",
    "also_numeric"
   ]
  },
  {
   "cell_type": "code",
   "execution_count": 16,
   "metadata": {},
   "outputs": [
    {
     "data": {
      "text/html": [
       "TRUE"
      ],
      "text/latex": [
       "TRUE"
      ],
      "text/markdown": [
       "TRUE"
      ],
      "text/plain": [
       "[1] TRUE"
      ]
     },
     "metadata": {},
     "output_type": "display_data"
    }
   ],
   "source": [
    "# Atención a que la variable logical sólo recibe los valores TRUE o FALSE, exactamente en mayúsculas\n",
    "# y sin comillas\n",
    "the_logical = TRUE\n",
    "the_logical"
   ]
  },
  {
   "cell_type": "code",
   "execution_count": 17,
   "metadata": {},
   "outputs": [
    {
     "data": {
      "text/html": [
       "FALSE"
      ],
      "text/latex": [
       "FALSE"
      ],
      "text/markdown": [
       "FALSE"
      ],
      "text/plain": [
       "[1] FALSE"
      ]
     },
     "metadata": {},
     "output_type": "display_data"
    }
   ],
   "source": [
    "also_logical = FALSE\n",
    "also_logical"
   ]
  },
  {
   "cell_type": "markdown",
   "metadata": {},
   "source": [
    "## Operadores relacionales y lógicos"
   ]
  },
  {
   "cell_type": "markdown",
   "metadata": {},
   "source": [
    "Los operadores relacionales son símbolos que se utilizan para comparar dos valores. Estos operadores devuelven un objeto de clase `logical` y el cual es `TRUE` cuando la relación es verdadera y `FALSE` cuando la relación es falsa.\n",
    "\n",
    "Algunos operadores relacionales son los siguientes:\n",
    "* `==`: Devuelve `TRUE` cuando ambos valores son iguales.\n",
    "* `!=`: Devuelve `TRUE` cuando ambos valores son distintos.\n",
    "* `>`: Devuelve `TRUE` cuando el valor a la izquierda es mayor al de la derecha.\n",
    "* `>=`: Devuelve `TRUE` cuando el valor a la izquierda es mayor o igual al de la derecha."
   ]
  },
  {
   "cell_type": "code",
   "execution_count": 12,
   "metadata": {},
   "outputs": [
    {
     "data": {
      "text/html": [
       "TRUE"
      ],
      "text/latex": [
       "TRUE"
      ],
      "text/markdown": [
       "TRUE"
      ],
      "text/plain": [
       "[1] TRUE"
      ]
     },
     "metadata": {},
     "output_type": "display_data"
    }
   ],
   "source": [
    "# Esto es verdadero.\n",
    "0 < 1"
   ]
  },
  {
   "cell_type": "code",
   "execution_count": 13,
   "metadata": {},
   "outputs": [
    {
     "data": {
      "text/html": [
       "FALSE"
      ],
      "text/latex": [
       "FALSE"
      ],
      "text/markdown": [
       "FALSE"
      ],
      "text/plain": [
       "[1] FALSE"
      ]
     },
     "metadata": {},
     "output_type": "display_data"
    }
   ],
   "source": [
    "# Esto es falso.\n",
    "0 > 1"
   ]
  },
  {
   "cell_type": "code",
   "execution_count": 14,
   "metadata": {},
   "outputs": [
    {
     "data": {
      "text/html": [
       "TRUE"
      ],
      "text/latex": [
       "TRUE"
      ],
      "text/markdown": [
       "TRUE"
      ],
      "text/plain": [
       "[1] TRUE"
      ]
     },
     "metadata": {},
     "output_type": "display_data"
    }
   ],
   "source": [
    "# Atención, aquí se usa doble signo igual, no como cuando definimos una variable donde utilizamos sólo un signo igual.\n",
    "0 == 0"
   ]
  },
  {
   "cell_type": "code",
   "execution_count": 15,
   "metadata": {},
   "outputs": [
    {
     "data": {
      "text/html": [
       "FALSE"
      ],
      "text/latex": [
       "FALSE"
      ],
      "text/markdown": [
       "FALSE"
      ],
      "text/plain": [
       "[1] FALSE"
      ]
     },
     "metadata": {},
     "output_type": "display_data"
    }
   ],
   "source": [
    "0 != 0"
   ]
  },
  {
   "cell_type": "code",
   "execution_count": 16,
   "metadata": {},
   "outputs": [
    {
     "data": {
      "text/html": [
       "TRUE"
      ],
      "text/latex": [
       "TRUE"
      ],
      "text/markdown": [
       "TRUE"
      ],
      "text/plain": [
       "[1] TRUE"
      ]
     },
     "metadata": {},
     "output_type": "display_data"
    }
   ],
   "source": [
    "'a' != 'b'"
   ]
  },
  {
   "cell_type": "code",
   "execution_count": 17,
   "metadata": {},
   "outputs": [
    {
     "data": {
      "text/html": [
       "FALSE"
      ],
      "text/latex": [
       "FALSE"
      ],
      "text/markdown": [
       "FALSE"
      ],
      "text/plain": [
       "[1] FALSE"
      ]
     },
     "metadata": {},
     "output_type": "display_data"
    }
   ],
   "source": [
    "'a' == 'b'"
   ]
  },
  {
   "cell_type": "code",
   "execution_count": 20,
   "metadata": {},
   "outputs": [
    {
     "data": {
      "text/html": [
       "TRUE"
      ],
      "text/latex": [
       "TRUE"
      ],
      "text/markdown": [
       "TRUE"
      ],
      "text/plain": [
       "[1] TRUE"
      ]
     },
     "metadata": {},
     "output_type": "display_data"
    }
   ],
   "source": [
    "# Prueben más relaciones, a veces los resultados son intuitivos, otras veces no.\n",
    "'a' < 'b'"
   ]
  },
  {
   "cell_type": "code",
   "execution_count": 24,
   "metadata": {},
   "outputs": [
    {
     "data": {
      "text/html": [
       "TRUE"
      ],
      "text/latex": [
       "TRUE"
      ],
      "text/markdown": [
       "TRUE"
      ],
      "text/plain": [
       "[1] TRUE"
      ]
     },
     "metadata": {},
     "output_type": "display_data"
    }
   ],
   "source": [
    "# Mucho cuidado con los operadores relacionales, a veces no se comportan como lo esperamos.\n",
    "'1' == 1"
   ]
  },
  {
   "cell_type": "markdown",
   "metadata": {},
   "source": [
    "Los operadores lógicos, similar a los relacionales, sirven para comparar valores `logical`. Estos operadres también devuelven un objeto del tipo `logical`.\n",
    "\n",
    "Estos operadores son:\n",
    "* `|`: Este operador `or` devuelve `TRUE` cuando uno o ambos valores son `TRUE`.\n",
    "* `&`: Este operador `and` devuelve `TRUE` cuando ambos valores son `TRUE`.\n",
    "* `!`: Este operador invierte el valor lógico que está a su derecha."
   ]
  },
  {
   "cell_type": "code",
   "execution_count": 25,
   "metadata": {},
   "outputs": [
    {
     "data": {
      "text/html": [
       "TRUE"
      ],
      "text/latex": [
       "TRUE"
      ],
      "text/markdown": [
       "TRUE"
      ],
      "text/plain": [
       "[1] TRUE"
      ]
     },
     "metadata": {},
     "output_type": "display_data"
    }
   ],
   "source": [
    "TRUE | TRUE"
   ]
  },
  {
   "cell_type": "code",
   "execution_count": 26,
   "metadata": {},
   "outputs": [
    {
     "data": {
      "text/html": [
       "TRUE"
      ],
      "text/latex": [
       "TRUE"
      ],
      "text/markdown": [
       "TRUE"
      ],
      "text/plain": [
       "[1] TRUE"
      ]
     },
     "metadata": {},
     "output_type": "display_data"
    }
   ],
   "source": [
    "TRUE | FALSE"
   ]
  },
  {
   "cell_type": "code",
   "execution_count": 27,
   "metadata": {},
   "outputs": [
    {
     "data": {
      "text/html": [
       "FALSE"
      ],
      "text/latex": [
       "FALSE"
      ],
      "text/markdown": [
       "FALSE"
      ],
      "text/plain": [
       "[1] FALSE"
      ]
     },
     "metadata": {},
     "output_type": "display_data"
    }
   ],
   "source": [
    "FALSE | FALSE"
   ]
  },
  {
   "cell_type": "code",
   "execution_count": 28,
   "metadata": {},
   "outputs": [
    {
     "data": {
      "text/html": [
       "FALSE"
      ],
      "text/latex": [
       "FALSE"
      ],
      "text/markdown": [
       "FALSE"
      ],
      "text/plain": [
       "[1] FALSE"
      ]
     },
     "metadata": {},
     "output_type": "display_data"
    }
   ],
   "source": [
    "FALSE & TRUE"
   ]
  },
  {
   "cell_type": "code",
   "execution_count": 29,
   "metadata": {},
   "outputs": [
    {
     "data": {
      "text/html": [
       "TRUE"
      ],
      "text/latex": [
       "TRUE"
      ],
      "text/markdown": [
       "TRUE"
      ],
      "text/plain": [
       "[1] TRUE"
      ]
     },
     "metadata": {},
     "output_type": "display_data"
    }
   ],
   "source": [
    "TRUE & TRUE"
   ]
  },
  {
   "cell_type": "code",
   "execution_count": 30,
   "metadata": {},
   "outputs": [
    {
     "data": {
      "text/html": [
       "FALSE"
      ],
      "text/latex": [
       "FALSE"
      ],
      "text/markdown": [
       "FALSE"
      ],
      "text/plain": [
       "[1] FALSE"
      ]
     },
     "metadata": {},
     "output_type": "display_data"
    }
   ],
   "source": [
    "FALSE & FALSE"
   ]
  },
  {
   "cell_type": "code",
   "execution_count": 37,
   "metadata": {},
   "outputs": [
    {
     "data": {
      "text/html": [
       "FALSE"
      ],
      "text/latex": [
       "FALSE"
      ],
      "text/markdown": [
       "FALSE"
      ],
      "text/plain": [
       "[1] FALSE"
      ]
     },
     "metadata": {},
     "output_type": "display_data"
    }
   ],
   "source": [
    "!TRUE"
   ]
  },
  {
   "cell_type": "code",
   "execution_count": 33,
   "metadata": {},
   "outputs": [
    {
     "data": {
      "text/html": [
       "FALSE"
      ],
      "text/latex": [
       "FALSE"
      ],
      "text/markdown": [
       "FALSE"
      ],
      "text/plain": [
       "[1] FALSE"
      ]
     },
     "metadata": {},
     "output_type": "display_data"
    }
   ],
   "source": [
    "# Los ejemplos son anteriores son demasiado simples y quizá poco útiles.\n",
    "# La primera relación es verdadera y la segunda es falsa.\n",
    "# Esto va a ser útil cuando después queramos componer varias condiciones para filtrar una estructura de datos.\n",
    "\n",
    "0 < 1 & 0 > 1"
   ]
  },
  {
   "cell_type": "code",
   "execution_count": 35,
   "metadata": {},
   "outputs": [
    {
     "data": {
      "text/html": [
       "TRUE"
      ],
      "text/latex": [
       "TRUE"
      ],
      "text/markdown": [
       "TRUE"
      ],
      "text/plain": [
       "[1] TRUE"
      ]
     },
     "metadata": {},
     "output_type": "display_data"
    }
   ],
   "source": [
    "# Ambas relaciones son verdaderas. Además podemos agregar paréntesis para visualizarlo mejor\n",
    "(0 < 1) & (2 > 1)"
   ]
  },
  {
   "cell_type": "code",
   "execution_count": 36,
   "metadata": {},
   "outputs": [
    {
     "data": {
      "text/html": [
       "FALSE"
      ],
      "text/latex": [
       "FALSE"
      ],
      "text/markdown": [
       "FALSE"
      ],
      "text/plain": [
       "[1] FALSE"
      ]
     },
     "metadata": {},
     "output_type": "display_data"
    }
   ],
   "source": [
    "# Este es exactamente el mismo ejemplo anterior, pero se invirtió el valor lógico de la primera relación.\n",
    "!(0 < 1) & (2 > 1)"
   ]
  },
  {
   "cell_type": "markdown",
   "metadata": {},
   "source": [
    "## Estructuras de datos"
   ]
  },
  {
   "cell_type": "markdown",
   "metadata": {},
   "source": [
    "Cuando necesitamos tratar a un conjunto de datos aislados como uno sólo, podemos utilizar estructuras de datos. Las estructuras de datos básicas en R son:\n",
    "* `vector`: Un conjunto unidimensional de datos de la misma clase.\n",
    "* `matrix`: Un conjunto bidimensional de datos de la misma clase.\n",
    "* `data frame`: Conjunto bidimensional de datos, donde cada columna puede contener datos de distintas clases y además una de las ventajas es que por defecto podemos añadir un nombre a cada columna."
   ]
  },
  {
   "cell_type": "markdown",
   "metadata": {},
   "source": [
    "Para inicializar un vector podemos hacerlo con la función `c()`, la cual concatena todos los elementos contenidos en los parametros que le pasemos."
   ]
  },
  {
   "cell_type": "code",
   "execution_count": 2,
   "metadata": {},
   "outputs": [
    {
     "data": {
      "text/html": [
       "<ol class=list-inline>\n",
       "\t<li>120</li>\n",
       "\t<li>121</li>\n",
       "\t<li>125</li>\n",
       "\t<li>130</li>\n",
       "\t<li>119</li>\n",
       "\t<li>88</li>\n",
       "\t<li>135</li>\n",
       "\t<li>85</li>\n",
       "\t<li>118</li>\n",
       "\t<li>132</li>\n",
       "\t<li>125</li>\n",
       "\t<li>81</li>\n",
       "\t<li>120</li>\n",
       "\t<li>150</li>\n",
       "\t<li>115</li>\n",
       "\t<li>140</li>\n",
       "\t<li>120</li>\n",
       "</ol>\n"
      ],
      "text/latex": [
       "\\begin{enumerate*}\n",
       "\\item 120\n",
       "\\item 121\n",
       "\\item 125\n",
       "\\item 130\n",
       "\\item 119\n",
       "\\item 88\n",
       "\\item 135\n",
       "\\item 85\n",
       "\\item 118\n",
       "\\item 132\n",
       "\\item 125\n",
       "\\item 81\n",
       "\\item 120\n",
       "\\item 150\n",
       "\\item 115\n",
       "\\item 140\n",
       "\\item 120\n",
       "\\end{enumerate*}\n"
      ],
      "text/markdown": [
       "1. 120\n",
       "2. 121\n",
       "3. 125\n",
       "4. 130\n",
       "5. 119\n",
       "6. 88\n",
       "7. 135\n",
       "8. 85\n",
       "9. 118\n",
       "10. 132\n",
       "11. 125\n",
       "12. 81\n",
       "13. 120\n",
       "14. 150\n",
       "15. 115\n",
       "16. 140\n",
       "17. 120\n",
       "\n",
       "\n"
      ],
      "text/plain": [
       " [1] 120 121 125 130 119  88 135  85 118 132 125  81 120 150 115 140 120"
      ]
     },
     "metadata": {},
     "output_type": "display_data"
    }
   ],
   "source": [
    "# Este es un vector de números.\n",
    "the_vector = c(120,121,125,130,119,88,135,85,118,132,125,81,120,150,115,140,120)\n",
    "the_vector"
   ]
  },
  {
   "cell_type": "code",
   "execution_count": 19,
   "metadata": {},
   "outputs": [
    {
     "data": {
      "text/html": [
       "<ol class=list-inline>\n",
       "\t<li>'1'</li>\n",
       "\t<li>'2'</li>\n",
       "\t<li>'a'</li>\n",
       "</ol>\n"
      ],
      "text/latex": [
       "\\begin{enumerate*}\n",
       "\\item '1'\n",
       "\\item '2'\n",
       "\\item 'a'\n",
       "\\end{enumerate*}\n"
      ],
      "text/markdown": [
       "1. '1'\n",
       "2. '2'\n",
       "3. 'a'\n",
       "\n",
       "\n"
      ],
      "text/plain": [
       "[1] \"1\" \"2\" \"a\""
      ]
     },
     "metadata": {},
     "output_type": "display_data"
    }
   ],
   "source": [
    "# Si a la función le pasamos elementos de distinta clase, todos se convertirán a character\n",
    "c(1,2,\"a\")"
   ]
  },
  {
   "cell_type": "markdown",
   "metadata": {},
   "source": [
    "Para acceder a un elemento o un grupo de elementos específico dentro de un vector, podemos utilizar el índice o índices de los elementos dentro de paréntesis cuadrados `[]`. Los índices parten desde el 1, distinto a otros lenguajes de programación, como por ejemplo en `Python`, donde se parte desde el 0."
   ]
  },
  {
   "cell_type": "code",
   "execution_count": 4,
   "metadata": {},
   "outputs": [
    {
     "data": {
      "text/html": [
       "120"
      ],
      "text/latex": [
       "120"
      ],
      "text/markdown": [
       "120"
      ],
      "text/plain": [
       "[1] 120"
      ]
     },
     "metadata": {},
     "output_type": "display_data"
    }
   ],
   "source": [
    "the_vector[1]"
   ]
  },
  {
   "cell_type": "code",
   "execution_count": 5,
   "metadata": {},
   "outputs": [
    {
     "data": {
      "text/html": [],
      "text/latex": [],
      "text/markdown": [],
      "text/plain": [
       "numeric(0)"
      ]
     },
     "metadata": {},
     "output_type": "display_data"
    }
   ],
   "source": [
    "the_vector[0]"
   ]
  },
  {
   "cell_type": "code",
   "execution_count": 6,
   "metadata": {
    "scrolled": true
   },
   "outputs": [
    {
     "data": {
      "text/html": [
       "<ol class=list-inline>\n",
       "\t<li>120</li>\n",
       "\t<li>85</li>\n",
       "</ol>\n"
      ],
      "text/latex": [
       "\\begin{enumerate*}\n",
       "\\item 120\n",
       "\\item 85\n",
       "\\end{enumerate*}\n"
      ],
      "text/markdown": [
       "1. 120\n",
       "2. 85\n",
       "\n",
       "\n"
      ],
      "text/plain": [
       "[1] 120  85"
      ]
     },
     "metadata": {},
     "output_type": "display_data"
    }
   ],
   "source": [
    "# Para acceder a más de un elemento podemos utilizar un vector de índices.\n",
    "the_vector[c(1,8)]"
   ]
  },
  {
   "cell_type": "code",
   "execution_count": 43,
   "metadata": {},
   "outputs": [
    {
     "data": {
      "text/html": [
       "<ol class=list-inline>\n",
       "\t<li>120</li>\n",
       "\t<li>120</li>\n",
       "</ol>\n"
      ],
      "text/latex": [
       "\\begin{enumerate*}\n",
       "\\item 120\n",
       "\\item 120\n",
       "\\end{enumerate*}\n"
      ],
      "text/markdown": [
       "1. 120\n",
       "2. 120\n",
       "\n",
       "\n"
      ],
      "text/plain": [
       "[1] 120 120"
      ]
     },
     "metadata": {},
     "output_type": "display_data"
    }
   ],
   "source": [
    "# También podemos acceder a los valores del vector con un vector de valores lógicos.\n",
    "# Una intuición de esto es que estamos encendiendo o apagando valores en el vector.\n",
    "the_vector[c(TRUE,FALSE,FALSE,FALSE,FALSE,FALSE,FALSE,FALSE,FALSE,FALSE,FALSE,FALSE,FALSE,FALSE,FALSE,FALSE,TRUE)]"
   ]
  },
  {
   "cell_type": "markdown",
   "metadata": {},
   "source": [
    "Cuando necesitemos estructurar nuestros datos de manera bidimensional, podemos utilizar la función `matrix()`, de manera similar a la función `c()`. La función `matrix()` nos devolverá un objeto de la clase `matrix`.\n",
    "\n",
    "La función `matrix()` recibe un vector y además podemos especificar el parámetro `ncol` o `nrow` para especificar el número de columnas o filas que debe tener la matriz."
   ]
  },
  {
   "cell_type": "code",
   "execution_count": 29,
   "metadata": {},
   "outputs": [
    {
     "data": {
      "text/html": [
       "<table>\n",
       "<tbody>\n",
       "\t<tr><td>1</td><td>3</td><td>5</td></tr>\n",
       "\t<tr><td>2</td><td>4</td><td>6</td></tr>\n",
       "</tbody>\n",
       "</table>\n"
      ],
      "text/latex": [
       "\\begin{tabular}{lll}\n",
       "\t 1 & 3 & 5\\\\\n",
       "\t 2 & 4 & 6\\\\\n",
       "\\end{tabular}\n"
      ],
      "text/markdown": [
       "\n",
       "| 1 | 3 | 5 |\n",
       "| 2 | 4 | 6 |\n",
       "\n"
      ],
      "text/plain": [
       "     [,1] [,2] [,3]\n",
       "[1,] 1    3    5   \n",
       "[2,] 2    4    6   "
      ]
     },
     "metadata": {},
     "output_type": "display_data"
    }
   ],
   "source": [
    "matrix(c(1,2,3,4,5,6),nrow=2)"
   ]
  },
  {
   "cell_type": "code",
   "execution_count": 3,
   "metadata": {},
   "outputs": [
    {
     "data": {
      "text/html": [
       "<table>\n",
       "<tbody>\n",
       "\t<tr><td>120</td><td>80 </td></tr>\n",
       "\t<tr><td>121</td><td>83 </td></tr>\n",
       "\t<tr><td>125</td><td>87 </td></tr>\n",
       "\t<tr><td>130</td><td>85 </td></tr>\n",
       "\t<tr><td>119</td><td>74 </td></tr>\n",
       "\t<tr><td> 88</td><td>99 </td></tr>\n",
       "\t<tr><td>135</td><td>78 </td></tr>\n",
       "\t<tr><td> 85</td><td>83 </td></tr>\n",
       "\t<tr><td>118</td><td>90 </td></tr>\n",
       "\t<tr><td>132</td><td>77 </td></tr>\n",
       "\t<tr><td>125</td><td>76 </td></tr>\n",
       "\t<tr><td> 81</td><td>78 </td></tr>\n",
       "\t<tr><td>120</td><td>86 </td></tr>\n",
       "\t<tr><td>150</td><td>98 </td></tr>\n",
       "\t<tr><td>115</td><td>78 </td></tr>\n",
       "\t<tr><td>140</td><td>69 </td></tr>\n",
       "\t<tr><td>120</td><td>65 </td></tr>\n",
       "</tbody>\n",
       "</table>\n"
      ],
      "text/latex": [
       "\\begin{tabular}{ll}\n",
       "\t 120 & 80 \\\\\n",
       "\t 121 & 83 \\\\\n",
       "\t 125 & 87 \\\\\n",
       "\t 130 & 85 \\\\\n",
       "\t 119 & 74 \\\\\n",
       "\t  88 & 99 \\\\\n",
       "\t 135 & 78 \\\\\n",
       "\t  85 & 83 \\\\\n",
       "\t 118 & 90 \\\\\n",
       "\t 132 & 77 \\\\\n",
       "\t 125 & 76 \\\\\n",
       "\t  81 & 78 \\\\\n",
       "\t 120 & 86 \\\\\n",
       "\t 150 & 98 \\\\\n",
       "\t 115 & 78 \\\\\n",
       "\t 140 & 69 \\\\\n",
       "\t 120 & 65 \\\\\n",
       "\\end{tabular}\n"
      ],
      "text/markdown": [
       "\n",
       "| 120 | 80  |\n",
       "| 121 | 83  |\n",
       "| 125 | 87  |\n",
       "| 130 | 85  |\n",
       "| 119 | 74  |\n",
       "|  88 | 99  |\n",
       "| 135 | 78  |\n",
       "|  85 | 83  |\n",
       "| 118 | 90  |\n",
       "| 132 | 77  |\n",
       "| 125 | 76  |\n",
       "|  81 | 78  |\n",
       "| 120 | 86  |\n",
       "| 150 | 98  |\n",
       "| 115 | 78  |\n",
       "| 140 | 69  |\n",
       "| 120 | 65  |\n",
       "\n"
      ],
      "text/plain": [
       "      [,1] [,2]\n",
       " [1,] 120  80  \n",
       " [2,] 121  83  \n",
       " [3,] 125  87  \n",
       " [4,] 130  85  \n",
       " [5,] 119  74  \n",
       " [6,]  88  99  \n",
       " [7,] 135  78  \n",
       " [8,]  85  83  \n",
       " [9,] 118  90  \n",
       "[10,] 132  77  \n",
       "[11,] 125  76  \n",
       "[12,]  81  78  \n",
       "[13,] 120  86  \n",
       "[14,] 150  98  \n",
       "[15,] 115  78  \n",
       "[16,] 140  69  \n",
       "[17,] 120  65  "
      ]
     },
     "metadata": {},
     "output_type": "display_data"
    }
   ],
   "source": [
    "# Inventamos un vector nuevo.\n",
    "the_vector_2 = c(80 ,83, 87, 85, 74, 99, 78, 83, 90, 77, 76, 78, 86, 98, 78, 69, 65)\n",
    "# Concatenamos con la función c() los 2 vectores que tenemos creados.\n",
    "the_matrix = matrix(c(the_vector,vector_2),ncol=2)\n",
    "the_matrix"
   ]
  },
  {
   "cell_type": "markdown",
   "metadata": {},
   "source": [
    "De un objeto de la clase `matrix` podemos obtener una columna como un `vector`, una fila como un `vector` o un elemento en específico utilizando la siguiente sintaxis.\n",
    "\n",
    "`matrix[ row, column ]`"
   ]
  },
  {
   "cell_type": "code",
   "execution_count": 9,
   "metadata": {},
   "outputs": [
    {
     "data": {
      "text/html": [
       "<ol class=list-inline>\n",
       "\t<li>121</li>\n",
       "\t<li>83</li>\n",
       "</ol>\n"
      ],
      "text/latex": [
       "\\begin{enumerate*}\n",
       "\\item 121\n",
       "\\item 83\n",
       "\\end{enumerate*}\n"
      ],
      "text/markdown": [
       "1. 121\n",
       "2. 83\n",
       "\n",
       "\n"
      ],
      "text/plain": [
       "[1] 121  83"
      ]
     },
     "metadata": {},
     "output_type": "display_data"
    }
   ],
   "source": [
    "# Seleccionando sólo la fila con el índice 2\n",
    "# Atención con que se debe escribir la coma (,), pero se deja el valor de las columnas en blanco\n",
    "the_matrix[2,]"
   ]
  },
  {
   "cell_type": "code",
   "execution_count": 10,
   "metadata": {},
   "outputs": [
    {
     "data": {
      "text/html": [
       "<ol class=list-inline>\n",
       "\t<li>80</li>\n",
       "\t<li>83</li>\n",
       "\t<li>87</li>\n",
       "\t<li>85</li>\n",
       "\t<li>74</li>\n",
       "\t<li>99</li>\n",
       "\t<li>78</li>\n",
       "\t<li>83</li>\n",
       "\t<li>90</li>\n",
       "\t<li>77</li>\n",
       "\t<li>76</li>\n",
       "\t<li>78</li>\n",
       "\t<li>86</li>\n",
       "\t<li>98</li>\n",
       "\t<li>78</li>\n",
       "\t<li>69</li>\n",
       "\t<li>65</li>\n",
       "</ol>\n"
      ],
      "text/latex": [
       "\\begin{enumerate*}\n",
       "\\item 80\n",
       "\\item 83\n",
       "\\item 87\n",
       "\\item 85\n",
       "\\item 74\n",
       "\\item 99\n",
       "\\item 78\n",
       "\\item 83\n",
       "\\item 90\n",
       "\\item 77\n",
       "\\item 76\n",
       "\\item 78\n",
       "\\item 86\n",
       "\\item 98\n",
       "\\item 78\n",
       "\\item 69\n",
       "\\item 65\n",
       "\\end{enumerate*}\n"
      ],
      "text/markdown": [
       "1. 80\n",
       "2. 83\n",
       "3. 87\n",
       "4. 85\n",
       "5. 74\n",
       "6. 99\n",
       "7. 78\n",
       "8. 83\n",
       "9. 90\n",
       "10. 77\n",
       "11. 76\n",
       "12. 78\n",
       "13. 86\n",
       "14. 98\n",
       "15. 78\n",
       "16. 69\n",
       "17. 65\n",
       "\n",
       "\n"
      ],
      "text/plain": [
       " [1] 80 83 87 85 74 99 78 83 90 77 76 78 86 98 78 69 65"
      ]
     },
     "metadata": {},
     "output_type": "display_data"
    }
   ],
   "source": [
    "# Seleccionando sólo la columna con el índice 2\n",
    "the_matrix[,2]"
   ]
  },
  {
   "cell_type": "code",
   "execution_count": 11,
   "metadata": {},
   "outputs": [
    {
     "data": {
      "text/html": [
       "83"
      ],
      "text/latex": [
       "83"
      ],
      "text/markdown": [
       "83"
      ],
      "text/plain": [
       "[1] 83"
      ]
     },
     "metadata": {},
     "output_type": "display_data"
    }
   ],
   "source": [
    "# Seleccionando el elemento en la columna 2 y la fila 2\n",
    "the_matrix[2,2]"
   ]
  },
  {
   "cell_type": "markdown",
   "metadata": {},
   "source": [
    "### Data frames"
   ]
  },
  {
   "cell_type": "markdown",
   "metadata": {},
   "source": [
    "El `data frame` es quizá la estructura de datos que más utilizaremos en ciencia de datos debido a que podemos almacenar datos de distintas clases.\n",
    "\n",
    "Podríamos entener esta estructura de datos como una `matrix` mucho más flexible, debido a que podemos mezclar tipos de datos y podemos acceder a sus columnas por los nombres que le asignemos.\n",
    "\n",
    "Por regla general vamos a almacenar por cada fila una observación y en las columnas tendremos cada atributo que describe esa observación, pueden imaginarse que cada fila representa un paciente y cada columna puede representar un signo vital distinto.\n",
    "\n",
    "Una de las formas más fáciles de generar un data frame es generarlo desde un grupo de vectores utilizando la función `data.frame()` con la siguiente sintaxis:\n",
    "\n",
    "`data.frame(<column name> = vector, <column name> = vector)`"
   ]
  },
  {
   "cell_type": "code",
   "execution_count": 57,
   "metadata": {},
   "outputs": [
    {
     "data": {
      "text/html": [
       "<table>\n",
       "<thead><tr><th scope=col>systolic</th><th scope=col>diastolic</th></tr></thead>\n",
       "<tbody>\n",
       "\t<tr><td>120</td><td>80 </td></tr>\n",
       "\t<tr><td>121</td><td>83 </td></tr>\n",
       "\t<tr><td>125</td><td>87 </td></tr>\n",
       "\t<tr><td>130</td><td>85 </td></tr>\n",
       "\t<tr><td>119</td><td>74 </td></tr>\n",
       "\t<tr><td> 88</td><td>99 </td></tr>\n",
       "\t<tr><td>135</td><td>78 </td></tr>\n",
       "\t<tr><td> 85</td><td>83 </td></tr>\n",
       "\t<tr><td>118</td><td>90 </td></tr>\n",
       "\t<tr><td>132</td><td>77 </td></tr>\n",
       "\t<tr><td>125</td><td>76 </td></tr>\n",
       "\t<tr><td> 81</td><td>78 </td></tr>\n",
       "\t<tr><td>120</td><td>86 </td></tr>\n",
       "\t<tr><td>150</td><td>98 </td></tr>\n",
       "\t<tr><td>115</td><td>78 </td></tr>\n",
       "\t<tr><td>140</td><td>69 </td></tr>\n",
       "\t<tr><td>120</td><td>65 </td></tr>\n",
       "</tbody>\n",
       "</table>\n"
      ],
      "text/latex": [
       "\\begin{tabular}{r|ll}\n",
       " systolic & diastolic\\\\\n",
       "\\hline\n",
       "\t 120 & 80 \\\\\n",
       "\t 121 & 83 \\\\\n",
       "\t 125 & 87 \\\\\n",
       "\t 130 & 85 \\\\\n",
       "\t 119 & 74 \\\\\n",
       "\t  88 & 99 \\\\\n",
       "\t 135 & 78 \\\\\n",
       "\t  85 & 83 \\\\\n",
       "\t 118 & 90 \\\\\n",
       "\t 132 & 77 \\\\\n",
       "\t 125 & 76 \\\\\n",
       "\t  81 & 78 \\\\\n",
       "\t 120 & 86 \\\\\n",
       "\t 150 & 98 \\\\\n",
       "\t 115 & 78 \\\\\n",
       "\t 140 & 69 \\\\\n",
       "\t 120 & 65 \\\\\n",
       "\\end{tabular}\n"
      ],
      "text/markdown": [
       "\n",
       "| systolic | diastolic |\n",
       "|---|---|\n",
       "| 120 | 80  |\n",
       "| 121 | 83  |\n",
       "| 125 | 87  |\n",
       "| 130 | 85  |\n",
       "| 119 | 74  |\n",
       "|  88 | 99  |\n",
       "| 135 | 78  |\n",
       "|  85 | 83  |\n",
       "| 118 | 90  |\n",
       "| 132 | 77  |\n",
       "| 125 | 76  |\n",
       "|  81 | 78  |\n",
       "| 120 | 86  |\n",
       "| 150 | 98  |\n",
       "| 115 | 78  |\n",
       "| 140 | 69  |\n",
       "| 120 | 65  |\n",
       "\n"
      ],
      "text/plain": [
       "   systolic diastolic\n",
       "1  120      80       \n",
       "2  121      83       \n",
       "3  125      87       \n",
       "4  130      85       \n",
       "5  119      74       \n",
       "6   88      99       \n",
       "7  135      78       \n",
       "8   85      83       \n",
       "9  118      90       \n",
       "10 132      77       \n",
       "11 125      76       \n",
       "12  81      78       \n",
       "13 120      86       \n",
       "14 150      98       \n",
       "15 115      78       \n",
       "16 140      69       \n",
       "17 120      65       "
      ]
     },
     "metadata": {},
     "output_type": "display_data"
    }
   ],
   "source": [
    "# Creamos un data frame desde los vectores que habíamos creado antes.\n",
    "\n",
    "blood_pressure = data.frame(systolic = the_vector, diastolic = the_vector_2)\n",
    "blood_pressure"
   ]
  },
  {
   "cell_type": "code",
   "execution_count": 58,
   "metadata": {},
   "outputs": [
    {
     "data": {
      "text/html": [
       "<ol class=list-inline>\n",
       "\t<li>120</li>\n",
       "\t<li>121</li>\n",
       "\t<li>125</li>\n",
       "\t<li>130</li>\n",
       "\t<li>119</li>\n",
       "\t<li>88</li>\n",
       "\t<li>135</li>\n",
       "\t<li>85</li>\n",
       "\t<li>118</li>\n",
       "\t<li>132</li>\n",
       "\t<li>125</li>\n",
       "\t<li>81</li>\n",
       "\t<li>120</li>\n",
       "\t<li>150</li>\n",
       "\t<li>115</li>\n",
       "\t<li>140</li>\n",
       "\t<li>120</li>\n",
       "</ol>\n"
      ],
      "text/latex": [
       "\\begin{enumerate*}\n",
       "\\item 120\n",
       "\\item 121\n",
       "\\item 125\n",
       "\\item 130\n",
       "\\item 119\n",
       "\\item 88\n",
       "\\item 135\n",
       "\\item 85\n",
       "\\item 118\n",
       "\\item 132\n",
       "\\item 125\n",
       "\\item 81\n",
       "\\item 120\n",
       "\\item 150\n",
       "\\item 115\n",
       "\\item 140\n",
       "\\item 120\n",
       "\\end{enumerate*}\n"
      ],
      "text/markdown": [
       "1. 120\n",
       "2. 121\n",
       "3. 125\n",
       "4. 130\n",
       "5. 119\n",
       "6. 88\n",
       "7. 135\n",
       "8. 85\n",
       "9. 118\n",
       "10. 132\n",
       "11. 125\n",
       "12. 81\n",
       "13. 120\n",
       "14. 150\n",
       "15. 115\n",
       "16. 140\n",
       "17. 120\n",
       "\n",
       "\n"
      ],
      "text/plain": [
       " [1] 120 121 125 130 119  88 135  85 118 132 125  81 120 150 115 140 120"
      ]
     },
     "metadata": {},
     "output_type": "display_data"
    }
   ],
   "source": [
    "# Si queremos obtener sólo los valores de la presión sistólica podemos hacerlo a través del nombre de la columna.\n",
    "\n",
    "blood_pressure$systolic"
   ]
  },
  {
   "cell_type": "code",
   "execution_count": 65,
   "metadata": {},
   "outputs": [
    {
     "data": {
      "text/html": [
       "<table>\n",
       "<thead><tr><th scope=col>systolic</th><th scope=col>diastolic</th><th scope=col>patient_name</th></tr></thead>\n",
       "<tbody>\n",
       "\t<tr><td>120     </td><td>80      </td><td>josé    </td></tr>\n",
       "\t<tr><td>121     </td><td>83      </td><td>juan    </td></tr>\n",
       "\t<tr><td>125     </td><td>87      </td><td>pedro   </td></tr>\n",
       "\t<tr><td>130     </td><td>85      </td><td>pablo   </td></tr>\n",
       "\t<tr><td>119     </td><td>74      </td><td>josé    </td></tr>\n",
       "\t<tr><td> 88     </td><td>99      </td><td>victoria</td></tr>\n",
       "\t<tr><td>135     </td><td>78      </td><td>pedro   </td></tr>\n",
       "\t<tr><td> 85     </td><td>83      </td><td>pablo   </td></tr>\n",
       "\t<tr><td>118     </td><td>90      </td><td>josé    </td></tr>\n",
       "\t<tr><td>132     </td><td>77      </td><td>juana   </td></tr>\n",
       "\t<tr><td>125     </td><td>76      </td><td>pedro   </td></tr>\n",
       "\t<tr><td> 81     </td><td>78      </td><td>pablo   </td></tr>\n",
       "\t<tr><td>120     </td><td>86      </td><td>josé    </td></tr>\n",
       "\t<tr><td>150     </td><td>98      </td><td>juan    </td></tr>\n",
       "\t<tr><td>115     </td><td>78      </td><td>pedro   </td></tr>\n",
       "\t<tr><td>140     </td><td>69      </td><td>pablo   </td></tr>\n",
       "\t<tr><td>120     </td><td>65      </td><td>maría   </td></tr>\n",
       "</tbody>\n",
       "</table>\n"
      ],
      "text/latex": [
       "\\begin{tabular}{r|lll}\n",
       " systolic & diastolic & patient\\_name\\\\\n",
       "\\hline\n",
       "\t 120      & 80       & josé    \\\\\n",
       "\t 121      & 83       & juan    \\\\\n",
       "\t 125      & 87       & pedro   \\\\\n",
       "\t 130      & 85       & pablo   \\\\\n",
       "\t 119      & 74       & josé    \\\\\n",
       "\t  88      & 99       & victoria\\\\\n",
       "\t 135      & 78       & pedro   \\\\\n",
       "\t  85      & 83       & pablo   \\\\\n",
       "\t 118      & 90       & josé    \\\\\n",
       "\t 132      & 77       & juana   \\\\\n",
       "\t 125      & 76       & pedro   \\\\\n",
       "\t  81      & 78       & pablo   \\\\\n",
       "\t 120      & 86       & josé    \\\\\n",
       "\t 150      & 98       & juan    \\\\\n",
       "\t 115      & 78       & pedro   \\\\\n",
       "\t 140      & 69       & pablo   \\\\\n",
       "\t 120      & 65       & maría   \\\\\n",
       "\\end{tabular}\n"
      ],
      "text/markdown": [
       "\n",
       "| systolic | diastolic | patient_name |\n",
       "|---|---|---|\n",
       "| 120      | 80       | josé     |\n",
       "| 121      | 83       | juan     |\n",
       "| 125      | 87       | pedro    |\n",
       "| 130      | 85       | pablo    |\n",
       "| 119      | 74       | josé     |\n",
       "|  88      | 99       | victoria |\n",
       "| 135      | 78       | pedro    |\n",
       "|  85      | 83       | pablo    |\n",
       "| 118      | 90       | josé     |\n",
       "| 132      | 77       | juana    |\n",
       "| 125      | 76       | pedro    |\n",
       "|  81      | 78       | pablo    |\n",
       "| 120      | 86       | josé     |\n",
       "| 150      | 98       | juan     |\n",
       "| 115      | 78       | pedro    |\n",
       "| 140      | 69       | pablo    |\n",
       "| 120      | 65       | maría    |\n",
       "\n"
      ],
      "text/plain": [
       "   systolic diastolic patient_name\n",
       "1  120      80        josé        \n",
       "2  121      83        juan        \n",
       "3  125      87        pedro       \n",
       "4  130      85        pablo       \n",
       "5  119      74        josé        \n",
       "6   88      99        victoria    \n",
       "7  135      78        pedro       \n",
       "8   85      83        pablo       \n",
       "9  118      90        josé        \n",
       "10 132      77        juana       \n",
       "11 125      76        pedro       \n",
       "12  81      78        pablo       \n",
       "13 120      86        josé        \n",
       "14 150      98        juan        \n",
       "15 115      78        pedro       \n",
       "16 140      69        pablo       \n",
       "17 120      65        maría       "
      ]
     },
     "metadata": {},
     "output_type": "display_data"
    }
   ],
   "source": [
    "# Agreguemos una columna nueva al data frame.\n",
    "# Atención que el vector que le concatenamos es del tipo character y antes la estructura tenía datos numeric.\n",
    "\n",
    "blood_pressure$patient_name = c(\"josé\", \"juan\", \"pedro\", \"pablo\", \"josé\", \"victoria\", \"pedro\", \"pablo\", \"josé\", \"juana\", \"pedro\", \"pablo\", \"josé\", \"juan\", \"pedro\", \"pablo\", \"maría\")\n",
    "blood_pressure"
   ]
  },
  {
   "cell_type": "code",
   "execution_count": 68,
   "metadata": {},
   "outputs": [
    {
     "data": {
      "text/html": [
       "<table>\n",
       "<thead><tr><th></th><th scope=col>systolic</th><th scope=col>diastolic</th><th scope=col>patient_name</th></tr></thead>\n",
       "<tbody>\n",
       "\t<tr><th scope=row>5</th><td>119 </td><td>74  </td><td>josé</td></tr>\n",
       "</tbody>\n",
       "</table>\n"
      ],
      "text/latex": [
       "\\begin{tabular}{r|lll}\n",
       "  & systolic & diastolic & patient\\_name\\\\\n",
       "\\hline\n",
       "\t5 & 119  & 74   & josé\\\\\n",
       "\\end{tabular}\n"
      ],
      "text/markdown": [
       "\n",
       "| <!--/--> | systolic | diastolic | patient_name |\n",
       "|---|---|---|---|\n",
       "| 5 | 119  | 74   | josé |\n",
       "\n"
      ],
      "text/plain": [
       "  systolic diastolic patient_name\n",
       "5 119      74        josé        "
      ]
     },
     "metadata": {},
     "output_type": "display_data"
    }
   ],
   "source": [
    "# Podemos acceder al dataframe usando su índice, al igual que una matrix\n",
    "\n",
    "blood_pressure[5,]"
   ]
  },
  {
   "cell_type": "code",
   "execution_count": 69,
   "metadata": {},
   "outputs": [
    {
     "data": {
      "text/html": [
       "74"
      ],
      "text/latex": [
       "74"
      ],
      "text/markdown": [
       "74"
      ],
      "text/plain": [
       "[1] 74"
      ]
     },
     "metadata": {},
     "output_type": "display_data"
    }
   ],
   "source": [
    "blood_pressure[5,2]"
   ]
  },
  {
   "cell_type": "code",
   "execution_count": 70,
   "metadata": {},
   "outputs": [
    {
     "data": {
      "text/html": [
       "<ol class=list-inline>\n",
       "\t<li>80</li>\n",
       "\t<li>83</li>\n",
       "\t<li>87</li>\n",
       "\t<li>85</li>\n",
       "\t<li>74</li>\n",
       "\t<li>99</li>\n",
       "\t<li>78</li>\n",
       "\t<li>83</li>\n",
       "\t<li>90</li>\n",
       "\t<li>77</li>\n",
       "\t<li>76</li>\n",
       "\t<li>78</li>\n",
       "\t<li>86</li>\n",
       "\t<li>98</li>\n",
       "\t<li>78</li>\n",
       "\t<li>69</li>\n",
       "\t<li>65</li>\n",
       "</ol>\n"
      ],
      "text/latex": [
       "\\begin{enumerate*}\n",
       "\\item 80\n",
       "\\item 83\n",
       "\\item 87\n",
       "\\item 85\n",
       "\\item 74\n",
       "\\item 99\n",
       "\\item 78\n",
       "\\item 83\n",
       "\\item 90\n",
       "\\item 77\n",
       "\\item 76\n",
       "\\item 78\n",
       "\\item 86\n",
       "\\item 98\n",
       "\\item 78\n",
       "\\item 69\n",
       "\\item 65\n",
       "\\end{enumerate*}\n"
      ],
      "text/markdown": [
       "1. 80\n",
       "2. 83\n",
       "3. 87\n",
       "4. 85\n",
       "5. 74\n",
       "6. 99\n",
       "7. 78\n",
       "8. 83\n",
       "9. 90\n",
       "10. 77\n",
       "11. 76\n",
       "12. 78\n",
       "13. 86\n",
       "14. 98\n",
       "15. 78\n",
       "16. 69\n",
       "17. 65\n",
       "\n",
       "\n"
      ],
      "text/plain": [
       " [1] 80 83 87 85 74 99 78 83 90 77 76 78 86 98 78 69 65"
      ]
     },
     "metadata": {},
     "output_type": "display_data"
    }
   ],
   "source": [
    "blood_pressure[,2]"
   ]
  },
  {
   "cell_type": "markdown",
   "metadata": {},
   "source": [
    "# MIMIC - III e importación de un csv"
   ]
  },
  {
   "cell_type": "markdown",
   "metadata": {},
   "source": [
    "MIMIC - III es una base de datos disponible abiertamente (al pasar una serie de evaluaciones bioéticas) de datos deidentificados de alrededor de 60.000 ingresos de pacientes a una Unidad de Paciente Crítico.\n",
    "\n",
    "Una descripción completa de todas las tablas contenidas en la base de datos se encuentra en la documentación oficial de la misma en https://mimic.physionet.org/about/mimic/ .\n",
    "\n",
    "Esta base de datos está disponible para descarga inmediata una muestra de la base de datos completa en formato `csv`, el cual es un tipo de documento en formato abierto sencillo para representar datos en forma de tabla, en las que las columnas se separan por comas.\n",
    "\n",
    "`R` tiene cuenta con la función `read.csv()` para importar estos datos y devolver un `data frame`."
   ]
  },
  {
   "cell_type": "markdown",
   "metadata": {},
   "source": [
    "Importaremos la tabla `D_ITEMS`, la cual contiene la definición de todos los ítems disponibles en la base de datos, la documentación completa de esta tabla está disponible en https://mimic.physionet.org/mimictables/d_items/ ."
   ]
  },
  {
   "cell_type": "code",
   "execution_count": 74,
   "metadata": {},
   "outputs": [
    {
     "data": {
      "text/html": [
       "<table>\n",
       "<thead><tr><th scope=col>row_id</th><th scope=col>itemid</th><th scope=col>label</th><th scope=col>abbreviation</th><th scope=col>dbsource</th><th scope=col>linksto</th><th scope=col>category</th><th scope=col>unitname</th><th scope=col>param_type</th><th scope=col>conceptid</th></tr></thead>\n",
       "<tbody>\n",
       "\t<tr><td>1                   </td><td>1435                </td><td>Sustained Nystamus  </td><td>                    </td><td>carevue             </td><td>chartevents         </td><td>                    </td><td>                    </td><td>                    </td><td>NA                  </td></tr>\n",
       "\t<tr><td>2                   </td><td>1436                </td><td>Tactile Disturbances</td><td>                    </td><td>carevue             </td><td>chartevents         </td><td>                    </td><td>                    </td><td>                    </td><td>NA                  </td></tr>\n",
       "\t<tr><td>3                   </td><td>1437                </td><td>Tremor              </td><td>                    </td><td>carevue             </td><td>chartevents         </td><td>                    </td><td>                    </td><td>                    </td><td>NA                  </td></tr>\n",
       "\t<tr><td>4                   </td><td>1438                </td><td>Ulnar Pulse [Right] </td><td>                    </td><td>carevue             </td><td>chartevents         </td><td>                    </td><td>                    </td><td>                    </td><td>NA                  </td></tr>\n",
       "\t<tr><td>5                   </td><td>1439                </td><td>Visual Disturbances </td><td>                    </td><td>carevue             </td><td>chartevents         </td><td>                    </td><td>                    </td><td>                    </td><td>NA                  </td></tr>\n",
       "\t<tr><td>6                   </td><td>1447                </td><td>Transpulmonary Pres </td><td>                    </td><td>carevue             </td><td>chartevents         </td><td>                    </td><td>                    </td><td>                    </td><td>NA                  </td></tr>\n",
       "</tbody>\n",
       "</table>\n"
      ],
      "text/latex": [
       "\\begin{tabular}{r|llllllllll}\n",
       " row\\_id & itemid & label & abbreviation & dbsource & linksto & category & unitname & param\\_type & conceptid\\\\\n",
       "\\hline\n",
       "\t 1                    & 1435                 & Sustained Nystamus   &                      & carevue              & chartevents          &                      &                      &                      & NA                  \\\\\n",
       "\t 2                    & 1436                 & Tactile Disturbances &                      & carevue              & chartevents          &                      &                      &                      & NA                  \\\\\n",
       "\t 3                    & 1437                 & Tremor               &                      & carevue              & chartevents          &                      &                      &                      & NA                  \\\\\n",
       "\t 4                        & 1438                     & Ulnar Pulse {[}Right{]}  &                          & carevue                  & chartevents              &                          &                          &                          & NA                      \\\\\n",
       "\t 5                    & 1439                 & Visual Disturbances  &                      & carevue              & chartevents          &                      &                      &                      & NA                  \\\\\n",
       "\t 6                    & 1447                 & Transpulmonary Pres  &                      & carevue              & chartevents          &                      &                      &                      & NA                  \\\\\n",
       "\\end{tabular}\n"
      ],
      "text/markdown": [
       "\n",
       "| row_id | itemid | label | abbreviation | dbsource | linksto | category | unitname | param_type | conceptid |\n",
       "|---|---|---|---|---|---|---|---|---|---|\n",
       "| 1                    | 1435                 | Sustained Nystamus   |                      | carevue              | chartevents          |                      |                      |                      | NA                   |\n",
       "| 2                    | 1436                 | Tactile Disturbances |                      | carevue              | chartevents          |                      |                      |                      | NA                   |\n",
       "| 3                    | 1437                 | Tremor               |                      | carevue              | chartevents          |                      |                      |                      | NA                   |\n",
       "| 4                    | 1438                 | Ulnar Pulse [Right]  |                      | carevue              | chartevents          |                      |                      |                      | NA                   |\n",
       "| 5                    | 1439                 | Visual Disturbances  |                      | carevue              | chartevents          |                      |                      |                      | NA                   |\n",
       "| 6                    | 1447                 | Transpulmonary Pres  |                      | carevue              | chartevents          |                      |                      |                      | NA                   |\n",
       "\n"
      ],
      "text/plain": [
       "  row_id itemid label                abbreviation dbsource linksto     category\n",
       "1 1      1435   Sustained Nystamus                carevue  chartevents         \n",
       "2 2      1436   Tactile Disturbances              carevue  chartevents         \n",
       "3 3      1437   Tremor                            carevue  chartevents         \n",
       "4 4      1438   Ulnar Pulse [Right]               carevue  chartevents         \n",
       "5 5      1439   Visual Disturbances               carevue  chartevents         \n",
       "6 6      1447   Transpulmonary Pres               carevue  chartevents         \n",
       "  unitname param_type conceptid\n",
       "1                     NA       \n",
       "2                     NA       \n",
       "3                     NA       \n",
       "4                     NA       \n",
       "5                     NA       \n",
       "6                     NA       "
      ]
     },
     "metadata": {},
     "output_type": "display_data"
    }
   ],
   "source": [
    "# Importamos el archivo D_ITEMS.csv desde la carpeta data\n",
    "# Prueba importar otra tabla desde la base de datos y lee su documentación\n",
    "d_items = read.csv(\"data/D_ITEMS.csv\")\n",
    "head(d_items) # En la siguiente clase conversaremos sobre la función head()"
   ]
  },
  {
   "cell_type": "markdown",
   "metadata": {},
   "source": [
    "Según la documentación, la columna `itemid` contiene el identificador único del ítem y la columna `label` contiene describe el concepto."
   ]
  },
  {
   "cell_type": "code",
   "execution_count": null,
   "metadata": {},
   "outputs": [],
   "source": []
  }
 ],
 "metadata": {
  "kernelspec": {
   "display_name": "R",
   "language": "R",
   "name": "ir"
  },
  "language_info": {
   "codemirror_mode": "r",
   "file_extension": ".r",
   "mimetype": "text/x-r-source",
   "name": "R",
   "pygments_lexer": "r",
   "version": "3.6.1"
  }
 },
 "nbformat": 4,
 "nbformat_minor": 4
}
