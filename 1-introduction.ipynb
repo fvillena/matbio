niiaomm{
 "cells": [
  {
   "cell_type": "code",
   "execution_count": 97,
   "metadata": {},
   "outputs": [
    {
     "data": {
      "text/html": [
       "1"
      ],
      "text/latex": [
       "1"
      ],
      "text/markdown": [
       "1"
      ],
      "text/plain": [
       "[1] 1"
      ]
     },
     "metadata": {},
     "output_type": "display_data"
    }
   ],
   "source": [
    "number = 1\n",
    "number"
   ]
  },
  {
   "cell_type": "code",
   "execution_count": 98,
   "metadata": {},
   "outputs": [
    {
     "data": {
      "text/html": [
       "'a'"
      ],
      "text/latex": [
       "'a'"
      ],
      "text/markdown": [
       "'a'"
      ],
      "text/plain": [
       "[1] \"a\""
      ]
     },
     "metadata": {},
     "output_type": "display_data"
    }
   ],
   "source": [
    "string = \"a\"\n",
    "string"
   ]
  },
  {
   "cell_type": "code",
   "execution_count": 61,
   "metadata": {},
   "outputs": [
    {
     "data": {
      "text/html": [
       "<ol class=list-inline>\n",
       "\t<li>120</li>\n",
       "\t<li>121</li>\n",
       "\t<li>125</li>\n",
       "\t<li>130</li>\n",
       "\t<li>119</li>\n",
       "\t<li>88</li>\n",
       "\t<li>135</li>\n",
       "\t<li>85</li>\n",
       "\t<li>118</li>\n",
       "\t<li>132</li>\n",
       "\t<li>125</li>\n",
       "\t<li>81</li>\n",
       "\t<li>120</li>\n",
       "\t<li>150</li>\n",
       "\t<li>115</li>\n",
       "\t<li>140</li>\n",
       "\t<li>120</li>\n",
       "</ol>\n"
      ],
      "text/latex": [
       "\\begin{enumerate*}\n",
       "\\item 120\n",
       "\\item 121\n",
       "\\item 125\n",
       "\\item 130\n",
       "\\item 119\n",
       "\\item 88\n",
       "\\item 135\n",
       "\\item 85\n",
       "\\item 118\n",
       "\\item 132\n",
       "\\item 125\n",
       "\\item 81\n",
       "\\item 120\n",
       "\\item 150\n",
       "\\item 115\n",
       "\\item 140\n",
       "\\item 120\n",
       "\\end{enumerate*}\n"
      ],
      "text/markdown": [
       "1. 120\n",
       "2. 121\n",
       "3. 125\n",
       "4. 130\n",
       "5. 119\n",
       "6. 88\n",
       "7. 135\n",
       "8. 85\n",
       "9. 118\n",
       "10. 132\n",
       "11. 125\n",
       "12. 81\n",
       "13. 120\n",
       "14. 150\n",
       "15. 115\n",
       "16. 140\n",
       "17. 120\n",
       "\n",
       "\n"
      ],
      "text/plain": [
       " [1] 120 121 125 130 119  88 135  85 118 132 125  81 120 150 115 140 120"
      ]
     },
     "metadata": {},
     "output_type": "display_data"
    }
   ],
   "source": [
    "vector = c(120,121,125,130,119,88,135,85,118,132,125,81,120,150,115,140,120)\n",
    "vector"
   ]
  },
  {
   "cell_type": "code",
   "execution_count": 99,
   "metadata": {},
   "outputs": [
    {
     "data": {
      "text/html": [
       "<ol class=list-inline>\n",
       "\t<li>'1'</li>\n",
       "\t<li>'2'</li>\n",
       "\t<li>'a'</li>\n",
       "</ol>\n"
      ],
      "text/latex": [
       "\\begin{enumerate*}\n",
       "\\item '1'\n",
       "\\item '2'\n",
       "\\item 'a'\n",
       "\\end{enumerate*}\n"
      ],
      "text/markdown": [
       "1. '1'\n",
       "2. '2'\n",
       "3. 'a'\n",
       "\n",
       "\n"
      ],
      "text/plain": [
       "[1] \"1\" \"2\" \"a\""
      ]
     },
     "metadata": {},
     "output_type": "display_data"
    }
   ],
   "source": [
    "c(1,2,\"a\")"
   ]
  },
  {
   "cell_type": "code",
   "execution_count": 62,
   "metadata": {},
   "outputs": [
    {
     "data": {
      "text/html": [
       "120"
      ],
      "text/latex": [
       "120"
      ],
      "text/markdown": [
       "120"
      ],
      "text/plain": [
       "[1] 120"
      ]
     },
     "metadata": {},
     "output_type": "display_data"
    }
   ],
   "source": [
    "vector[1]"
   ]
  },
  {
   "cell_type": "code",
   "execution_count": 63,
   "metadata": {},
   "outputs": [
    {
     "data": {
      "text/html": [
       "<ol class=list-inline>\n",
       "\t<li>120</li>\n",
       "\t<li>85</li>\n",
       "</ol>\n"
      ],
      "text/latex": [
       "\\begin{enumerate*}\n",
       "\\item 120\n",
       "\\item 85\n",
       "\\end{enumerate*}\n"
      ],
      "text/markdown": [
       "1. 120\n",
       "2. 85\n",
       "\n",
       "\n"
      ],
      "text/plain": [
       "[1] 120  85"
      ]
     },
     "metadata": {},
     "output_type": "display_data"
    }
   ],
   "source": [
    "vector[c(1,8)]"
   ]
  },
  {
   "cell_type": "code",
   "execution_count": 64,
   "metadata": {},
   "outputs": [
    {
     "data": {
      "text/html": [
       "119.058823529412"
      ],
      "text/latex": [
       "119.058823529412"
      ],
      "text/markdown": [
       "119.058823529412"
      ],
      "text/plain": [
       "[1] 119.0588"
      ]
     },
     "metadata": {},
     "output_type": "display_data"
    }
   ],
   "source": [
    "vector_mean = mean(vector)\n",
    "vector_mean"
   ]
  },
  {
   "cell_type": "code",
   "execution_count": 65,
   "metadata": {},
   "outputs": [
    {
     "data": {
      "text/html": [
       "<ol class=list-inline>\n",
       "\t<li>0.941176470588232</li>\n",
       "\t<li>1.94117647058823</li>\n",
       "\t<li>5.94117647058823</li>\n",
       "\t<li>10.9411764705882</li>\n",
       "\t<li>-0.058823529411768</li>\n",
       "\t<li>-31.0588235294118</li>\n",
       "\t<li>15.9411764705882</li>\n",
       "\t<li>-34.0588235294118</li>\n",
       "\t<li>-1.05882352941177</li>\n",
       "\t<li>12.9411764705882</li>\n",
       "\t<li>5.94117647058823</li>\n",
       "\t<li>-38.0588235294118</li>\n",
       "\t<li>0.941176470588232</li>\n",
       "\t<li>30.9411764705882</li>\n",
       "\t<li>-4.05882352941177</li>\n",
       "\t<li>20.9411764705882</li>\n",
       "\t<li>0.941176470588232</li>\n",
       "</ol>\n"
      ],
      "text/latex": [
       "\\begin{enumerate*}\n",
       "\\item 0.941176470588232\n",
       "\\item 1.94117647058823\n",
       "\\item 5.94117647058823\n",
       "\\item 10.9411764705882\n",
       "\\item -0.058823529411768\n",
       "\\item -31.0588235294118\n",
       "\\item 15.9411764705882\n",
       "\\item -34.0588235294118\n",
       "\\item -1.05882352941177\n",
       "\\item 12.9411764705882\n",
       "\\item 5.94117647058823\n",
       "\\item -38.0588235294118\n",
       "\\item 0.941176470588232\n",
       "\\item 30.9411764705882\n",
       "\\item -4.05882352941177\n",
       "\\item 20.9411764705882\n",
       "\\item 0.941176470588232\n",
       "\\end{enumerate*}\n"
      ],
      "text/markdown": [
       "1. 0.941176470588232\n",
       "2. 1.94117647058823\n",
       "3. 5.94117647058823\n",
       "4. 10.9411764705882\n",
       "5. -0.058823529411768\n",
       "6. -31.0588235294118\n",
       "7. 15.9411764705882\n",
       "8. -34.0588235294118\n",
       "9. -1.05882352941177\n",
       "10. 12.9411764705882\n",
       "11. 5.94117647058823\n",
       "12. -38.0588235294118\n",
       "13. 0.941176470588232\n",
       "14. 30.9411764705882\n",
       "15. -4.05882352941177\n",
       "16. 20.9411764705882\n",
       "17. 0.941176470588232\n",
       "\n",
       "\n"
      ],
      "text/plain": [
       " [1]   0.94117647   1.94117647   5.94117647  10.94117647  -0.05882353\n",
       " [6] -31.05882353  15.94117647 -34.05882353  -1.05882353  12.94117647\n",
       "[11]   5.94117647 -38.05882353   0.94117647  30.94117647  -4.05882353\n",
       "[16]  20.94117647   0.94117647"
      ]
     },
     "metadata": {},
     "output_type": "display_data"
    }
   ],
   "source": [
    "vector-vector_mean"
   ]
  },
  {
   "cell_type": "code",
   "execution_count": 66,
   "metadata": {},
   "outputs": [
    {
     "data": {
      "text/html": [
       "18.7165387700133"
      ],
      "text/latex": [
       "18.7165387700133"
      ],
      "text/markdown": [
       "18.7165387700133"
      ],
      "text/plain": [
       "[1] 18.71654"
      ]
     },
     "metadata": {},
     "output_type": "display_data"
    }
   ],
   "source": [
    "vector_sd = sd(vector)\n",
    "vector_sd"
   ]
  },
  {
   "cell_type": "code",
   "execution_count": 67,
   "metadata": {},
   "outputs": [],
   "source": [
    "max_lim = vector_mean+vector_sd\n",
    "min_lim = vector_mean-vector_sd"
   ]
  },
  {
   "cell_type": "code",
   "execution_count": 68,
   "metadata": {},
   "outputs": [
    {
     "data": {
      "text/html": [
       "137.775362299425"
      ],
      "text/latex": [
       "137.775362299425"
      ],
      "text/markdown": [
       "137.775362299425"
      ],
      "text/plain": [
       "[1] 137.7754"
      ]
     },
     "metadata": {},
     "output_type": "display_data"
    }
   ],
   "source": [
    "max_lim"
   ]
  },
  {
   "cell_type": "code",
   "execution_count": 69,
   "metadata": {},
   "outputs": [
    {
     "data": {
      "text/html": [
       "100.342284759398"
      ],
      "text/latex": [
       "100.342284759398"
      ],
      "text/markdown": [
       "100.342284759398"
      ],
      "text/plain": [
       "[1] 100.3423"
      ]
     },
     "metadata": {},
     "output_type": "display_data"
    }
   ],
   "source": [
    "min_lim"
   ]
  },
  {
   "cell_type": "code",
   "execution_count": 87,
   "metadata": {},
   "outputs": [
    {
     "data": {
      "text/html": [
       "TRUE"
      ],
      "text/latex": [
       "TRUE"
      ],
      "text/markdown": [
       "TRUE"
      ],
      "text/plain": [
       "[1] TRUE"
      ]
     },
     "metadata": {},
     "output_type": "display_data"
    }
   ],
   "source": [
    "TRUE"
   ]
  },
  {
   "cell_type": "code",
   "execution_count": 88,
   "metadata": {},
   "outputs": [
    {
     "data": {
      "text/html": [
       "TRUE"
      ],
      "text/latex": [
       "TRUE"
      ],
      "text/markdown": [
       "TRUE"
      ],
      "text/plain": [
       "[1] TRUE"
      ]
     },
     "metadata": {},
     "output_type": "display_data"
    }
   ],
   "source": [
    "TRUE&TRUE"
   ]
  },
  {
   "cell_type": "code",
   "execution_count": 89,
   "metadata": {},
   "outputs": [
    {
     "data": {
      "text/html": [
       "FALSE"
      ],
      "text/latex": [
       "FALSE"
      ],
      "text/markdown": [
       "FALSE"
      ],
      "text/plain": [
       "[1] FALSE"
      ]
     },
     "metadata": {},
     "output_type": "display_data"
    }
   ],
   "source": [
    "TRUE&FALSE"
   ]
  },
  {
   "cell_type": "code",
   "execution_count": 90,
   "metadata": {},
   "outputs": [
    {
     "data": {
      "text/html": [
       "TRUE"
      ],
      "text/latex": [
       "TRUE"
      ],
      "text/markdown": [
       "TRUE"
      ],
      "text/plain": [
       "[1] TRUE"
      ]
     },
     "metadata": {},
     "output_type": "display_data"
    }
   ],
   "source": [
    "TRUE|FALSE"
   ]
  },
  {
   "cell_type": "code",
   "execution_count": 91,
   "metadata": {},
   "outputs": [
    {
     "data": {
      "text/html": [
       "FALSE"
      ],
      "text/latex": [
       "FALSE"
      ],
      "text/markdown": [
       "FALSE"
      ],
      "text/plain": [
       "[1] FALSE"
      ]
     },
     "metadata": {},
     "output_type": "display_data"
    }
   ],
   "source": [
    "!TRUE"
   ]
  },
  {
   "cell_type": "code",
   "execution_count": 73,
   "metadata": {},
   "outputs": [
    {
     "data": {
      "text/html": [
       "<ol class=list-inline>\n",
       "\t<li>FALSE</li>\n",
       "\t<li>FALSE</li>\n",
       "\t<li>FALSE</li>\n",
       "\t<li>FALSE</li>\n",
       "\t<li>FALSE</li>\n",
       "\t<li>FALSE</li>\n",
       "\t<li>FALSE</li>\n",
       "\t<li>FALSE</li>\n",
       "\t<li>FALSE</li>\n",
       "\t<li>FALSE</li>\n",
       "\t<li>FALSE</li>\n",
       "\t<li>FALSE</li>\n",
       "\t<li>FALSE</li>\n",
       "\t<li>TRUE</li>\n",
       "\t<li>FALSE</li>\n",
       "\t<li>TRUE</li>\n",
       "\t<li>FALSE</li>\n",
       "</ol>\n"
      ],
      "text/latex": [
       "\\begin{enumerate*}\n",
       "\\item FALSE\n",
       "\\item FALSE\n",
       "\\item FALSE\n",
       "\\item FALSE\n",
       "\\item FALSE\n",
       "\\item FALSE\n",
       "\\item FALSE\n",
       "\\item FALSE\n",
       "\\item FALSE\n",
       "\\item FALSE\n",
       "\\item FALSE\n",
       "\\item FALSE\n",
       "\\item FALSE\n",
       "\\item TRUE\n",
       "\\item FALSE\n",
       "\\item TRUE\n",
       "\\item FALSE\n",
       "\\end{enumerate*}\n"
      ],
      "text/markdown": [
       "1. FALSE\n",
       "2. FALSE\n",
       "3. FALSE\n",
       "4. FALSE\n",
       "5. FALSE\n",
       "6. FALSE\n",
       "7. FALSE\n",
       "8. FALSE\n",
       "9. FALSE\n",
       "10. FALSE\n",
       "11. FALSE\n",
       "12. FALSE\n",
       "13. FALSE\n",
       "14. TRUE\n",
       "15. FALSE\n",
       "16. TRUE\n",
       "17. FALSE\n",
       "\n",
       "\n"
      ],
      "text/plain": [
       " [1] FALSE FALSE FALSE FALSE FALSE FALSE FALSE FALSE FALSE FALSE FALSE FALSE\n",
       "[13] FALSE  TRUE FALSE  TRUE FALSE"
      ]
     },
     "metadata": {},
     "output_type": "display_data"
    }
   ],
   "source": [
    "vector_high = vector>max_lim\n",
    "vector_high"
   ]
  },
  {
   "cell_type": "code",
   "execution_count": 77,
   "metadata": {},
   "outputs": [
    {
     "data": {
      "text/html": [
       "<ol class=list-inline>\n",
       "\t<li>FALSE</li>\n",
       "\t<li>FALSE</li>\n",
       "\t<li>FALSE</li>\n",
       "\t<li>FALSE</li>\n",
       "\t<li>FALSE</li>\n",
       "\t<li>TRUE</li>\n",
       "\t<li>FALSE</li>\n",
       "\t<li>TRUE</li>\n",
       "\t<li>FALSE</li>\n",
       "\t<li>FALSE</li>\n",
       "\t<li>FALSE</li>\n",
       "\t<li>TRUE</li>\n",
       "\t<li>FALSE</li>\n",
       "\t<li>FALSE</li>\n",
       "\t<li>FALSE</li>\n",
       "\t<li>FALSE</li>\n",
       "\t<li>FALSE</li>\n",
       "</ol>\n"
      ],
      "text/latex": [
       "\\begin{enumerate*}\n",
       "\\item FALSE\n",
       "\\item FALSE\n",
       "\\item FALSE\n",
       "\\item FALSE\n",
       "\\item FALSE\n",
       "\\item TRUE\n",
       "\\item FALSE\n",
       "\\item TRUE\n",
       "\\item FALSE\n",
       "\\item FALSE\n",
       "\\item FALSE\n",
       "\\item TRUE\n",
       "\\item FALSE\n",
       "\\item FALSE\n",
       "\\item FALSE\n",
       "\\item FALSE\n",
       "\\item FALSE\n",
       "\\end{enumerate*}\n"
      ],
      "text/markdown": [
       "1. FALSE\n",
       "2. FALSE\n",
       "3. FALSE\n",
       "4. FALSE\n",
       "5. FALSE\n",
       "6. TRUE\n",
       "7. FALSE\n",
       "8. TRUE\n",
       "9. FALSE\n",
       "10. FALSE\n",
       "11. FALSE\n",
       "12. TRUE\n",
       "13. FALSE\n",
       "14. FALSE\n",
       "15. FALSE\n",
       "16. FALSE\n",
       "17. FALSE\n",
       "\n",
       "\n"
      ],
      "text/plain": [
       " [1] FALSE FALSE FALSE FALSE FALSE  TRUE FALSE  TRUE FALSE FALSE FALSE  TRUE\n",
       "[13] FALSE FALSE FALSE FALSE FALSE"
      ]
     },
     "metadata": {},
     "output_type": "display_data"
    }
   ],
   "source": [
    "vector_low = vector<min_lim\n",
    "vector_low"
   ]
  },
  {
   "cell_type": "code",
   "execution_count": 84,
   "metadata": {},
   "outputs": [
    {
     "data": {
      "text/html": [
       "<ol class=list-inline>\n",
       "\t<li>TRUE</li>\n",
       "\t<li>TRUE</li>\n",
       "\t<li>TRUE</li>\n",
       "\t<li>TRUE</li>\n",
       "\t<li>TRUE</li>\n",
       "\t<li>FALSE</li>\n",
       "\t<li>TRUE</li>\n",
       "\t<li>FALSE</li>\n",
       "\t<li>TRUE</li>\n",
       "\t<li>TRUE</li>\n",
       "\t<li>TRUE</li>\n",
       "\t<li>FALSE</li>\n",
       "\t<li>TRUE</li>\n",
       "\t<li>FALSE</li>\n",
       "\t<li>TRUE</li>\n",
       "\t<li>FALSE</li>\n",
       "\t<li>TRUE</li>\n",
       "</ol>\n"
      ],
      "text/latex": [
       "\\begin{enumerate*}\n",
       "\\item TRUE\n",
       "\\item TRUE\n",
       "\\item TRUE\n",
       "\\item TRUE\n",
       "\\item TRUE\n",
       "\\item FALSE\n",
       "\\item TRUE\n",
       "\\item FALSE\n",
       "\\item TRUE\n",
       "\\item TRUE\n",
       "\\item TRUE\n",
       "\\item FALSE\n",
       "\\item TRUE\n",
       "\\item FALSE\n",
       "\\item TRUE\n",
       "\\item FALSE\n",
       "\\item TRUE\n",
       "\\end{enumerate*}\n"
      ],
      "text/markdown": [
       "1. TRUE\n",
       "2. TRUE\n",
       "3. TRUE\n",
       "4. TRUE\n",
       "5. TRUE\n",
       "6. FALSE\n",
       "7. TRUE\n",
       "8. FALSE\n",
       "9. TRUE\n",
       "10. TRUE\n",
       "11. TRUE\n",
       "12. FALSE\n",
       "13. TRUE\n",
       "14. FALSE\n",
       "15. TRUE\n",
       "16. FALSE\n",
       "17. TRUE\n",
       "\n",
       "\n"
      ],
      "text/plain": [
       " [1]  TRUE  TRUE  TRUE  TRUE  TRUE FALSE  TRUE FALSE  TRUE  TRUE  TRUE FALSE\n",
       "[13]  TRUE FALSE  TRUE FALSE  TRUE"
      ]
     },
     "metadata": {},
     "output_type": "display_data"
    }
   ],
   "source": [
    "vector_normal = !vector_low&!vector_high\n",
    "vector_normal"
   ]
  },
  {
   "cell_type": "code",
   "execution_count": 79,
   "metadata": {},
   "outputs": [
    {
     "data": {
      "text/html": [
       "<ol class=list-inline>\n",
       "\t<li>150</li>\n",
       "\t<li>140</li>\n",
       "</ol>\n"
      ],
      "text/latex": [
       "\\begin{enumerate*}\n",
       "\\item 150\n",
       "\\item 140\n",
       "\\end{enumerate*}\n"
      ],
      "text/markdown": [
       "1. 150\n",
       "2. 140\n",
       "\n",
       "\n"
      ],
      "text/plain": [
       "[1] 150 140"
      ]
     },
     "metadata": {},
     "output_type": "display_data"
    }
   ],
   "source": [
    "vector_high_values = vector[vector_high]\n",
    "vector_high_values"
   ]
  },
  {
   "cell_type": "code",
   "execution_count": 78,
   "metadata": {},
   "outputs": [
    {
     "data": {
      "text/html": [
       "<ol class=list-inline>\n",
       "\t<li>88</li>\n",
       "\t<li>85</li>\n",
       "\t<li>81</li>\n",
       "</ol>\n"
      ],
      "text/latex": [
       "\\begin{enumerate*}\n",
       "\\item 88\n",
       "\\item 85\n",
       "\\item 81\n",
       "\\end{enumerate*}\n"
      ],
      "text/markdown": [
       "1. 88\n",
       "2. 85\n",
       "3. 81\n",
       "\n",
       "\n"
      ],
      "text/plain": [
       "[1] 88 85 81"
      ]
     },
     "metadata": {},
     "output_type": "display_data"
    }
   ],
   "source": [
    "vector_low_values = vector[vector_low]\n",
    "vector_low_values"
   ]
  },
  {
   "cell_type": "code",
   "execution_count": 85,
   "metadata": {},
   "outputs": [
    {
     "data": {
      "text/html": [
       "<ol class=list-inline>\n",
       "\t<li>120</li>\n",
       "\t<li>121</li>\n",
       "\t<li>125</li>\n",
       "\t<li>130</li>\n",
       "\t<li>119</li>\n",
       "\t<li>135</li>\n",
       "\t<li>118</li>\n",
       "\t<li>132</li>\n",
       "\t<li>125</li>\n",
       "\t<li>120</li>\n",
       "\t<li>115</li>\n",
       "\t<li>120</li>\n",
       "</ol>\n"
      ],
      "text/latex": [
       "\\begin{enumerate*}\n",
       "\\item 120\n",
       "\\item 121\n",
       "\\item 125\n",
       "\\item 130\n",
       "\\item 119\n",
       "\\item 135\n",
       "\\item 118\n",
       "\\item 132\n",
       "\\item 125\n",
       "\\item 120\n",
       "\\item 115\n",
       "\\item 120\n",
       "\\end{enumerate*}\n"
      ],
      "text/markdown": [
       "1. 120\n",
       "2. 121\n",
       "3. 125\n",
       "4. 130\n",
       "5. 119\n",
       "6. 135\n",
       "7. 118\n",
       "8. 132\n",
       "9. 125\n",
       "10. 120\n",
       "11. 115\n",
       "12. 120\n",
       "\n",
       "\n"
      ],
      "text/plain": [
       " [1] 120 121 125 130 119 135 118 132 125 120 115 120"
      ]
     },
     "metadata": {},
     "output_type": "display_data"
    }
   ],
   "source": [
    "vector_normal_values = vector[vector_normal]\n",
    "vector_normal_values"
   ]
  },
  {
   "cell_type": "code",
   "execution_count": 86,
   "metadata": {},
   "outputs": [
    {
     "data": {
      "text/html": [
       "<ol class=list-inline>\n",
       "\t<li>88</li>\n",
       "\t<li>85</li>\n",
       "\t<li>81</li>\n",
       "\t<li>150</li>\n",
       "\t<li>140</li>\n",
       "</ol>\n"
      ],
      "text/latex": [
       "\\begin{enumerate*}\n",
       "\\item 88\n",
       "\\item 85\n",
       "\\item 81\n",
       "\\item 150\n",
       "\\item 140\n",
       "\\end{enumerate*}\n"
      ],
      "text/markdown": [
       "1. 88\n",
       "2. 85\n",
       "3. 81\n",
       "4. 150\n",
       "5. 140\n",
       "\n",
       "\n"
      ],
      "text/plain": [
       "[1]  88  85  81 150 140"
      ]
     },
     "metadata": {},
     "output_type": "display_data"
    }
   ],
   "source": [
    "vector_abnormal_values = vector[!vector_normal]\n",
    "vector_abnormal_values"
   ]
  },
  {
   "cell_type": "code",
   "execution_count": 106,
   "metadata": {},
   "outputs": [
    {
     "data": {
      "text/html": [
       "17"
      ],
      "text/latex": [
       "17"
      ],
      "text/markdown": [
       "17"
      ],
      "text/plain": [
       "[1] 17"
      ]
     },
     "metadata": {},
     "output_type": "display_data"
    }
   ],
   "source": [
    "n = length(vector)\n",
    "n"
   ]
  },
  {
   "cell_type": "code",
   "execution_count": 109,
   "metadata": {},
   "outputs": [
    {
     "data": {
      "text/html": [
       "<ol class=list-inline>\n",
       "\t<li>70.2244432996799</li>\n",
       "\t<li>111.15901162303</li>\n",
       "\t<li>59.0143258313756</li>\n",
       "\t<li>59.4947297785873</li>\n",
       "\t<li>44.9796495571591</li>\n",
       "\t<li>65.877771560227</li>\n",
       "\t<li>57.2185020753853</li>\n",
       "\t<li>120.588921312338</li>\n",
       "\t<li>110.713703274727</li>\n",
       "\t<li>59.7159756591895</li>\n",
       "\t<li>83.3621947664202</li>\n",
       "\t<li>72.822872428115</li>\n",
       "\t<li>108.691018051469</li>\n",
       "\t<li>53.4961317182463</li>\n",
       "\t<li>52.6829916680671</li>\n",
       "\t<li>96.6224895448584</li>\n",
       "\t<li>124.875242691903</li>\n",
       "</ol>\n"
      ],
      "text/latex": [
       "\\begin{enumerate*}\n",
       "\\item 70.2244432996799\n",
       "\\item 111.15901162303\n",
       "\\item 59.0143258313756\n",
       "\\item 59.4947297785873\n",
       "\\item 44.9796495571591\n",
       "\\item 65.877771560227\n",
       "\\item 57.2185020753853\n",
       "\\item 120.588921312338\n",
       "\\item 110.713703274727\n",
       "\\item 59.7159756591895\n",
       "\\item 83.3621947664202\n",
       "\\item 72.822872428115\n",
       "\\item 108.691018051469\n",
       "\\item 53.4961317182463\n",
       "\\item 52.6829916680671\n",
       "\\item 96.6224895448584\n",
       "\\item 124.875242691903\n",
       "\\end{enumerate*}\n"
      ],
      "text/markdown": [
       "1. 70.2244432996799\n",
       "2. 111.15901162303\n",
       "3. 59.0143258313756\n",
       "4. 59.4947297785873\n",
       "5. 44.9796495571591\n",
       "6. 65.877771560227\n",
       "7. 57.2185020753853\n",
       "8. 120.588921312338\n",
       "9. 110.713703274727\n",
       "10. 59.7159756591895\n",
       "11. 83.3621947664202\n",
       "12. 72.822872428115\n",
       "13. 108.691018051469\n",
       "14. 53.4961317182463\n",
       "15. 52.6829916680671\n",
       "16. 96.6224895448584\n",
       "17. 124.875242691903\n",
       "\n",
       "\n"
      ],
      "text/plain": [
       " [1]  70.22444 111.15901  59.01433  59.49473  44.97965  65.87777  57.21850\n",
       " [8] 120.58892 110.71370  59.71598  83.36219  72.82287 108.69102  53.49613\n",
       "[15]  52.68299  96.62249 124.87524"
      ]
     },
     "metadata": {},
     "output_type": "display_data"
    }
   ],
   "source": [
    "vector_2 = rnorm(n,80,20)\n",
    "vector_2"
   ]
  },
  {
   "cell_type": "code",
   "execution_count": 114,
   "metadata": {},
   "outputs": [
    {
     "data": {
      "text/html": [
       "<table>\n",
       "<tbody>\n",
       "\t<tr><td>1</td><td>3</td></tr>\n",
       "\t<tr><td>2</td><td>4</td></tr>\n",
       "</tbody>\n",
       "</table>\n"
      ],
      "text/latex": [
       "\\begin{tabular}{ll}\n",
       "\t 1 & 3\\\\\n",
       "\t 2 & 4\\\\\n",
       "\\end{tabular}\n"
      ],
      "text/markdown": [
       "\n",
       "| 1 | 3 |\n",
       "| 2 | 4 |\n",
       "\n"
      ],
      "text/plain": [
       "     [,1] [,2]\n",
       "[1,] 1    3   \n",
       "[2,] 2    4   "
      ]
     },
     "metadata": {},
     "output_type": "display_data"
    }
   ],
   "source": [
    "matrix(c(1,2,3,4),ncol=2)"
   ]
  },
  {
   "cell_type": "code",
   "execution_count": 118,
   "metadata": {},
   "outputs": [
    {
     "data": {
      "text/html": [
       "<table>\n",
       "<tbody>\n",
       "\t<tr><td>120      </td><td> 70.22444</td></tr>\n",
       "\t<tr><td>121      </td><td>111.15901</td></tr>\n",
       "\t<tr><td>125      </td><td> 59.01433</td></tr>\n",
       "\t<tr><td>130      </td><td> 59.49473</td></tr>\n",
       "\t<tr><td>119      </td><td> 44.97965</td></tr>\n",
       "\t<tr><td> 88      </td><td> 65.87777</td></tr>\n",
       "\t<tr><td>135      </td><td> 57.21850</td></tr>\n",
       "\t<tr><td> 85      </td><td>120.58892</td></tr>\n",
       "\t<tr><td>118      </td><td>110.71370</td></tr>\n",
       "\t<tr><td>132      </td><td> 59.71598</td></tr>\n",
       "\t<tr><td>125      </td><td> 83.36219</td></tr>\n",
       "\t<tr><td> 81      </td><td> 72.82287</td></tr>\n",
       "\t<tr><td>120      </td><td>108.69102</td></tr>\n",
       "\t<tr><td>150      </td><td> 53.49613</td></tr>\n",
       "\t<tr><td>115      </td><td> 52.68299</td></tr>\n",
       "\t<tr><td>140      </td><td> 96.62249</td></tr>\n",
       "\t<tr><td>120      </td><td>124.87524</td></tr>\n",
       "</tbody>\n",
       "</table>\n"
      ],
      "text/latex": [
       "\\begin{tabular}{ll}\n",
       "\t 120       &  70.22444\\\\\n",
       "\t 121       & 111.15901\\\\\n",
       "\t 125       &  59.01433\\\\\n",
       "\t 130       &  59.49473\\\\\n",
       "\t 119       &  44.97965\\\\\n",
       "\t  88       &  65.87777\\\\\n",
       "\t 135       &  57.21850\\\\\n",
       "\t  85       & 120.58892\\\\\n",
       "\t 118       & 110.71370\\\\\n",
       "\t 132       &  59.71598\\\\\n",
       "\t 125       &  83.36219\\\\\n",
       "\t  81       &  72.82287\\\\\n",
       "\t 120       & 108.69102\\\\\n",
       "\t 150       &  53.49613\\\\\n",
       "\t 115       &  52.68299\\\\\n",
       "\t 140       &  96.62249\\\\\n",
       "\t 120       & 124.87524\\\\\n",
       "\\end{tabular}\n"
      ],
      "text/markdown": [
       "\n",
       "| 120       |  70.22444 |\n",
       "| 121       | 111.15901 |\n",
       "| 125       |  59.01433 |\n",
       "| 130       |  59.49473 |\n",
       "| 119       |  44.97965 |\n",
       "|  88       |  65.87777 |\n",
       "| 135       |  57.21850 |\n",
       "|  85       | 120.58892 |\n",
       "| 118       | 110.71370 |\n",
       "| 132       |  59.71598 |\n",
       "| 125       |  83.36219 |\n",
       "|  81       |  72.82287 |\n",
       "| 120       | 108.69102 |\n",
       "| 150       |  53.49613 |\n",
       "| 115       |  52.68299 |\n",
       "| 140       |  96.62249 |\n",
       "| 120       | 124.87524 |\n",
       "\n"
      ],
      "text/plain": [
       "      [,1] [,2]     \n",
       " [1,] 120   70.22444\n",
       " [2,] 121  111.15901\n",
       " [3,] 125   59.01433\n",
       " [4,] 130   59.49473\n",
       " [5,] 119   44.97965\n",
       " [6,]  88   65.87777\n",
       " [7,] 135   57.21850\n",
       " [8,]  85  120.58892\n",
       " [9,] 118  110.71370\n",
       "[10,] 132   59.71598\n",
       "[11,] 125   83.36219\n",
       "[12,]  81   72.82287\n",
       "[13,] 120  108.69102\n",
       "[14,] 150   53.49613\n",
       "[15,] 115   52.68299\n",
       "[16,] 140   96.62249\n",
       "[17,] 120  124.87524"
      ]
     },
     "metadata": {},
     "output_type": "display_data"
    }
   ],
   "source": [
    "the_matrix = matrix(c(vector,vector_2),ncol=2)\n",
    "the_matrix"
   ]
  },
  {
   "cell_type": "code",
   "execution_count": 120,
   "metadata": {},
   "outputs": [
    {
     "data": {
      "text/html": [
       "<ol class=list-inline>\n",
       "\t<li>120</li>\n",
       "\t<li>121</li>\n",
       "\t<li>125</li>\n",
       "\t<li>130</li>\n",
       "\t<li>119</li>\n",
       "\t<li>88</li>\n",
       "\t<li>135</li>\n",
       "\t<li>85</li>\n",
       "\t<li>118</li>\n",
       "\t<li>132</li>\n",
       "\t<li>125</li>\n",
       "\t<li>81</li>\n",
       "\t<li>120</li>\n",
       "\t<li>150</li>\n",
       "\t<li>115</li>\n",
       "\t<li>140</li>\n",
       "\t<li>120</li>\n",
       "</ol>\n"
      ],
      "text/latex": [
       "\\begin{enumerate*}\n",
       "\\item 120\n",
       "\\item 121\n",
       "\\item 125\n",
       "\\item 130\n",
       "\\item 119\n",
       "\\item 88\n",
       "\\item 135\n",
       "\\item 85\n",
       "\\item 118\n",
       "\\item 132\n",
       "\\item 125\n",
       "\\item 81\n",
       "\\item 120\n",
       "\\item 150\n",
       "\\item 115\n",
       "\\item 140\n",
       "\\item 120\n",
       "\\end{enumerate*}\n"
      ],
      "text/markdown": [
       "1. 120\n",
       "2. 121\n",
       "3. 125\n",
       "4. 130\n",
       "5. 119\n",
       "6. 88\n",
       "7. 135\n",
       "8. 85\n",
       "9. 118\n",
       "10. 132\n",
       "11. 125\n",
       "12. 81\n",
       "13. 120\n",
       "14. 150\n",
       "15. 115\n",
       "16. 140\n",
       "17. 120\n",
       "\n",
       "\n"
      ],
      "text/plain": [
       " [1] 120 121 125 130 119  88 135  85 118 132 125  81 120 150 115 140 120"
      ]
     },
     "metadata": {},
     "output_type": "display_data"
    }
   ],
   "source": [
    "the_matrix[,1]"
   ]
  },
  {
   "cell_type": "code",
   "execution_count": 121,
   "metadata": {},
   "outputs": [
    {
     "data": {
      "text/html": [
       "<ol class=list-inline>\n",
       "\t<li>86.8162955331199</li>\n",
       "\t<li>114.43934108202</li>\n",
       "\t<li>81.0095505542504</li>\n",
       "\t<li>82.9964865190582</li>\n",
       "\t<li>69.6530997047727</li>\n",
       "\t<li>73.251847706818</li>\n",
       "\t<li>83.1456680502569</li>\n",
       "\t<li>108.725947541559</li>\n",
       "\t<li>113.142468849818</li>\n",
       "\t<li>83.8106504394597</li>\n",
       "\t<li>97.2414631776135</li>\n",
       "\t<li>75.5485816187433</li>\n",
       "\t<li>112.46067870098</li>\n",
       "\t<li>85.6640878121642</li>\n",
       "\t<li>73.4553277787114</li>\n",
       "\t<li>111.081659696572</li>\n",
       "\t<li>123.250161794602</li>\n",
       "</ol>\n"
      ],
      "text/latex": [
       "\\begin{enumerate*}\n",
       "\\item 86.8162955331199\n",
       "\\item 114.43934108202\n",
       "\\item 81.0095505542504\n",
       "\\item 82.9964865190582\n",
       "\\item 69.6530997047727\n",
       "\\item 73.251847706818\n",
       "\\item 83.1456680502569\n",
       "\\item 108.725947541559\n",
       "\\item 113.142468849818\n",
       "\\item 83.8106504394597\n",
       "\\item 97.2414631776135\n",
       "\\item 75.5485816187433\n",
       "\\item 112.46067870098\n",
       "\\item 85.6640878121642\n",
       "\\item 73.4553277787114\n",
       "\\item 111.081659696572\n",
       "\\item 123.250161794602\n",
       "\\end{enumerate*}\n"
      ],
      "text/markdown": [
       "1. 86.8162955331199\n",
       "2. 114.43934108202\n",
       "3. 81.0095505542504\n",
       "4. 82.9964865190582\n",
       "5. 69.6530997047727\n",
       "6. 73.251847706818\n",
       "7. 83.1456680502569\n",
       "8. 108.725947541559\n",
       "9. 113.142468849818\n",
       "10. 83.8106504394597\n",
       "11. 97.2414631776135\n",
       "12. 75.5485816187433\n",
       "13. 112.46067870098\n",
       "14. 85.6640878121642\n",
       "15. 73.4553277787114\n",
       "16. 111.081659696572\n",
       "17. 123.250161794602\n",
       "\n",
       "\n"
      ],
      "text/plain": [
       " [1]  86.81630 114.43934  81.00955  82.99649  69.65310  73.25185  83.14567\n",
       " [8] 108.72595 113.14247  83.81065  97.24146  75.54858 112.46068  85.66409\n",
       "[15]  73.45533 111.08166 123.25016"
      ]
     },
     "metadata": {},
     "output_type": "display_data"
    }
   ],
   "source": [
    "mbp = the_matrix[,2]+(1/3)*(the_matrix[,1]-the_matrix[,2])\n",
    "mbp"
   ]
  },
  {
   "cell_type": "code",
   "execution_count": 136,
   "metadata": {},
   "outputs": [
    {
     "data": {
      "text/html": [
       "<table>\n",
       "<tbody>\n",
       "\t<tr><td>120      </td><td> 70.22444</td><td> 86.81630</td></tr>\n",
       "\t<tr><td>121      </td><td>111.15901</td><td>114.43934</td></tr>\n",
       "\t<tr><td>125      </td><td> 59.01433</td><td> 81.00955</td></tr>\n",
       "\t<tr><td>130      </td><td> 59.49473</td><td> 82.99649</td></tr>\n",
       "\t<tr><td>119      </td><td> 44.97965</td><td> 69.65310</td></tr>\n",
       "\t<tr><td> 88      </td><td> 65.87777</td><td> 73.25185</td></tr>\n",
       "\t<tr><td>135      </td><td> 57.21850</td><td> 83.14567</td></tr>\n",
       "\t<tr><td> 85      </td><td>120.58892</td><td>108.72595</td></tr>\n",
       "\t<tr><td>118      </td><td>110.71370</td><td>113.14247</td></tr>\n",
       "\t<tr><td>132      </td><td> 59.71598</td><td> 83.81065</td></tr>\n",
       "\t<tr><td>125      </td><td> 83.36219</td><td> 97.24146</td></tr>\n",
       "\t<tr><td> 81      </td><td> 72.82287</td><td> 75.54858</td></tr>\n",
       "\t<tr><td>120      </td><td>108.69102</td><td>112.46068</td></tr>\n",
       "\t<tr><td>150      </td><td> 53.49613</td><td> 85.66409</td></tr>\n",
       "\t<tr><td>115      </td><td> 52.68299</td><td> 73.45533</td></tr>\n",
       "\t<tr><td>140      </td><td> 96.62249</td><td>111.08166</td></tr>\n",
       "\t<tr><td>120      </td><td>124.87524</td><td>123.25016</td></tr>\n",
       "</tbody>\n",
       "</table>\n"
      ],
      "text/latex": [
       "\\begin{tabular}{lll}\n",
       "\t 120       &  70.22444 &  86.81630\\\\\n",
       "\t 121       & 111.15901 & 114.43934\\\\\n",
       "\t 125       &  59.01433 &  81.00955\\\\\n",
       "\t 130       &  59.49473 &  82.99649\\\\\n",
       "\t 119       &  44.97965 &  69.65310\\\\\n",
       "\t  88       &  65.87777 &  73.25185\\\\\n",
       "\t 135       &  57.21850 &  83.14567\\\\\n",
       "\t  85       & 120.58892 & 108.72595\\\\\n",
       "\t 118       & 110.71370 & 113.14247\\\\\n",
       "\t 132       &  59.71598 &  83.81065\\\\\n",
       "\t 125       &  83.36219 &  97.24146\\\\\n",
       "\t  81       &  72.82287 &  75.54858\\\\\n",
       "\t 120       & 108.69102 & 112.46068\\\\\n",
       "\t 150       &  53.49613 &  85.66409\\\\\n",
       "\t 115       &  52.68299 &  73.45533\\\\\n",
       "\t 140       &  96.62249 & 111.08166\\\\\n",
       "\t 120       & 124.87524 & 123.25016\\\\\n",
       "\\end{tabular}\n"
      ],
      "text/markdown": [
       "\n",
       "| 120       |  70.22444 |  86.81630 |\n",
       "| 121       | 111.15901 | 114.43934 |\n",
       "| 125       |  59.01433 |  81.00955 |\n",
       "| 130       |  59.49473 |  82.99649 |\n",
       "| 119       |  44.97965 |  69.65310 |\n",
       "|  88       |  65.87777 |  73.25185 |\n",
       "| 135       |  57.21850 |  83.14567 |\n",
       "|  85       | 120.58892 | 108.72595 |\n",
       "| 118       | 110.71370 | 113.14247 |\n",
       "| 132       |  59.71598 |  83.81065 |\n",
       "| 125       |  83.36219 |  97.24146 |\n",
       "|  81       |  72.82287 |  75.54858 |\n",
       "| 120       | 108.69102 | 112.46068 |\n",
       "| 150       |  53.49613 |  85.66409 |\n",
       "| 115       |  52.68299 |  73.45533 |\n",
       "| 140       |  96.62249 | 111.08166 |\n",
       "| 120       | 124.87524 | 123.25016 |\n",
       "\n"
      ],
      "text/plain": [
       "      [,1] [,2]      [,3]     \n",
       " [1,] 120   70.22444  86.81630\n",
       " [2,] 121  111.15901 114.43934\n",
       " [3,] 125   59.01433  81.00955\n",
       " [4,] 130   59.49473  82.99649\n",
       " [5,] 119   44.97965  69.65310\n",
       " [6,]  88   65.87777  73.25185\n",
       " [7,] 135   57.21850  83.14567\n",
       " [8,]  85  120.58892 108.72595\n",
       " [9,] 118  110.71370 113.14247\n",
       "[10,] 132   59.71598  83.81065\n",
       "[11,] 125   83.36219  97.24146\n",
       "[12,]  81   72.82287  75.54858\n",
       "[13,] 120  108.69102 112.46068\n",
       "[14,] 150   53.49613  85.66409\n",
       "[15,] 115   52.68299  73.45533\n",
       "[16,] 140   96.62249 111.08166\n",
       "[17,] 120  124.87524 123.25016"
      ]
     },
     "metadata": {},
     "output_type": "display_data"
    }
   ],
   "source": [
    "new_matrix = cbind(the_matrix,mbp)\n",
    "unname(new_matrix)"
   ]
  },
  {
   "cell_type": "code",
   "execution_count": null,
   "metadata": {},
   "outputs": [],
   "source": []
  }
 ],
 "metadata": {
  "kernelspec": {
   "display_name": "R",
   "language": "R",
   "name": "ir"
  },
  "language_info": {
   "codemirror_mode": "r",
   "file_extension": ".r",
   "mimetype": "text/x-r-source",
   "name": "R",
   "pygments_lexer": "r",
   "version": "3.6.1"
  }
 },
 "nbformat": 4,
 "nbformat_minor": 4
}
