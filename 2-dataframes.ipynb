{
 "cells": [
  {
   "cell_type": "markdown",
   "metadata": {},
   "source": [
    "# Data Frames"
   ]
  },
  {
   "cell_type": "markdown",
   "metadata": {},
   "source": [
    "El `data frame` es quizá la estructura de datos que más utilizaremos en ciencia de datos debido a que podemos almacenar datos de distintas clases.\n",
    "\n",
    "Podríamos entener esta estructura de datos como una `matrix` mucho más flexible, debido a que podemos mezclar tipos de datos y podemos acceder a sus columnas por los nombres que le asignemos.\n",
    "\n",
    "Por regla general vamos a almacenar por cada fila una observación y en las columnas tendremos cada atributo que describe esa observación, pueden imaginarse que cada fila representa un paciente y cada columna puede representar un signo vital distinto.\n",
    "\n",
    "Una de las formas más fáciles de generar un data frame es generarlo desde un grupo de vectores utilizando la función `data.frame()` con la siguiente sintaxis:\n",
    "\n",
    "`data.frame(<column name> = vector, <column name> = vector)`"
   ]
  },
  {
   "cell_type": "code",
   "execution_count": 1,
   "metadata": {},
   "outputs": [
    {
     "data": {
      "text/html": [
       "<table>\n",
       "<thead><tr><th scope=col>systolic</th><th scope=col>diastolic</th></tr></thead>\n",
       "<tbody>\n",
       "\t<tr><td>120</td><td>80 </td></tr>\n",
       "\t<tr><td>121</td><td>83 </td></tr>\n",
       "\t<tr><td>125</td><td>87 </td></tr>\n",
       "\t<tr><td>130</td><td>85 </td></tr>\n",
       "\t<tr><td>119</td><td>74 </td></tr>\n",
       "\t<tr><td> 88</td><td>99 </td></tr>\n",
       "\t<tr><td>135</td><td>78 </td></tr>\n",
       "\t<tr><td> 85</td><td>83 </td></tr>\n",
       "\t<tr><td>118</td><td>90 </td></tr>\n",
       "\t<tr><td>132</td><td>77 </td></tr>\n",
       "\t<tr><td>125</td><td>76 </td></tr>\n",
       "\t<tr><td> 81</td><td>78 </td></tr>\n",
       "\t<tr><td>120</td><td>86 </td></tr>\n",
       "\t<tr><td>150</td><td>98 </td></tr>\n",
       "\t<tr><td>115</td><td>78 </td></tr>\n",
       "\t<tr><td>140</td><td>69 </td></tr>\n",
       "\t<tr><td>120</td><td>65 </td></tr>\n",
       "</tbody>\n",
       "</table>\n"
      ],
      "text/latex": [
       "\\begin{tabular}{r|ll}\n",
       " systolic & diastolic\\\\\n",
       "\\hline\n",
       "\t 120 & 80 \\\\\n",
       "\t 121 & 83 \\\\\n",
       "\t 125 & 87 \\\\\n",
       "\t 130 & 85 \\\\\n",
       "\t 119 & 74 \\\\\n",
       "\t  88 & 99 \\\\\n",
       "\t 135 & 78 \\\\\n",
       "\t  85 & 83 \\\\\n",
       "\t 118 & 90 \\\\\n",
       "\t 132 & 77 \\\\\n",
       "\t 125 & 76 \\\\\n",
       "\t  81 & 78 \\\\\n",
       "\t 120 & 86 \\\\\n",
       "\t 150 & 98 \\\\\n",
       "\t 115 & 78 \\\\\n",
       "\t 140 & 69 \\\\\n",
       "\t 120 & 65 \\\\\n",
       "\\end{tabular}\n"
      ],
      "text/markdown": [
       "\n",
       "| systolic | diastolic |\n",
       "|---|---|\n",
       "| 120 | 80  |\n",
       "| 121 | 83  |\n",
       "| 125 | 87  |\n",
       "| 130 | 85  |\n",
       "| 119 | 74  |\n",
       "|  88 | 99  |\n",
       "| 135 | 78  |\n",
       "|  85 | 83  |\n",
       "| 118 | 90  |\n",
       "| 132 | 77  |\n",
       "| 125 | 76  |\n",
       "|  81 | 78  |\n",
       "| 120 | 86  |\n",
       "| 150 | 98  |\n",
       "| 115 | 78  |\n",
       "| 140 | 69  |\n",
       "| 120 | 65  |\n",
       "\n"
      ],
      "text/plain": [
       "   systolic diastolic\n",
       "1  120      80       \n",
       "2  121      83       \n",
       "3  125      87       \n",
       "4  130      85       \n",
       "5  119      74       \n",
       "6   88      99       \n",
       "7  135      78       \n",
       "8   85      83       \n",
       "9  118      90       \n",
       "10 132      77       \n",
       "11 125      76       \n",
       "12  81      78       \n",
       "13 120      86       \n",
       "14 150      98       \n",
       "15 115      78       \n",
       "16 140      69       \n",
       "17 120      65       "
      ]
     },
     "metadata": {},
     "output_type": "display_data"
    }
   ],
   "source": [
    "# Creamos un data frame desde un par de vectores.\n",
    "\n",
    "the_vector = c(120,121,125,130,119,88,135,85,118,132,125,81,120,150,115,140,120)\n",
    "the_vector_2 = c(80 ,83, 87, 85, 74, 99, 78, 83, 90, 77, 76, 78, 86, 98, 78, 69, 65)\n",
    "\n",
    "blood_pressure = data.frame(systolic = the_vector, diastolic = the_vector_2)\n",
    "blood_pressure"
   ]
  },
  {
   "cell_type": "code",
   "execution_count": 2,
   "metadata": {},
   "outputs": [
    {
     "data": {
      "text/html": [
       "<ol class=list-inline>\n",
       "\t<li>120</li>\n",
       "\t<li>121</li>\n",
       "\t<li>125</li>\n",
       "\t<li>130</li>\n",
       "\t<li>119</li>\n",
       "\t<li>88</li>\n",
       "\t<li>135</li>\n",
       "\t<li>85</li>\n",
       "\t<li>118</li>\n",
       "\t<li>132</li>\n",
       "\t<li>125</li>\n",
       "\t<li>81</li>\n",
       "\t<li>120</li>\n",
       "\t<li>150</li>\n",
       "\t<li>115</li>\n",
       "\t<li>140</li>\n",
       "\t<li>120</li>\n",
       "</ol>\n"
      ],
      "text/latex": [
       "\\begin{enumerate*}\n",
       "\\item 120\n",
       "\\item 121\n",
       "\\item 125\n",
       "\\item 130\n",
       "\\item 119\n",
       "\\item 88\n",
       "\\item 135\n",
       "\\item 85\n",
       "\\item 118\n",
       "\\item 132\n",
       "\\item 125\n",
       "\\item 81\n",
       "\\item 120\n",
       "\\item 150\n",
       "\\item 115\n",
       "\\item 140\n",
       "\\item 120\n",
       "\\end{enumerate*}\n"
      ],
      "text/markdown": [
       "1. 120\n",
       "2. 121\n",
       "3. 125\n",
       "4. 130\n",
       "5. 119\n",
       "6. 88\n",
       "7. 135\n",
       "8. 85\n",
       "9. 118\n",
       "10. 132\n",
       "11. 125\n",
       "12. 81\n",
       "13. 120\n",
       "14. 150\n",
       "15. 115\n",
       "16. 140\n",
       "17. 120\n",
       "\n",
       "\n"
      ],
      "text/plain": [
       " [1] 120 121 125 130 119  88 135  85 118 132 125  81 120 150 115 140 120"
      ]
     },
     "metadata": {},
     "output_type": "display_data"
    }
   ],
   "source": [
    "# Si queremos obtener sólo los valores de la presión sistólica podemos hacerlo a través del nombre de la columna.\n",
    "\n",
    "blood_pressure$systolic"
   ]
  },
  {
   "cell_type": "code",
   "execution_count": 3,
   "metadata": {},
   "outputs": [
    {
     "data": {
      "text/html": [
       "<table>\n",
       "<thead><tr><th scope=col>systolic</th><th scope=col>diastolic</th><th scope=col>patient_name</th></tr></thead>\n",
       "<tbody>\n",
       "\t<tr><td>120     </td><td>80      </td><td>josé    </td></tr>\n",
       "\t<tr><td>121     </td><td>83      </td><td>juan    </td></tr>\n",
       "\t<tr><td>125     </td><td>87      </td><td>pedro   </td></tr>\n",
       "\t<tr><td>130     </td><td>85      </td><td>pablo   </td></tr>\n",
       "\t<tr><td>119     </td><td>74      </td><td>josé    </td></tr>\n",
       "\t<tr><td> 88     </td><td>99      </td><td>victoria</td></tr>\n",
       "\t<tr><td>135     </td><td>78      </td><td>pedro   </td></tr>\n",
       "\t<tr><td> 85     </td><td>83      </td><td>pablo   </td></tr>\n",
       "\t<tr><td>118     </td><td>90      </td><td>josé    </td></tr>\n",
       "\t<tr><td>132     </td><td>77      </td><td>juana   </td></tr>\n",
       "\t<tr><td>125     </td><td>76      </td><td>pedro   </td></tr>\n",
       "\t<tr><td> 81     </td><td>78      </td><td>pablo   </td></tr>\n",
       "\t<tr><td>120     </td><td>86      </td><td>josé    </td></tr>\n",
       "\t<tr><td>150     </td><td>98      </td><td>juan    </td></tr>\n",
       "\t<tr><td>115     </td><td>78      </td><td>pedro   </td></tr>\n",
       "\t<tr><td>140     </td><td>69      </td><td>pablo   </td></tr>\n",
       "\t<tr><td>120     </td><td>65      </td><td>maría   </td></tr>\n",
       "</tbody>\n",
       "</table>\n"
      ],
      "text/latex": [
       "\\begin{tabular}{r|lll}\n",
       " systolic & diastolic & patient\\_name\\\\\n",
       "\\hline\n",
       "\t 120      & 80       & josé    \\\\\n",
       "\t 121      & 83       & juan    \\\\\n",
       "\t 125      & 87       & pedro   \\\\\n",
       "\t 130      & 85       & pablo   \\\\\n",
       "\t 119      & 74       & josé    \\\\\n",
       "\t  88      & 99       & victoria\\\\\n",
       "\t 135      & 78       & pedro   \\\\\n",
       "\t  85      & 83       & pablo   \\\\\n",
       "\t 118      & 90       & josé    \\\\\n",
       "\t 132      & 77       & juana   \\\\\n",
       "\t 125      & 76       & pedro   \\\\\n",
       "\t  81      & 78       & pablo   \\\\\n",
       "\t 120      & 86       & josé    \\\\\n",
       "\t 150      & 98       & juan    \\\\\n",
       "\t 115      & 78       & pedro   \\\\\n",
       "\t 140      & 69       & pablo   \\\\\n",
       "\t 120      & 65       & maría   \\\\\n",
       "\\end{tabular}\n"
      ],
      "text/markdown": [
       "\n",
       "| systolic | diastolic | patient_name |\n",
       "|---|---|---|\n",
       "| 120      | 80       | josé     |\n",
       "| 121      | 83       | juan     |\n",
       "| 125      | 87       | pedro    |\n",
       "| 130      | 85       | pablo    |\n",
       "| 119      | 74       | josé     |\n",
       "|  88      | 99       | victoria |\n",
       "| 135      | 78       | pedro    |\n",
       "|  85      | 83       | pablo    |\n",
       "| 118      | 90       | josé     |\n",
       "| 132      | 77       | juana    |\n",
       "| 125      | 76       | pedro    |\n",
       "|  81      | 78       | pablo    |\n",
       "| 120      | 86       | josé     |\n",
       "| 150      | 98       | juan     |\n",
       "| 115      | 78       | pedro    |\n",
       "| 140      | 69       | pablo    |\n",
       "| 120      | 65       | maría    |\n",
       "\n"
      ],
      "text/plain": [
       "   systolic diastolic patient_name\n",
       "1  120      80        josé        \n",
       "2  121      83        juan        \n",
       "3  125      87        pedro       \n",
       "4  130      85        pablo       \n",
       "5  119      74        josé        \n",
       "6   88      99        victoria    \n",
       "7  135      78        pedro       \n",
       "8   85      83        pablo       \n",
       "9  118      90        josé        \n",
       "10 132      77        juana       \n",
       "11 125      76        pedro       \n",
       "12  81      78        pablo       \n",
       "13 120      86        josé        \n",
       "14 150      98        juan        \n",
       "15 115      78        pedro       \n",
       "16 140      69        pablo       \n",
       "17 120      65        maría       "
      ]
     },
     "metadata": {},
     "output_type": "display_data"
    }
   ],
   "source": [
    "# Agreguemos una columna nueva al data frame.\n",
    "# Atención que el vector que le concatenamos es del tipo character y antes la estructura tenía datos numeric.\n",
    "\n",
    "blood_pressure$patient_name = c(\"josé\", \"juan\", \"pedro\", \"pablo\", \"josé\", \"victoria\", \"pedro\", \"pablo\", \"josé\", \"juana\", \"pedro\", \"pablo\", \"josé\", \"juan\", \"pedro\", \"pablo\", \"maría\")\n",
    "blood_pressure"
   ]
  },
  {
   "cell_type": "code",
   "execution_count": 4,
   "metadata": {},
   "outputs": [
    {
     "data": {
      "text/html": [
       "<table>\n",
       "<thead><tr><th></th><th scope=col>systolic</th><th scope=col>diastolic</th><th scope=col>patient_name</th></tr></thead>\n",
       "<tbody>\n",
       "\t<tr><th scope=row>5</th><td>119 </td><td>74  </td><td>josé</td></tr>\n",
       "</tbody>\n",
       "</table>\n"
      ],
      "text/latex": [
       "\\begin{tabular}{r|lll}\n",
       "  & systolic & diastolic & patient\\_name\\\\\n",
       "\\hline\n",
       "\t5 & 119  & 74   & josé\\\\\n",
       "\\end{tabular}\n"
      ],
      "text/markdown": [
       "\n",
       "| <!--/--> | systolic | diastolic | patient_name |\n",
       "|---|---|---|---|\n",
       "| 5 | 119  | 74   | josé |\n",
       "\n"
      ],
      "text/plain": [
       "  systolic diastolic patient_name\n",
       "5 119      74        josé        "
      ]
     },
     "metadata": {},
     "output_type": "display_data"
    }
   ],
   "source": [
    "# Podemos acceder al dataframe usando su índice, al igual que una matrix\n",
    "\n",
    "blood_pressure[5,]"
   ]
  },
  {
   "cell_type": "code",
   "execution_count": 5,
   "metadata": {},
   "outputs": [
    {
     "data": {
      "text/html": [
       "74"
      ],
      "text/latex": [
       "74"
      ],
      "text/markdown": [
       "74"
      ],
      "text/plain": [
       "[1] 74"
      ]
     },
     "metadata": {},
     "output_type": "display_data"
    }
   ],
   "source": [
    "blood_pressure[5,2]"
   ]
  },
  {
   "cell_type": "code",
   "execution_count": 6,
   "metadata": {},
   "outputs": [
    {
     "data": {
      "text/html": [
       "<ol class=list-inline>\n",
       "\t<li>80</li>\n",
       "\t<li>83</li>\n",
       "\t<li>87</li>\n",
       "\t<li>85</li>\n",
       "\t<li>74</li>\n",
       "\t<li>99</li>\n",
       "\t<li>78</li>\n",
       "\t<li>83</li>\n",
       "\t<li>90</li>\n",
       "\t<li>77</li>\n",
       "\t<li>76</li>\n",
       "\t<li>78</li>\n",
       "\t<li>86</li>\n",
       "\t<li>98</li>\n",
       "\t<li>78</li>\n",
       "\t<li>69</li>\n",
       "\t<li>65</li>\n",
       "</ol>\n"
      ],
      "text/latex": [
       "\\begin{enumerate*}\n",
       "\\item 80\n",
       "\\item 83\n",
       "\\item 87\n",
       "\\item 85\n",
       "\\item 74\n",
       "\\item 99\n",
       "\\item 78\n",
       "\\item 83\n",
       "\\item 90\n",
       "\\item 77\n",
       "\\item 76\n",
       "\\item 78\n",
       "\\item 86\n",
       "\\item 98\n",
       "\\item 78\n",
       "\\item 69\n",
       "\\item 65\n",
       "\\end{enumerate*}\n"
      ],
      "text/markdown": [
       "1. 80\n",
       "2. 83\n",
       "3. 87\n",
       "4. 85\n",
       "5. 74\n",
       "6. 99\n",
       "7. 78\n",
       "8. 83\n",
       "9. 90\n",
       "10. 77\n",
       "11. 76\n",
       "12. 78\n",
       "13. 86\n",
       "14. 98\n",
       "15. 78\n",
       "16. 69\n",
       "17. 65\n",
       "\n",
       "\n"
      ],
      "text/plain": [
       " [1] 80 83 87 85 74 99 78 83 90 77 76 78 86 98 78 69 65"
      ]
     },
     "metadata": {},
     "output_type": "display_data"
    }
   ],
   "source": [
    "blood_pressure[,2]"
   ]
  },
  {
   "cell_type": "markdown",
   "metadata": {},
   "source": [
    "Para poder filtrar un grupo de observaciones en un `data frame` podemos pasar un vector de índices que queremos recuperar o un vector lógico creado a través de aplicar un operador relacional a una fila o columna."
   ]
  },
  {
   "cell_type": "code",
   "execution_count": 7,
   "metadata": {},
   "outputs": [
    {
     "data": {
      "text/html": [
       "<table>\n",
       "<thead><tr><th></th><th scope=col>systolic</th><th scope=col>diastolic</th><th scope=col>patient_name</th></tr></thead>\n",
       "<tbody>\n",
       "\t<tr><th scope=row>1</th><td>120  </td><td>80   </td><td>josé </td></tr>\n",
       "\t<tr><th scope=row>3</th><td>125  </td><td>87   </td><td>pedro</td></tr>\n",
       "</tbody>\n",
       "</table>\n"
      ],
      "text/latex": [
       "\\begin{tabular}{r|lll}\n",
       "  & systolic & diastolic & patient\\_name\\\\\n",
       "\\hline\n",
       "\t1 & 120   & 80    & josé \\\\\n",
       "\t3 & 125   & 87    & pedro\\\\\n",
       "\\end{tabular}\n"
      ],
      "text/markdown": [
       "\n",
       "| <!--/--> | systolic | diastolic | patient_name |\n",
       "|---|---|---|---|\n",
       "| 1 | 120   | 80    | josé  |\n",
       "| 3 | 125   | 87    | pedro |\n",
       "\n"
      ],
      "text/plain": [
       "  systolic diastolic patient_name\n",
       "1 120      80        josé        \n",
       "3 125      87        pedro       "
      ]
     },
     "metadata": {},
     "output_type": "display_data"
    }
   ],
   "source": [
    "# Extrayendo sólo la fila 1 y 3\n",
    "blood_pressure[c(1,3),]"
   ]
  },
  {
   "cell_type": "code",
   "execution_count": 8,
   "metadata": {},
   "outputs": [
    {
     "data": {
      "text/html": [
       "<table>\n",
       "<thead><tr><th scope=col>systolic</th><th scope=col>patient_name</th></tr></thead>\n",
       "<tbody>\n",
       "\t<tr><td>120     </td><td>josé    </td></tr>\n",
       "\t<tr><td>121     </td><td>juan    </td></tr>\n",
       "\t<tr><td>125     </td><td>pedro   </td></tr>\n",
       "\t<tr><td>130     </td><td>pablo   </td></tr>\n",
       "\t<tr><td>119     </td><td>josé    </td></tr>\n",
       "\t<tr><td> 88     </td><td>victoria</td></tr>\n",
       "\t<tr><td>135     </td><td>pedro   </td></tr>\n",
       "\t<tr><td> 85     </td><td>pablo   </td></tr>\n",
       "\t<tr><td>118     </td><td>josé    </td></tr>\n",
       "\t<tr><td>132     </td><td>juana   </td></tr>\n",
       "\t<tr><td>125     </td><td>pedro   </td></tr>\n",
       "\t<tr><td> 81     </td><td>pablo   </td></tr>\n",
       "\t<tr><td>120     </td><td>josé    </td></tr>\n",
       "\t<tr><td>150     </td><td>juan    </td></tr>\n",
       "\t<tr><td>115     </td><td>pedro   </td></tr>\n",
       "\t<tr><td>140     </td><td>pablo   </td></tr>\n",
       "\t<tr><td>120     </td><td>maría   </td></tr>\n",
       "</tbody>\n",
       "</table>\n"
      ],
      "text/latex": [
       "\\begin{tabular}{r|ll}\n",
       " systolic & patient\\_name\\\\\n",
       "\\hline\n",
       "\t 120      & josé    \\\\\n",
       "\t 121      & juan    \\\\\n",
       "\t 125      & pedro   \\\\\n",
       "\t 130      & pablo   \\\\\n",
       "\t 119      & josé    \\\\\n",
       "\t  88      & victoria\\\\\n",
       "\t 135      & pedro   \\\\\n",
       "\t  85      & pablo   \\\\\n",
       "\t 118      & josé    \\\\\n",
       "\t 132      & juana   \\\\\n",
       "\t 125      & pedro   \\\\\n",
       "\t  81      & pablo   \\\\\n",
       "\t 120      & josé    \\\\\n",
       "\t 150      & juan    \\\\\n",
       "\t 115      & pedro   \\\\\n",
       "\t 140      & pablo   \\\\\n",
       "\t 120      & maría   \\\\\n",
       "\\end{tabular}\n"
      ],
      "text/markdown": [
       "\n",
       "| systolic | patient_name |\n",
       "|---|---|\n",
       "| 120      | josé     |\n",
       "| 121      | juan     |\n",
       "| 125      | pedro    |\n",
       "| 130      | pablo    |\n",
       "| 119      | josé     |\n",
       "|  88      | victoria |\n",
       "| 135      | pedro    |\n",
       "|  85      | pablo    |\n",
       "| 118      | josé     |\n",
       "| 132      | juana    |\n",
       "| 125      | pedro    |\n",
       "|  81      | pablo    |\n",
       "| 120      | josé     |\n",
       "| 150      | juan     |\n",
       "| 115      | pedro    |\n",
       "| 140      | pablo    |\n",
       "| 120      | maría    |\n",
       "\n"
      ],
      "text/plain": [
       "   systolic patient_name\n",
       "1  120      josé        \n",
       "2  121      juan        \n",
       "3  125      pedro       \n",
       "4  130      pablo       \n",
       "5  119      josé        \n",
       "6   88      victoria    \n",
       "7  135      pedro       \n",
       "8   85      pablo       \n",
       "9  118      josé        \n",
       "10 132      juana       \n",
       "11 125      pedro       \n",
       "12  81      pablo       \n",
       "13 120      josé        \n",
       "14 150      juan        \n",
       "15 115      pedro       \n",
       "16 140      pablo       \n",
       "17 120      maría       "
      ]
     },
     "metadata": {},
     "output_type": "display_data"
    }
   ],
   "source": [
    "# Extrayendo sólo la columna 1 y 3\n",
    "blood_pressure[,c(1,3)]"
   ]
  },
  {
   "cell_type": "code",
   "execution_count": 9,
   "metadata": {},
   "outputs": [
    {
     "data": {
      "text/html": [
       "<ol class=list-inline>\n",
       "\t<li>FALSE</li>\n",
       "\t<li>FALSE</li>\n",
       "\t<li>FALSE</li>\n",
       "\t<li>FALSE</li>\n",
       "\t<li>FALSE</li>\n",
       "\t<li>FALSE</li>\n",
       "\t<li>TRUE</li>\n",
       "\t<li>FALSE</li>\n",
       "\t<li>FALSE</li>\n",
       "\t<li>TRUE</li>\n",
       "\t<li>FALSE</li>\n",
       "\t<li>FALSE</li>\n",
       "\t<li>FALSE</li>\n",
       "\t<li>TRUE</li>\n",
       "\t<li>FALSE</li>\n",
       "\t<li>TRUE</li>\n",
       "\t<li>FALSE</li>\n",
       "</ol>\n"
      ],
      "text/latex": [
       "\\begin{enumerate*}\n",
       "\\item FALSE\n",
       "\\item FALSE\n",
       "\\item FALSE\n",
       "\\item FALSE\n",
       "\\item FALSE\n",
       "\\item FALSE\n",
       "\\item TRUE\n",
       "\\item FALSE\n",
       "\\item FALSE\n",
       "\\item TRUE\n",
       "\\item FALSE\n",
       "\\item FALSE\n",
       "\\item FALSE\n",
       "\\item TRUE\n",
       "\\item FALSE\n",
       "\\item TRUE\n",
       "\\item FALSE\n",
       "\\end{enumerate*}\n"
      ],
      "text/markdown": [
       "1. FALSE\n",
       "2. FALSE\n",
       "3. FALSE\n",
       "4. FALSE\n",
       "5. FALSE\n",
       "6. FALSE\n",
       "7. TRUE\n",
       "8. FALSE\n",
       "9. FALSE\n",
       "10. TRUE\n",
       "11. FALSE\n",
       "12. FALSE\n",
       "13. FALSE\n",
       "14. TRUE\n",
       "15. FALSE\n",
       "16. TRUE\n",
       "17. FALSE\n",
       "\n",
       "\n"
      ],
      "text/plain": [
       " [1] FALSE FALSE FALSE FALSE FALSE FALSE  TRUE FALSE FALSE  TRUE FALSE FALSE\n",
       "[13] FALSE  TRUE FALSE  TRUE FALSE"
      ]
     },
     "metadata": {},
     "output_type": "display_data"
    }
   ],
   "source": [
    "# Creemos un vector lógico que encienda sólo los valores de presión sistólica mayores a 130\n",
    "systolic_hypertension = blood_pressure$systolic > 130\n",
    "systolic_hypertension"
   ]
  },
  {
   "cell_type": "code",
   "execution_count": 10,
   "metadata": {},
   "outputs": [
    {
     "data": {
      "text/html": [
       "<table>\n",
       "<thead><tr><th></th><th scope=col>systolic</th><th scope=col>diastolic</th><th scope=col>patient_name</th></tr></thead>\n",
       "<tbody>\n",
       "\t<tr><th scope=row>7</th><td>135  </td><td>78   </td><td>pedro</td></tr>\n",
       "\t<tr><th scope=row>10</th><td>132  </td><td>77   </td><td>juana</td></tr>\n",
       "\t<tr><th scope=row>14</th><td>150  </td><td>98   </td><td>juan </td></tr>\n",
       "\t<tr><th scope=row>16</th><td>140  </td><td>69   </td><td>pablo</td></tr>\n",
       "</tbody>\n",
       "</table>\n"
      ],
      "text/latex": [
       "\\begin{tabular}{r|lll}\n",
       "  & systolic & diastolic & patient\\_name\\\\\n",
       "\\hline\n",
       "\t7 & 135   & 78    & pedro\\\\\n",
       "\t10 & 132   & 77    & juana\\\\\n",
       "\t14 & 150   & 98    & juan \\\\\n",
       "\t16 & 140   & 69    & pablo\\\\\n",
       "\\end{tabular}\n"
      ],
      "text/markdown": [
       "\n",
       "| <!--/--> | systolic | diastolic | patient_name |\n",
       "|---|---|---|---|\n",
       "| 7 | 135   | 78    | pedro |\n",
       "| 10 | 132   | 77    | juana |\n",
       "| 14 | 150   | 98    | juan  |\n",
       "| 16 | 140   | 69    | pablo |\n",
       "\n"
      ],
      "text/plain": [
       "   systolic diastolic patient_name\n",
       "7  135      78        pedro       \n",
       "10 132      77        juana       \n",
       "14 150      98        juan        \n",
       "16 140      69        pablo       "
      ]
     },
     "metadata": {},
     "output_type": "display_data"
    }
   ],
   "source": [
    "# Filtremos sólo las observaciones con presión arterial sistólica mayor a 130 utilizando el vector creado antes\n",
    "\n",
    "blood_pressure[systolic_hypertension,]"
   ]
  },
  {
   "cell_type": "code",
   "execution_count": 11,
   "metadata": {},
   "outputs": [
    {
     "data": {
      "text/html": [
       "<table>\n",
       "<thead><tr><th></th><th scope=col>systolic</th><th scope=col>diastolic</th><th scope=col>patient_name</th></tr></thead>\n",
       "<tbody>\n",
       "\t<tr><th scope=row>14</th><td>150 </td><td>98  </td><td>juan</td></tr>\n",
       "</tbody>\n",
       "</table>\n"
      ],
      "text/latex": [
       "\\begin{tabular}{r|lll}\n",
       "  & systolic & diastolic & patient\\_name\\\\\n",
       "\\hline\n",
       "\t14 & 150  & 98   & juan\\\\\n",
       "\\end{tabular}\n"
      ],
      "text/markdown": [
       "\n",
       "| <!--/--> | systolic | diastolic | patient_name |\n",
       "|---|---|---|---|\n",
       "| 14 | 150  | 98   | juan |\n",
       "\n"
      ],
      "text/plain": [
       "   systolic diastolic patient_name\n",
       "14 150      98        juan        "
      ]
     },
     "metadata": {},
     "output_type": "display_data"
    }
   ],
   "source": [
    "# Filtremos sólo las observaciones con presión arterial sistólica mayor a 130\n",
    "# y presión diastólica mayor a 90\n",
    "\n",
    "blood_pressure[systolic_hypertension & blood_pressure$diastolic > 90,]"
   ]
  },
  {
   "cell_type": "code",
   "execution_count": 12,
   "metadata": {},
   "outputs": [
    {
     "data": {
      "text/html": [
       "<table>\n",
       "<thead><tr><th></th><th scope=col>systolic</th><th scope=col>diastolic</th><th scope=col>patient_name</th></tr></thead>\n",
       "<tbody>\n",
       "\t<tr><th scope=row>1</th><td>120 </td><td>80  </td><td>josé</td></tr>\n",
       "\t<tr><th scope=row>5</th><td>119 </td><td>74  </td><td>josé</td></tr>\n",
       "\t<tr><th scope=row>9</th><td>118 </td><td>90  </td><td>josé</td></tr>\n",
       "\t<tr><th scope=row>13</th><td>120 </td><td>86  </td><td>josé</td></tr>\n",
       "</tbody>\n",
       "</table>\n"
      ],
      "text/latex": [
       "\\begin{tabular}{r|lll}\n",
       "  & systolic & diastolic & patient\\_name\\\\\n",
       "\\hline\n",
       "\t1 & 120  & 80   & josé\\\\\n",
       "\t5 & 119  & 74   & josé\\\\\n",
       "\t9 & 118  & 90   & josé\\\\\n",
       "\t13 & 120  & 86   & josé\\\\\n",
       "\\end{tabular}\n"
      ],
      "text/markdown": [
       "\n",
       "| <!--/--> | systolic | diastolic | patient_name |\n",
       "|---|---|---|---|\n",
       "| 1 | 120  | 80   | josé |\n",
       "| 5 | 119  | 74   | josé |\n",
       "| 9 | 118  | 90   | josé |\n",
       "| 13 | 120  | 86   | josé |\n",
       "\n"
      ],
      "text/plain": [
       "   systolic diastolic patient_name\n",
       "1  120      80        josé        \n",
       "5  119      74        josé        \n",
       "9  118      90        josé        \n",
       "13 120      86        josé        "
      ]
     },
     "metadata": {},
     "output_type": "display_data"
    }
   ],
   "source": [
    "# Filtremos el data frame para que sólo nos devuelva los pacientes que se llamen josé\n",
    "\n",
    "blood_pressure[blood_pressure$patient_name == \"josé\",]"
   ]
  },
  {
   "cell_type": "markdown",
   "metadata": {},
   "source": [
    "## Funciones en R"
   ]
  },
  {
   "cell_type": "markdown",
   "metadata": {},
   "source": [
    "Se llama presión arterial media a la presión promedio (no es sencillamente una media aritmética) en las grandes arterias durante el ciclo cardiaco. Esta presión se puede estimar utilizando la siguiente ecuación:\n",
    "\n",
    "$PAM \\approx PAD + \\frac{1}{3} (PAS - PAD) $,\n",
    "\n",
    "donde\n",
    "\n",
    "$PAM$: Presión arterial media\n",
    "\n",
    "$PAS$: Presión arterial sistólica\n",
    "\n",
    "$PAD$: Presión arterial diastólica\n",
    "\n"
   ]
  },
  {
   "cell_type": "markdown",
   "metadata": {},
   "source": [
    "Para poder realizar el cálculo de una manera más sencilla y empaquetar el cálculo para poder ser reproducido en el código, podemos utilizar una función. La sintaxis para crear una función en `R` es la siguiente:\n",
    "\n",
    "<code>my_function = function(argument1, argument2) {\n",
    "    response = argument1 + argument2\n",
    "    return(response)\n",
    "}</code>"
   ]
  },
  {
   "cell_type": "code",
   "execution_count": 13,
   "metadata": {},
   "outputs": [],
   "source": [
    "# Función que calcula la PAM desde la PAS y PAD\n",
    "\n",
    "pam = function(pas,pad) {\n",
    "    pam = pad + (1/3) * (pas - pad)\n",
    "    return(pam)\n",
    "}\n",
    "\n",
    "# Sólo acabamos de declarar la función, aún no la hemos ejecutado"
   ]
  },
  {
   "cell_type": "code",
   "execution_count": 14,
   "metadata": {},
   "outputs": [
    {
     "data": {
      "text/html": [
       "83.3333333333333"
      ],
      "text/latex": [
       "83.3333333333333"
      ],
      "text/markdown": [
       "83.3333333333333"
      ],
      "text/plain": [
       "[1] 83.33333"
      ]
     },
     "metadata": {},
     "output_type": "display_data"
    }
   ],
   "source": [
    "# Calculemos la PAM de maría\n",
    "\n",
    "pam(120,65)"
   ]
  },
  {
   "cell_type": "code",
   "execution_count": 15,
   "metadata": {},
   "outputs": [
    {
     "data": {
      "text/html": [
       "<table>\n",
       "<thead><tr><th scope=col>systolic</th><th scope=col>diastolic</th></tr></thead>\n",
       "<tbody>\n",
       "\t<tr><td>120</td><td>80 </td></tr>\n",
       "\t<tr><td>121</td><td>83 </td></tr>\n",
       "\t<tr><td>125</td><td>87 </td></tr>\n",
       "\t<tr><td>130</td><td>85 </td></tr>\n",
       "\t<tr><td>119</td><td>74 </td></tr>\n",
       "\t<tr><td> 88</td><td>99 </td></tr>\n",
       "\t<tr><td>135</td><td>78 </td></tr>\n",
       "\t<tr><td> 85</td><td>83 </td></tr>\n",
       "\t<tr><td>118</td><td>90 </td></tr>\n",
       "\t<tr><td>132</td><td>77 </td></tr>\n",
       "\t<tr><td>125</td><td>76 </td></tr>\n",
       "\t<tr><td> 81</td><td>78 </td></tr>\n",
       "\t<tr><td>120</td><td>86 </td></tr>\n",
       "\t<tr><td>150</td><td>98 </td></tr>\n",
       "\t<tr><td>115</td><td>78 </td></tr>\n",
       "\t<tr><td>140</td><td>69 </td></tr>\n",
       "\t<tr><td>120</td><td>65 </td></tr>\n",
       "</tbody>\n",
       "</table>\n"
      ],
      "text/latex": [
       "\\begin{tabular}{r|ll}\n",
       " systolic & diastolic\\\\\n",
       "\\hline\n",
       "\t 120 & 80 \\\\\n",
       "\t 121 & 83 \\\\\n",
       "\t 125 & 87 \\\\\n",
       "\t 130 & 85 \\\\\n",
       "\t 119 & 74 \\\\\n",
       "\t  88 & 99 \\\\\n",
       "\t 135 & 78 \\\\\n",
       "\t  85 & 83 \\\\\n",
       "\t 118 & 90 \\\\\n",
       "\t 132 & 77 \\\\\n",
       "\t 125 & 76 \\\\\n",
       "\t  81 & 78 \\\\\n",
       "\t 120 & 86 \\\\\n",
       "\t 150 & 98 \\\\\n",
       "\t 115 & 78 \\\\\n",
       "\t 140 & 69 \\\\\n",
       "\t 120 & 65 \\\\\n",
       "\\end{tabular}\n"
      ],
      "text/markdown": [
       "\n",
       "| systolic | diastolic |\n",
       "|---|---|\n",
       "| 120 | 80  |\n",
       "| 121 | 83  |\n",
       "| 125 | 87  |\n",
       "| 130 | 85  |\n",
       "| 119 | 74  |\n",
       "|  88 | 99  |\n",
       "| 135 | 78  |\n",
       "|  85 | 83  |\n",
       "| 118 | 90  |\n",
       "| 132 | 77  |\n",
       "| 125 | 76  |\n",
       "|  81 | 78  |\n",
       "| 120 | 86  |\n",
       "| 150 | 98  |\n",
       "| 115 | 78  |\n",
       "| 140 | 69  |\n",
       "| 120 | 65  |\n",
       "\n"
      ],
      "text/plain": [
       "   systolic diastolic\n",
       "1  120      80       \n",
       "2  121      83       \n",
       "3  125      87       \n",
       "4  130      85       \n",
       "5  119      74       \n",
       "6   88      99       \n",
       "7  135      78       \n",
       "8   85      83       \n",
       "9  118      90       \n",
       "10 132      77       \n",
       "11 125      76       \n",
       "12  81      78       \n",
       "13 120      86       \n",
       "14 150      98       \n",
       "15 115      78       \n",
       "16 140      69       \n",
       "17 120      65       "
      ]
     },
     "metadata": {},
     "output_type": "display_data"
    }
   ],
   "source": [
    "blood_pressure[c(\"systolic\",\"diastolic\")]"
   ]
  },
  {
   "cell_type": "markdown",
   "metadata": {},
   "source": [
    "Si necesitamos aplicar nuestra función que recibe dos parámetros a todas las observaciones de nuestro `data frame`, podemos utilizar la función `mapply(function,argument1,argument2)`"
   ]
  },
  {
   "cell_type": "code",
   "execution_count": 16,
   "metadata": {
    "scrolled": false
   },
   "outputs": [
    {
     "data": {
      "text/html": [
       "<ol class=list-inline>\n",
       "\t<li>93.3333333333333</li>\n",
       "\t<li>95.6666666666667</li>\n",
       "\t<li>99.6666666666667</li>\n",
       "\t<li>100</li>\n",
       "\t<li>89</li>\n",
       "\t<li>95.3333333333333</li>\n",
       "\t<li>97</li>\n",
       "\t<li>83.6666666666667</li>\n",
       "\t<li>99.3333333333333</li>\n",
       "\t<li>95.3333333333333</li>\n",
       "\t<li>92.3333333333333</li>\n",
       "\t<li>79</li>\n",
       "\t<li>97.3333333333333</li>\n",
       "\t<li>115.333333333333</li>\n",
       "\t<li>90.3333333333333</li>\n",
       "\t<li>92.6666666666667</li>\n",
       "\t<li>83.3333333333333</li>\n",
       "</ol>\n"
      ],
      "text/latex": [
       "\\begin{enumerate*}\n",
       "\\item 93.3333333333333\n",
       "\\item 95.6666666666667\n",
       "\\item 99.6666666666667\n",
       "\\item 100\n",
       "\\item 89\n",
       "\\item 95.3333333333333\n",
       "\\item 97\n",
       "\\item 83.6666666666667\n",
       "\\item 99.3333333333333\n",
       "\\item 95.3333333333333\n",
       "\\item 92.3333333333333\n",
       "\\item 79\n",
       "\\item 97.3333333333333\n",
       "\\item 115.333333333333\n",
       "\\item 90.3333333333333\n",
       "\\item 92.6666666666667\n",
       "\\item 83.3333333333333\n",
       "\\end{enumerate*}\n"
      ],
      "text/markdown": [
       "1. 93.3333333333333\n",
       "2. 95.6666666666667\n",
       "3. 99.6666666666667\n",
       "4. 100\n",
       "5. 89\n",
       "6. 95.3333333333333\n",
       "7. 97\n",
       "8. 83.6666666666667\n",
       "9. 99.3333333333333\n",
       "10. 95.3333333333333\n",
       "11. 92.3333333333333\n",
       "12. 79\n",
       "13. 97.3333333333333\n",
       "14. 115.333333333333\n",
       "15. 90.3333333333333\n",
       "16. 92.6666666666667\n",
       "17. 83.3333333333333\n",
       "\n",
       "\n"
      ],
      "text/plain": [
       " [1]  93.33333  95.66667  99.66667 100.00000  89.00000  95.33333  97.00000\n",
       " [8]  83.66667  99.33333  95.33333  92.33333  79.00000  97.33333 115.33333\n",
       "[15]  90.33333  92.66667  83.33333"
      ]
     },
     "metadata": {},
     "output_type": "display_data"
    }
   ],
   "source": [
    "pam = mapply(pam,blood_pressure$systolic,blood_pressure$diastolic)\n",
    "pam"
   ]
  },
  {
   "cell_type": "markdown",
   "metadata": {},
   "source": [
    "Esta función nos retorna un `vector`, el cual podemos concatenar a nuestro data frame como cualquier otro `vector`, utilizando el método señalado anteriormente en la clase."
   ]
  },
  {
   "cell_type": "code",
   "execution_count": 17,
   "metadata": {},
   "outputs": [
    {
     "data": {
      "text/html": [
       "<table>\n",
       "<thead><tr><th scope=col>systolic</th><th scope=col>diastolic</th><th scope=col>patient_name</th><th scope=col>pam</th></tr></thead>\n",
       "<tbody>\n",
       "\t<tr><td>120      </td><td>80       </td><td>josé     </td><td> 93.33333</td></tr>\n",
       "\t<tr><td>121      </td><td>83       </td><td>juan     </td><td> 95.66667</td></tr>\n",
       "\t<tr><td>125      </td><td>87       </td><td>pedro    </td><td> 99.66667</td></tr>\n",
       "\t<tr><td>130      </td><td>85       </td><td>pablo    </td><td>100.00000</td></tr>\n",
       "\t<tr><td>119      </td><td>74       </td><td>josé     </td><td> 89.00000</td></tr>\n",
       "\t<tr><td> 88      </td><td>99       </td><td>victoria </td><td> 95.33333</td></tr>\n",
       "\t<tr><td>135      </td><td>78       </td><td>pedro    </td><td> 97.00000</td></tr>\n",
       "\t<tr><td> 85      </td><td>83       </td><td>pablo    </td><td> 83.66667</td></tr>\n",
       "\t<tr><td>118      </td><td>90       </td><td>josé     </td><td> 99.33333</td></tr>\n",
       "\t<tr><td>132      </td><td>77       </td><td>juana    </td><td> 95.33333</td></tr>\n",
       "\t<tr><td>125      </td><td>76       </td><td>pedro    </td><td> 92.33333</td></tr>\n",
       "\t<tr><td> 81      </td><td>78       </td><td>pablo    </td><td> 79.00000</td></tr>\n",
       "\t<tr><td>120      </td><td>86       </td><td>josé     </td><td> 97.33333</td></tr>\n",
       "\t<tr><td>150      </td><td>98       </td><td>juan     </td><td>115.33333</td></tr>\n",
       "\t<tr><td>115      </td><td>78       </td><td>pedro    </td><td> 90.33333</td></tr>\n",
       "\t<tr><td>140      </td><td>69       </td><td>pablo    </td><td> 92.66667</td></tr>\n",
       "\t<tr><td>120      </td><td>65       </td><td>maría    </td><td> 83.33333</td></tr>\n",
       "</tbody>\n",
       "</table>\n"
      ],
      "text/latex": [
       "\\begin{tabular}{r|llll}\n",
       " systolic & diastolic & patient\\_name & pam\\\\\n",
       "\\hline\n",
       "\t 120       & 80        & josé      &  93.33333\\\\\n",
       "\t 121       & 83        & juan      &  95.66667\\\\\n",
       "\t 125       & 87        & pedro     &  99.66667\\\\\n",
       "\t 130       & 85        & pablo     & 100.00000\\\\\n",
       "\t 119       & 74        & josé      &  89.00000\\\\\n",
       "\t  88       & 99        & victoria  &  95.33333\\\\\n",
       "\t 135       & 78        & pedro     &  97.00000\\\\\n",
       "\t  85       & 83        & pablo     &  83.66667\\\\\n",
       "\t 118       & 90        & josé      &  99.33333\\\\\n",
       "\t 132       & 77        & juana     &  95.33333\\\\\n",
       "\t 125       & 76        & pedro     &  92.33333\\\\\n",
       "\t  81       & 78        & pablo     &  79.00000\\\\\n",
       "\t 120       & 86        & josé      &  97.33333\\\\\n",
       "\t 150       & 98        & juan      & 115.33333\\\\\n",
       "\t 115       & 78        & pedro     &  90.33333\\\\\n",
       "\t 140       & 69        & pablo     &  92.66667\\\\\n",
       "\t 120       & 65        & maría     &  83.33333\\\\\n",
       "\\end{tabular}\n"
      ],
      "text/markdown": [
       "\n",
       "| systolic | diastolic | patient_name | pam |\n",
       "|---|---|---|---|\n",
       "| 120       | 80        | josé      |  93.33333 |\n",
       "| 121       | 83        | juan      |  95.66667 |\n",
       "| 125       | 87        | pedro     |  99.66667 |\n",
       "| 130       | 85        | pablo     | 100.00000 |\n",
       "| 119       | 74        | josé      |  89.00000 |\n",
       "|  88       | 99        | victoria  |  95.33333 |\n",
       "| 135       | 78        | pedro     |  97.00000 |\n",
       "|  85       | 83        | pablo     |  83.66667 |\n",
       "| 118       | 90        | josé      |  99.33333 |\n",
       "| 132       | 77        | juana     |  95.33333 |\n",
       "| 125       | 76        | pedro     |  92.33333 |\n",
       "|  81       | 78        | pablo     |  79.00000 |\n",
       "| 120       | 86        | josé      |  97.33333 |\n",
       "| 150       | 98        | juan      | 115.33333 |\n",
       "| 115       | 78        | pedro     |  90.33333 |\n",
       "| 140       | 69        | pablo     |  92.66667 |\n",
       "| 120       | 65        | maría     |  83.33333 |\n",
       "\n"
      ],
      "text/plain": [
       "   systolic diastolic patient_name pam      \n",
       "1  120      80        josé          93.33333\n",
       "2  121      83        juan          95.66667\n",
       "3  125      87        pedro         99.66667\n",
       "4  130      85        pablo        100.00000\n",
       "5  119      74        josé          89.00000\n",
       "6   88      99        victoria      95.33333\n",
       "7  135      78        pedro         97.00000\n",
       "8   85      83        pablo         83.66667\n",
       "9  118      90        josé          99.33333\n",
       "10 132      77        juana         95.33333\n",
       "11 125      76        pedro         92.33333\n",
       "12  81      78        pablo         79.00000\n",
       "13 120      86        josé          97.33333\n",
       "14 150      98        juan         115.33333\n",
       "15 115      78        pedro         90.33333\n",
       "16 140      69        pablo         92.66667\n",
       "17 120      65        maría         83.33333"
      ]
     },
     "metadata": {},
     "output_type": "display_data"
    }
   ],
   "source": [
    "blood_pressure$pam = pam\n",
    "blood_pressure"
   ]
  },
  {
   "cell_type": "markdown",
   "metadata": {},
   "source": [
    "Como sabemos que `R` es un programa vectorial, hagamos el mismo cálculo utilizando sólo operaciones vectoriales."
   ]
  },
  {
   "cell_type": "code",
   "execution_count": 18,
   "metadata": {},
   "outputs": [
    {
     "data": {
      "text/html": [
       "<ol class=list-inline>\n",
       "\t<li>93.3333333333333</li>\n",
       "\t<li>95.6666666666667</li>\n",
       "\t<li>99.6666666666667</li>\n",
       "\t<li>100</li>\n",
       "\t<li>89</li>\n",
       "\t<li>95.3333333333333</li>\n",
       "\t<li>97</li>\n",
       "\t<li>83.6666666666667</li>\n",
       "\t<li>99.3333333333333</li>\n",
       "\t<li>95.3333333333333</li>\n",
       "\t<li>92.3333333333333</li>\n",
       "\t<li>79</li>\n",
       "\t<li>97.3333333333333</li>\n",
       "\t<li>115.333333333333</li>\n",
       "\t<li>90.3333333333333</li>\n",
       "\t<li>92.6666666666667</li>\n",
       "\t<li>83.3333333333333</li>\n",
       "</ol>\n"
      ],
      "text/latex": [
       "\\begin{enumerate*}\n",
       "\\item 93.3333333333333\n",
       "\\item 95.6666666666667\n",
       "\\item 99.6666666666667\n",
       "\\item 100\n",
       "\\item 89\n",
       "\\item 95.3333333333333\n",
       "\\item 97\n",
       "\\item 83.6666666666667\n",
       "\\item 99.3333333333333\n",
       "\\item 95.3333333333333\n",
       "\\item 92.3333333333333\n",
       "\\item 79\n",
       "\\item 97.3333333333333\n",
       "\\item 115.333333333333\n",
       "\\item 90.3333333333333\n",
       "\\item 92.6666666666667\n",
       "\\item 83.3333333333333\n",
       "\\end{enumerate*}\n"
      ],
      "text/markdown": [
       "1. 93.3333333333333\n",
       "2. 95.6666666666667\n",
       "3. 99.6666666666667\n",
       "4. 100\n",
       "5. 89\n",
       "6. 95.3333333333333\n",
       "7. 97\n",
       "8. 83.6666666666667\n",
       "9. 99.3333333333333\n",
       "10. 95.3333333333333\n",
       "11. 92.3333333333333\n",
       "12. 79\n",
       "13. 97.3333333333333\n",
       "14. 115.333333333333\n",
       "15. 90.3333333333333\n",
       "16. 92.6666666666667\n",
       "17. 83.3333333333333\n",
       "\n",
       "\n"
      ],
      "text/plain": [
       " [1]  93.33333  95.66667  99.66667 100.00000  89.00000  95.33333  97.00000\n",
       " [8]  83.66667  99.33333  95.33333  92.33333  79.00000  97.33333 115.33333\n",
       "[15]  90.33333  92.66667  83.33333"
      ]
     },
     "metadata": {},
     "output_type": "display_data"
    }
   ],
   "source": [
    "# Obtenemos los mismos resultados al aplicar la función y al hacer el mismo cálculo de manera vectorial.\n",
    "\n",
    "blood_pressure$diastolic + (1/3) * (blood_pressure$systolic - blood_pressure$diastolic)"
   ]
  },
  {
   "cell_type": "markdown",
   "metadata": {},
   "source": [
    "## MIMIC - III e importación de un csv"
   ]
  },
  {
   "cell_type": "markdown",
   "metadata": {},
   "source": [
    "`MIMIC - III` es una base de datos disponible abiertamente (al pasar una serie de evaluaciones bioéticas) de datos deidentificados de alrededor de 60.000 ingresos de pacientes a una Unidad de Paciente Crítico.\n",
    "\n",
    "Una descripción completa de todas las tablas contenidas en la base de datos se encuentra en la documentación oficial de la misma en https://mimic.physionet.org/about/mimic/ .\n",
    "\n",
    "Esta base de datos está disponible para descarga inmediata una muestra de la base de datos completa en formato `csv`, el cual es un tipo de documento en formato abierto sencillo para representar datos en forma de tabla, en las que las columnas se separan por comas.\n",
    "\n",
    "`R` tiene cuenta con la función `read.csv()` para importar estos datos y devolver un `data frame`."
   ]
  },
  {
   "cell_type": "markdown",
   "metadata": {},
   "source": [
    "Importaremos la tabla `D_ITEMS`, la cual contiene la definición de todos los ítems disponibles en la base de datos, la documentación completa de esta tabla está disponible en https://mimic.physionet.org/mimictables/d_items/ ."
   ]
  },
  {
   "cell_type": "code",
   "execution_count": 19,
   "metadata": {},
   "outputs": [
    {
     "data": {
      "text/html": [
       "<table>\n",
       "<thead><tr><th scope=col>row_id</th><th scope=col>itemid</th><th scope=col>label</th><th scope=col>abbreviation</th><th scope=col>dbsource</th><th scope=col>linksto</th><th scope=col>category</th><th scope=col>unitname</th><th scope=col>param_type</th><th scope=col>conceptid</th></tr></thead>\n",
       "<tbody>\n",
       "\t<tr><td> 1                  </td><td>1435                </td><td>Sustained Nystamus  </td><td>                    </td><td>carevue             </td><td>chartevents         </td><td>                    </td><td>                    </td><td>                    </td><td>NA                  </td></tr>\n",
       "\t<tr><td> 2                  </td><td>1436                </td><td>Tactile Disturbances</td><td>                    </td><td>carevue             </td><td>chartevents         </td><td>                    </td><td>                    </td><td>                    </td><td>NA                  </td></tr>\n",
       "\t<tr><td> 3                  </td><td>1437                </td><td>Tremor              </td><td>                    </td><td>carevue             </td><td>chartevents         </td><td>                    </td><td>                    </td><td>                    </td><td>NA                  </td></tr>\n",
       "\t<tr><td> 4                  </td><td>1438                </td><td>Ulnar Pulse [Right] </td><td>                    </td><td>carevue             </td><td>chartevents         </td><td>                    </td><td>                    </td><td>                    </td><td>NA                  </td></tr>\n",
       "\t<tr><td> 5                  </td><td>1439                </td><td>Visual Disturbances </td><td>                    </td><td>carevue             </td><td>chartevents         </td><td>                    </td><td>                    </td><td>                    </td><td>NA                  </td></tr>\n",
       "\t<tr><td> 6                  </td><td>1447                </td><td>Transpulmonary Pres </td><td>                    </td><td>carevue             </td><td>chartevents         </td><td>                    </td><td>                    </td><td>                    </td><td>NA                  </td></tr>\n",
       "\t<tr><td> 7                  </td><td>1448                </td><td>Vd/Vt:              </td><td>                    </td><td>carevue             </td><td>chartevents         </td><td>                    </td><td>                    </td><td>                    </td><td>NA                  </td></tr>\n",
       "\t<tr><td> 8                  </td><td>1449                </td><td>Arterial BP(Rad)    </td><td>                    </td><td>carevue             </td><td>chartevents         </td><td>                    </td><td>                    </td><td>                    </td><td>NA                  </td></tr>\n",
       "\t<tr><td> 9                  </td><td>1450                </td><td>level one           </td><td>                    </td><td>carevue             </td><td>chartevents         </td><td>                    </td><td>                    </td><td>                    </td><td>NA                  </td></tr>\n",
       "\t<tr><td>10                  </td><td>1451                </td><td>L girth size        </td><td>                    </td><td>carevue             </td><td>chartevents         </td><td>                    </td><td>                    </td><td>                    </td><td>NA                  </td></tr>\n",
       "\t<tr><td>11                  </td><td>1452                </td><td>#1 chest tube irrig.</td><td>                    </td><td>carevue             </td><td>chartevents         </td><td>                    </td><td>                    </td><td>                    </td><td>NA                  </td></tr>\n",
       "\t<tr><td>12                  </td><td>1453                </td><td>CT DRSG             </td><td>                    </td><td>carevue             </td><td>chartevents         </td><td>                    </td><td>                    </td><td>                    </td><td>NA                  </td></tr>\n",
       "\t<tr><td>13                  </td><td>1454                </td><td>r hips drsg change  </td><td>                    </td><td>carevue             </td><td>chartevents         </td><td>                    </td><td>                    </td><td>                    </td><td>NA                  </td></tr>\n",
       "\t<tr><td>14                  </td><td>1455                </td><td>fingerstick glucose </td><td>                    </td><td>carevue             </td><td>chartevents         </td><td>                    </td><td>                    </td><td>                    </td><td>NA                  </td></tr>\n",
       "\t<tr><td>15                  </td><td>1456                </td><td>popliteal pulse r/l </td><td>                    </td><td>carevue             </td><td>chartevents         </td><td>                    </td><td>                    </td><td>                    </td><td>NA                  </td></tr>\n",
       "\t<tr><td>16                  </td><td>1457                </td><td>CPAP                </td><td>                    </td><td>carevue             </td><td>chartevents         </td><td>                    </td><td>                    </td><td>                    </td><td>NA                  </td></tr>\n",
       "\t<tr><td>17                  </td><td>1458                </td><td>L ankle dsg change  </td><td>                    </td><td>carevue             </td><td>chartevents         </td><td>                    </td><td>                    </td><td>                    </td><td>NA                  </td></tr>\n",
       "\t<tr><td>18                  </td><td>1459                </td><td>gluteral drsg change</td><td>                    </td><td>carevue             </td><td>chartevents         </td><td>                    </td><td>                    </td><td>                    </td><td>NA                  </td></tr>\n",
       "\t<tr><td>19                  </td><td>1460                </td><td>D5W 100meq NaHC03   </td><td>                    </td><td>carevue             </td><td>chartevents         </td><td>                    </td><td>                    </td><td>                    </td><td>NA                  </td></tr>\n",
       "\t<tr><td>20                  </td><td>1462                </td><td>wrist  restraints   </td><td>                    </td><td>carevue             </td><td>chartevents         </td><td>                    </td><td>                    </td><td>                    </td><td>NA                  </td></tr>\n",
       "\t<tr><td>21                  </td><td>1463                </td><td>pad count           </td><td>                    </td><td>carevue             </td><td>chartevents         </td><td>                    </td><td>                    </td><td>                    </td><td>NA                  </td></tr>\n",
       "\t<tr><td>22                  </td><td>1464                </td><td>ZZZly Wake Up       </td><td>                    </td><td>carevue             </td><td>chartevents         </td><td>                    </td><td>                    </td><td>                    </td><td>NA                  </td></tr>\n",
       "\t<tr><td>23                  </td><td>1465                </td><td>Back Dsg            </td><td>                    </td><td>carevue             </td><td>chartevents         </td><td>                    </td><td>                    </td><td>                    </td><td>NA                  </td></tr>\n",
       "\t<tr><td>24                  </td><td>1466                </td><td>ATC                 </td><td>                    </td><td>carevue             </td><td>chartevents         </td><td>                    </td><td>                    </td><td>                    </td><td>NA                  </td></tr>\n",
       "\t<tr><td>25                  </td><td>1467                </td><td>Pericare            </td><td>                    </td><td>carevue             </td><td>chartevents         </td><td>                    </td><td>                    </td><td>                    </td><td>NA                  </td></tr>\n",
       "\t<tr><td>26                  </td><td>1468                </td><td>HI/Minute/Vol/alarm </td><td>                    </td><td>carevue             </td><td>chartevents         </td><td>                    </td><td>                    </td><td>                    </td><td>NA                  </td></tr>\n",
       "\t<tr><td>27                  </td><td>   1                </td><td>% Inspir. Time      </td><td>                    </td><td>carevue             </td><td>chartevents         </td><td>                    </td><td>                    </td><td>                    </td><td>NA                  </td></tr>\n",
       "\t<tr><td>28                  </td><td>   2                </td><td>ABI (L)             </td><td>                    </td><td>carevue             </td><td>chartevents         </td><td>                    </td><td>                    </td><td>                    </td><td>NA                  </td></tr>\n",
       "\t<tr><td>29                  </td><td>   3                </td><td>ABI (R)             </td><td>                    </td><td>carevue             </td><td>chartevents         </td><td>                    </td><td>                    </td><td>                    </td><td>NA                  </td></tr>\n",
       "\t<tr><td>30                  </td><td>   4                </td><td>ABI Ankle BP [Right]</td><td>                    </td><td>carevue             </td><td>chartevents         </td><td>                    </td><td>                    </td><td>                    </td><td>NA                  </td></tr>\n",
       "\t<tr><td>...</td><td>...</td><td>...</td><td>...</td><td>...</td><td>...</td><td>...</td><td>...</td><td>...</td><td>...</td></tr>\n",
       "\t<tr><td>15645                   </td><td>228550                  </td><td>Pressure Ulcer #2- Type </td><td>Pressure Ulcer #2- Type </td><td>metavision              </td><td>chartevents             </td><td>Skin - Impairment       </td><td>                        </td><td>Text                    </td><td>NA                      </td></tr>\n",
       "\t<tr><td>15646                   </td><td>228551                  </td><td>Pressure Ulcer #3- Type </td><td>Pressure Ulcer #3- Type </td><td>metavision              </td><td>chartevents             </td><td>Skin - Impairment       </td><td>                        </td><td>Text                    </td><td>NA                      </td></tr>\n",
       "\t<tr><td>15647                   </td><td>228552                  </td><td>Pressure Ulcer #4- Type </td><td>Pressure Ulcer #4- Type </td><td>metavision              </td><td>chartevents             </td><td>Skin - Impairment       </td><td>                        </td><td>Text                    </td><td>NA                      </td></tr>\n",
       "\t<tr><td>15648                   </td><td>228553                  </td><td>Pressure Ulcer #5- Type </td><td>Pressure Ulcer #5- Type </td><td>metavision              </td><td>chartevents             </td><td>Skin - Impairment       </td><td>                        </td><td>Text                    </td><td>NA                      </td></tr>\n",
       "\t<tr><td>15649                   </td><td>228554                  </td><td>Pressure Ulcer #6- Type </td><td>Pressure Ulcer #6- Type </td><td>metavision              </td><td>chartevents             </td><td>Skin - Impairment       </td><td>                        </td><td>Text                    </td><td>NA                      </td></tr>\n",
       "\t<tr><td>15650                   </td><td>228555                  </td><td>Pressure Ulcer #7- Type </td><td>Pressure Ulcer #7- Type </td><td>metavision              </td><td>chartevents             </td><td>Skin - Impairment       </td><td>                        </td><td>Text                    </td><td>NA                      </td></tr>\n",
       "\t<tr><td>15651                   </td><td>228556                  </td><td>Pressure Ulcer #8- Type </td><td>Pressure Ulcer #8- Type </td><td>metavision              </td><td>chartevents             </td><td>Skin - Impairment       </td><td>                        </td><td>Text                    </td><td>NA                      </td></tr>\n",
       "\t<tr><td>15652                   </td><td>228557                  </td><td>Pressure Ulcer #9- Type </td><td>Pressure Ulcer #9- Type </td><td>metavision              </td><td>chartevents             </td><td>Skin - Impairment       </td><td>                        </td><td>Text                    </td><td>NA                      </td></tr>\n",
       "\t<tr><td>15653                   </td><td>228558                  </td><td>Pressure Ulcer #10- Type</td><td>Pressure Ulcer #10- Type</td><td>metavision              </td><td>chartevents             </td><td>Skin - Impairment       </td><td>                        </td><td>Text                    </td><td>NA                      </td></tr>\n",
       "\t<tr><td>15654                   </td><td>228559                  </td><td>Incision #1- Location   </td><td>Incision #1- Location   </td><td>metavision              </td><td>chartevents             </td><td>Skin - Incisions        </td><td>                        </td><td>Text                    </td><td>NA                      </td></tr>\n",
       "\t<tr><td>15655                   </td><td>228560                  </td><td>Incision #2- Location   </td><td>Incision #2- Location   </td><td>metavision              </td><td>chartevents             </td><td>Skin - Incisions        </td><td>                        </td><td>Text                    </td><td>NA                      </td></tr>\n",
       "\t<tr><td>15656                   </td><td>228561                  </td><td>Incision #3- Location   </td><td>Incision #3- Location   </td><td>metavision              </td><td>chartevents             </td><td>Skin - Incisions        </td><td>                        </td><td>Text                    </td><td>NA                      </td></tr>\n",
       "\t<tr><td>15657                   </td><td>228562                  </td><td>Incision #4- Location   </td><td>Incision #4- Location   </td><td>metavision              </td><td>chartevents             </td><td>Skin - Incisions        </td><td>                        </td><td>Text                    </td><td>NA                      </td></tr>\n",
       "\t<tr><td>15658                   </td><td>228563                  </td><td>Incision #5- Location   </td><td>Incision #5- Location   </td><td>metavision              </td><td>chartevents             </td><td>Skin - Incisions        </td><td>                        </td><td>Text                    </td><td>NA                      </td></tr>\n",
       "\t<tr><td>15659                   </td><td>228564                  </td><td>Incision #6- Location   </td><td>Incision #6- Location   </td><td>metavision              </td><td>chartevents             </td><td>Skin - Incisions        </td><td>                        </td><td>Text                    </td><td>NA                      </td></tr>\n",
       "\t<tr><td>15660                   </td><td>228565                  </td><td>Incision #1- Cleanse    </td><td>Incision #1- Cleanse    </td><td>metavision              </td><td>chartevents             </td><td>Skin - Incisions        </td><td>                        </td><td>Text                    </td><td>NA                      </td></tr>\n",
       "\t<tr><td>15661                   </td><td>228566                  </td><td>Incision #2- Cleanse    </td><td>Incision #2- Cleanse    </td><td>metavision              </td><td>chartevents             </td><td>Skin - Incisions        </td><td>                        </td><td>Text                    </td><td>NA                      </td></tr>\n",
       "\t<tr><td>15662                   </td><td>228567                  </td><td>Incision #3- Cleanse    </td><td>Incision #3- Cleanse    </td><td>metavision              </td><td>chartevents             </td><td>Skin - Incisions        </td><td>                        </td><td>Text                    </td><td>NA                      </td></tr>\n",
       "\t<tr><td>15663                   </td><td>228568                  </td><td>Incision #4- Cleanse    </td><td>Incision #4- Cleanse    </td><td>metavision              </td><td>chartevents             </td><td>Skin - Incisions        </td><td>                        </td><td>Text                    </td><td>NA                      </td></tr>\n",
       "\t<tr><td>15664                   </td><td>228569                  </td><td>Incision #5- Cleanse    </td><td>Incision #5- Cleanse    </td><td>metavision              </td><td>chartevents             </td><td>Skin - Incisions        </td><td>                        </td><td>Text                    </td><td>NA                      </td></tr>\n",
       "\t<tr><td>15665                   </td><td>228570                  </td><td>Incision #6- Cleanse    </td><td>Incision #6- Cleanse    </td><td>metavision              </td><td>chartevents             </td><td>Skin - Incisions        </td><td>                        </td><td>Text                    </td><td>NA                      </td></tr>\n",
       "\t<tr><td>15666                   </td><td>228571                  </td><td>Incision #1- Treatment  </td><td>Incision #1- Treatment  </td><td>metavision              </td><td>chartevents             </td><td>Skin - Incisions        </td><td>                        </td><td>Text                    </td><td>NA                      </td></tr>\n",
       "\t<tr><td>15667                   </td><td>228572                  </td><td>Incision #2- Treatment  </td><td>Incision #2- Treatment  </td><td>metavision              </td><td>chartevents             </td><td>Skin - Incisions        </td><td>                        </td><td>Text                    </td><td>NA                      </td></tr>\n",
       "\t<tr><td>15668                   </td><td>228573                  </td><td>Incision #3- Treatment  </td><td>Incision #3- Treatment  </td><td>metavision              </td><td>chartevents             </td><td>Skin - Incisions        </td><td>                        </td><td>Text                    </td><td>NA                      </td></tr>\n",
       "\t<tr><td>15669                   </td><td>228574                  </td><td>Incision #4- Treatment  </td><td>Incision #4- Treatment  </td><td>metavision              </td><td>chartevents             </td><td>Skin - Incisions        </td><td>                        </td><td>Text                    </td><td>NA                      </td></tr>\n",
       "\t<tr><td>15670                   </td><td>228575                  </td><td>Incision #5- Treatment  </td><td>Incision #5- Treatment  </td><td>metavision              </td><td>chartevents             </td><td>Skin - Incisions        </td><td>                        </td><td>Text                    </td><td>NA                      </td></tr>\n",
       "\t<tr><td>15671                   </td><td>228576                  </td><td>Incision #6- Treatment  </td><td>Incision #6- Treatment  </td><td>metavision              </td><td>chartevents             </td><td>Skin - Incisions        </td><td>                        </td><td>Text                    </td><td>NA                      </td></tr>\n",
       "\t<tr><td>15672                   </td><td>228577                  </td><td>Impaired Skin #2- Type  </td><td>Impaired Skin #2- Type  </td><td>metavision              </td><td>chartevents             </td><td>Skin - Impairment       </td><td>                        </td><td>Text                    </td><td>NA                      </td></tr>\n",
       "\t<tr><td>15673                   </td><td>228578                  </td><td>Impaired Skin #3- Type  </td><td>Impaired Skin #3- Type  </td><td>metavision              </td><td>chartevents             </td><td>Skin - Impairment       </td><td>                        </td><td>Text                    </td><td>NA                      </td></tr>\n",
       "\t<tr><td>15674                   </td><td>228579                  </td><td>Impaired Skin #4- Type  </td><td>Impaired Skin #4- Type  </td><td>metavision              </td><td>chartevents             </td><td>Skin - Impairment       </td><td>                        </td><td>Text                    </td><td>NA                      </td></tr>\n",
       "</tbody>\n",
       "</table>\n"
      ],
      "text/latex": [
       "\\begin{tabular}{r|llllllllll}\n",
       " row\\_id & itemid & label & abbreviation & dbsource & linksto & category & unitname & param\\_type & conceptid\\\\\n",
       "\\hline\n",
       "\t  1                   & 1435                 & Sustained Nystamus   &                      & carevue              & chartevents          &                      &                      &                      & NA                  \\\\\n",
       "\t  2                   & 1436                 & Tactile Disturbances &                      & carevue              & chartevents          &                      &                      &                      & NA                  \\\\\n",
       "\t  3                   & 1437                 & Tremor               &                      & carevue              & chartevents          &                      &                      &                      & NA                  \\\\\n",
       "\t  4                       & 1438                     & Ulnar Pulse {[}Right{]}  &                          & carevue                  & chartevents              &                          &                          &                          & NA                      \\\\\n",
       "\t  5                   & 1439                 & Visual Disturbances  &                      & carevue              & chartevents          &                      &                      &                      & NA                  \\\\\n",
       "\t  6                   & 1447                 & Transpulmonary Pres  &                      & carevue              & chartevents          &                      &                      &                      & NA                  \\\\\n",
       "\t  7                   & 1448                 & Vd/Vt:               &                      & carevue              & chartevents          &                      &                      &                      & NA                  \\\\\n",
       "\t  8                   & 1449                 & Arterial BP(Rad)     &                      & carevue              & chartevents          &                      &                      &                      & NA                  \\\\\n",
       "\t  9                   & 1450                 & level one            &                      & carevue              & chartevents          &                      &                      &                      & NA                  \\\\\n",
       "\t 10                   & 1451                 & L girth size         &                      & carevue              & chartevents          &                      &                      &                      & NA                  \\\\\n",
       "\t 11                     & 1452                   & \\#1 chest tube irrig. &                        & carevue                & chartevents            &                        &                        &                        & NA                    \\\\\n",
       "\t 12                   & 1453                 & CT DRSG              &                      & carevue              & chartevents          &                      &                      &                      & NA                  \\\\\n",
       "\t 13                   & 1454                 & r hips drsg change   &                      & carevue              & chartevents          &                      &                      &                      & NA                  \\\\\n",
       "\t 14                   & 1455                 & fingerstick glucose  &                      & carevue              & chartevents          &                      &                      &                      & NA                  \\\\\n",
       "\t 15                   & 1456                 & popliteal pulse r/l  &                      & carevue              & chartevents          &                      &                      &                      & NA                  \\\\\n",
       "\t 16                   & 1457                 & CPAP                 &                      & carevue              & chartevents          &                      &                      &                      & NA                  \\\\\n",
       "\t 17                   & 1458                 & L ankle dsg change   &                      & carevue              & chartevents          &                      &                      &                      & NA                  \\\\\n",
       "\t 18                   & 1459                 & gluteral drsg change &                      & carevue              & chartevents          &                      &                      &                      & NA                  \\\\\n",
       "\t 19                   & 1460                 & D5W 100meq NaHC03    &                      & carevue              & chartevents          &                      &                      &                      & NA                  \\\\\n",
       "\t 20                   & 1462                 & wrist  restraints    &                      & carevue              & chartevents          &                      &                      &                      & NA                  \\\\\n",
       "\t 21                   & 1463                 & pad count            &                      & carevue              & chartevents          &                      &                      &                      & NA                  \\\\\n",
       "\t 22                   & 1464                 & ZZZly Wake Up        &                      & carevue              & chartevents          &                      &                      &                      & NA                  \\\\\n",
       "\t 23                   & 1465                 & Back Dsg             &                      & carevue              & chartevents          &                      &                      &                      & NA                  \\\\\n",
       "\t 24                   & 1466                 & ATC                  &                      & carevue              & chartevents          &                      &                      &                      & NA                  \\\\\n",
       "\t 25                   & 1467                 & Pericare             &                      & carevue              & chartevents          &                      &                      &                      & NA                  \\\\\n",
       "\t 26                   & 1468                 & HI/Minute/Vol/alarm  &                      & carevue              & chartevents          &                      &                      &                      & NA                  \\\\\n",
       "\t 27                     &    1                   & \\% Inspir. Time       &                        & carevue                & chartevents            &                        &                        &                        & NA                    \\\\\n",
       "\t 28                   &    2                 & ABI (L)              &                      & carevue              & chartevents          &                      &                      &                      & NA                  \\\\\n",
       "\t 29                   &    3                 & ABI (R)              &                      & carevue              & chartevents          &                      &                      &                      & NA                  \\\\\n",
       "\t 30                       &    4                     & ABI Ankle BP {[}Right{]} &                          & carevue                  & chartevents              &                          &                          &                          & NA                      \\\\\n",
       "\t ... & ... & ... & ... & ... & ... & ... & ... & ... & ...\\\\\n",
       "\t 15645                      & 228550                     & Pressure Ulcer \\#2- Type  & Pressure Ulcer \\#2- Type  & metavision                 & chartevents                & Skin - Impairment          &                            & Text                       & NA                        \\\\\n",
       "\t 15646                      & 228551                     & Pressure Ulcer \\#3- Type  & Pressure Ulcer \\#3- Type  & metavision                 & chartevents                & Skin - Impairment          &                            & Text                       & NA                        \\\\\n",
       "\t 15647                      & 228552                     & Pressure Ulcer \\#4- Type  & Pressure Ulcer \\#4- Type  & metavision                 & chartevents                & Skin - Impairment          &                            & Text                       & NA                        \\\\\n",
       "\t 15648                      & 228553                     & Pressure Ulcer \\#5- Type  & Pressure Ulcer \\#5- Type  & metavision                 & chartevents                & Skin - Impairment          &                            & Text                       & NA                        \\\\\n",
       "\t 15649                      & 228554                     & Pressure Ulcer \\#6- Type  & Pressure Ulcer \\#6- Type  & metavision                 & chartevents                & Skin - Impairment          &                            & Text                       & NA                        \\\\\n",
       "\t 15650                      & 228555                     & Pressure Ulcer \\#7- Type  & Pressure Ulcer \\#7- Type  & metavision                 & chartevents                & Skin - Impairment          &                            & Text                       & NA                        \\\\\n",
       "\t 15651                      & 228556                     & Pressure Ulcer \\#8- Type  & Pressure Ulcer \\#8- Type  & metavision                 & chartevents                & Skin - Impairment          &                            & Text                       & NA                        \\\\\n",
       "\t 15652                      & 228557                     & Pressure Ulcer \\#9- Type  & Pressure Ulcer \\#9- Type  & metavision                 & chartevents                & Skin - Impairment          &                            & Text                       & NA                        \\\\\n",
       "\t 15653                      & 228558                     & Pressure Ulcer \\#10- Type & Pressure Ulcer \\#10- Type & metavision                 & chartevents                & Skin - Impairment          &                            & Text                       & NA                        \\\\\n",
       "\t 15654                      & 228559                     & Incision \\#1- Location    & Incision \\#1- Location    & metavision                 & chartevents                & Skin - Incisions           &                            & Text                       & NA                        \\\\\n",
       "\t 15655                      & 228560                     & Incision \\#2- Location    & Incision \\#2- Location    & metavision                 & chartevents                & Skin - Incisions           &                            & Text                       & NA                        \\\\\n",
       "\t 15656                      & 228561                     & Incision \\#3- Location    & Incision \\#3- Location    & metavision                 & chartevents                & Skin - Incisions           &                            & Text                       & NA                        \\\\\n",
       "\t 15657                      & 228562                     & Incision \\#4- Location    & Incision \\#4- Location    & metavision                 & chartevents                & Skin - Incisions           &                            & Text                       & NA                        \\\\\n",
       "\t 15658                      & 228563                     & Incision \\#5- Location    & Incision \\#5- Location    & metavision                 & chartevents                & Skin - Incisions           &                            & Text                       & NA                        \\\\\n",
       "\t 15659                      & 228564                     & Incision \\#6- Location    & Incision \\#6- Location    & metavision                 & chartevents                & Skin - Incisions           &                            & Text                       & NA                        \\\\\n",
       "\t 15660                      & 228565                     & Incision \\#1- Cleanse     & Incision \\#1- Cleanse     & metavision                 & chartevents                & Skin - Incisions           &                            & Text                       & NA                        \\\\\n",
       "\t 15661                      & 228566                     & Incision \\#2- Cleanse     & Incision \\#2- Cleanse     & metavision                 & chartevents                & Skin - Incisions           &                            & Text                       & NA                        \\\\\n",
       "\t 15662                      & 228567                     & Incision \\#3- Cleanse     & Incision \\#3- Cleanse     & metavision                 & chartevents                & Skin - Incisions           &                            & Text                       & NA                        \\\\\n",
       "\t 15663                      & 228568                     & Incision \\#4- Cleanse     & Incision \\#4- Cleanse     & metavision                 & chartevents                & Skin - Incisions           &                            & Text                       & NA                        \\\\\n",
       "\t 15664                      & 228569                     & Incision \\#5- Cleanse     & Incision \\#5- Cleanse     & metavision                 & chartevents                & Skin - Incisions           &                            & Text                       & NA                        \\\\\n",
       "\t 15665                      & 228570                     & Incision \\#6- Cleanse     & Incision \\#6- Cleanse     & metavision                 & chartevents                & Skin - Incisions           &                            & Text                       & NA                        \\\\\n",
       "\t 15666                      & 228571                     & Incision \\#1- Treatment   & Incision \\#1- Treatment   & metavision                 & chartevents                & Skin - Incisions           &                            & Text                       & NA                        \\\\\n",
       "\t 15667                      & 228572                     & Incision \\#2- Treatment   & Incision \\#2- Treatment   & metavision                 & chartevents                & Skin - Incisions           &                            & Text                       & NA                        \\\\\n",
       "\t 15668                      & 228573                     & Incision \\#3- Treatment   & Incision \\#3- Treatment   & metavision                 & chartevents                & Skin - Incisions           &                            & Text                       & NA                        \\\\\n",
       "\t 15669                      & 228574                     & Incision \\#4- Treatment   & Incision \\#4- Treatment   & metavision                 & chartevents                & Skin - Incisions           &                            & Text                       & NA                        \\\\\n",
       "\t 15670                      & 228575                     & Incision \\#5- Treatment   & Incision \\#5- Treatment   & metavision                 & chartevents                & Skin - Incisions           &                            & Text                       & NA                        \\\\\n",
       "\t 15671                      & 228576                     & Incision \\#6- Treatment   & Incision \\#6- Treatment   & metavision                 & chartevents                & Skin - Incisions           &                            & Text                       & NA                        \\\\\n",
       "\t 15672                      & 228577                     & Impaired Skin \\#2- Type   & Impaired Skin \\#2- Type   & metavision                 & chartevents                & Skin - Impairment          &                            & Text                       & NA                        \\\\\n",
       "\t 15673                      & 228578                     & Impaired Skin \\#3- Type   & Impaired Skin \\#3- Type   & metavision                 & chartevents                & Skin - Impairment          &                            & Text                       & NA                        \\\\\n",
       "\t 15674                      & 228579                     & Impaired Skin \\#4- Type   & Impaired Skin \\#4- Type   & metavision                 & chartevents                & Skin - Impairment          &                            & Text                       & NA                        \\\\\n",
       "\\end{tabular}\n"
      ],
      "text/markdown": [
       "\n",
       "| row_id | itemid | label | abbreviation | dbsource | linksto | category | unitname | param_type | conceptid |\n",
       "|---|---|---|---|---|---|---|---|---|---|\n",
       "|  1                   | 1435                 | Sustained Nystamus   |                      | carevue              | chartevents          |                      |                      |                      | NA                   |\n",
       "|  2                   | 1436                 | Tactile Disturbances |                      | carevue              | chartevents          |                      |                      |                      | NA                   |\n",
       "|  3                   | 1437                 | Tremor               |                      | carevue              | chartevents          |                      |                      |                      | NA                   |\n",
       "|  4                   | 1438                 | Ulnar Pulse [Right]  |                      | carevue              | chartevents          |                      |                      |                      | NA                   |\n",
       "|  5                   | 1439                 | Visual Disturbances  |                      | carevue              | chartevents          |                      |                      |                      | NA                   |\n",
       "|  6                   | 1447                 | Transpulmonary Pres  |                      | carevue              | chartevents          |                      |                      |                      | NA                   |\n",
       "|  7                   | 1448                 | Vd/Vt:               |                      | carevue              | chartevents          |                      |                      |                      | NA                   |\n",
       "|  8                   | 1449                 | Arterial BP(Rad)     |                      | carevue              | chartevents          |                      |                      |                      | NA                   |\n",
       "|  9                   | 1450                 | level one            |                      | carevue              | chartevents          |                      |                      |                      | NA                   |\n",
       "| 10                   | 1451                 | L girth size         |                      | carevue              | chartevents          |                      |                      |                      | NA                   |\n",
       "| 11                   | 1452                 | #1 chest tube irrig. |                      | carevue              | chartevents          |                      |                      |                      | NA                   |\n",
       "| 12                   | 1453                 | CT DRSG              |                      | carevue              | chartevents          |                      |                      |                      | NA                   |\n",
       "| 13                   | 1454                 | r hips drsg change   |                      | carevue              | chartevents          |                      |                      |                      | NA                   |\n",
       "| 14                   | 1455                 | fingerstick glucose  |                      | carevue              | chartevents          |                      |                      |                      | NA                   |\n",
       "| 15                   | 1456                 | popliteal pulse r/l  |                      | carevue              | chartevents          |                      |                      |                      | NA                   |\n",
       "| 16                   | 1457                 | CPAP                 |                      | carevue              | chartevents          |                      |                      |                      | NA                   |\n",
       "| 17                   | 1458                 | L ankle dsg change   |                      | carevue              | chartevents          |                      |                      |                      | NA                   |\n",
       "| 18                   | 1459                 | gluteral drsg change |                      | carevue              | chartevents          |                      |                      |                      | NA                   |\n",
       "| 19                   | 1460                 | D5W 100meq NaHC03    |                      | carevue              | chartevents          |                      |                      |                      | NA                   |\n",
       "| 20                   | 1462                 | wrist  restraints    |                      | carevue              | chartevents          |                      |                      |                      | NA                   |\n",
       "| 21                   | 1463                 | pad count            |                      | carevue              | chartevents          |                      |                      |                      | NA                   |\n",
       "| 22                   | 1464                 | ZZZly Wake Up        |                      | carevue              | chartevents          |                      |                      |                      | NA                   |\n",
       "| 23                   | 1465                 | Back Dsg             |                      | carevue              | chartevents          |                      |                      |                      | NA                   |\n",
       "| 24                   | 1466                 | ATC                  |                      | carevue              | chartevents          |                      |                      |                      | NA                   |\n",
       "| 25                   | 1467                 | Pericare             |                      | carevue              | chartevents          |                      |                      |                      | NA                   |\n",
       "| 26                   | 1468                 | HI/Minute/Vol/alarm  |                      | carevue              | chartevents          |                      |                      |                      | NA                   |\n",
       "| 27                   |    1                 | % Inspir. Time       |                      | carevue              | chartevents          |                      |                      |                      | NA                   |\n",
       "| 28                   |    2                 | ABI (L)              |                      | carevue              | chartevents          |                      |                      |                      | NA                   |\n",
       "| 29                   |    3                 | ABI (R)              |                      | carevue              | chartevents          |                      |                      |                      | NA                   |\n",
       "| 30                   |    4                 | ABI Ankle BP [Right] |                      | carevue              | chartevents          |                      |                      |                      | NA                   |\n",
       "| ... | ... | ... | ... | ... | ... | ... | ... | ... | ... |\n",
       "| 15645                    | 228550                   | Pressure Ulcer #2- Type  | Pressure Ulcer #2- Type  | metavision               | chartevents              | Skin - Impairment        |                          | Text                     | NA                       |\n",
       "| 15646                    | 228551                   | Pressure Ulcer #3- Type  | Pressure Ulcer #3- Type  | metavision               | chartevents              | Skin - Impairment        |                          | Text                     | NA                       |\n",
       "| 15647                    | 228552                   | Pressure Ulcer #4- Type  | Pressure Ulcer #4- Type  | metavision               | chartevents              | Skin - Impairment        |                          | Text                     | NA                       |\n",
       "| 15648                    | 228553                   | Pressure Ulcer #5- Type  | Pressure Ulcer #5- Type  | metavision               | chartevents              | Skin - Impairment        |                          | Text                     | NA                       |\n",
       "| 15649                    | 228554                   | Pressure Ulcer #6- Type  | Pressure Ulcer #6- Type  | metavision               | chartevents              | Skin - Impairment        |                          | Text                     | NA                       |\n",
       "| 15650                    | 228555                   | Pressure Ulcer #7- Type  | Pressure Ulcer #7- Type  | metavision               | chartevents              | Skin - Impairment        |                          | Text                     | NA                       |\n",
       "| 15651                    | 228556                   | Pressure Ulcer #8- Type  | Pressure Ulcer #8- Type  | metavision               | chartevents              | Skin - Impairment        |                          | Text                     | NA                       |\n",
       "| 15652                    | 228557                   | Pressure Ulcer #9- Type  | Pressure Ulcer #9- Type  | metavision               | chartevents              | Skin - Impairment        |                          | Text                     | NA                       |\n",
       "| 15653                    | 228558                   | Pressure Ulcer #10- Type | Pressure Ulcer #10- Type | metavision               | chartevents              | Skin - Impairment        |                          | Text                     | NA                       |\n",
       "| 15654                    | 228559                   | Incision #1- Location    | Incision #1- Location    | metavision               | chartevents              | Skin - Incisions         |                          | Text                     | NA                       |\n",
       "| 15655                    | 228560                   | Incision #2- Location    | Incision #2- Location    | metavision               | chartevents              | Skin - Incisions         |                          | Text                     | NA                       |\n",
       "| 15656                    | 228561                   | Incision #3- Location    | Incision #3- Location    | metavision               | chartevents              | Skin - Incisions         |                          | Text                     | NA                       |\n",
       "| 15657                    | 228562                   | Incision #4- Location    | Incision #4- Location    | metavision               | chartevents              | Skin - Incisions         |                          | Text                     | NA                       |\n",
       "| 15658                    | 228563                   | Incision #5- Location    | Incision #5- Location    | metavision               | chartevents              | Skin - Incisions         |                          | Text                     | NA                       |\n",
       "| 15659                    | 228564                   | Incision #6- Location    | Incision #6- Location    | metavision               | chartevents              | Skin - Incisions         |                          | Text                     | NA                       |\n",
       "| 15660                    | 228565                   | Incision #1- Cleanse     | Incision #1- Cleanse     | metavision               | chartevents              | Skin - Incisions         |                          | Text                     | NA                       |\n",
       "| 15661                    | 228566                   | Incision #2- Cleanse     | Incision #2- Cleanse     | metavision               | chartevents              | Skin - Incisions         |                          | Text                     | NA                       |\n",
       "| 15662                    | 228567                   | Incision #3- Cleanse     | Incision #3- Cleanse     | metavision               | chartevents              | Skin - Incisions         |                          | Text                     | NA                       |\n",
       "| 15663                    | 228568                   | Incision #4- Cleanse     | Incision #4- Cleanse     | metavision               | chartevents              | Skin - Incisions         |                          | Text                     | NA                       |\n",
       "| 15664                    | 228569                   | Incision #5- Cleanse     | Incision #5- Cleanse     | metavision               | chartevents              | Skin - Incisions         |                          | Text                     | NA                       |\n",
       "| 15665                    | 228570                   | Incision #6- Cleanse     | Incision #6- Cleanse     | metavision               | chartevents              | Skin - Incisions         |                          | Text                     | NA                       |\n",
       "| 15666                    | 228571                   | Incision #1- Treatment   | Incision #1- Treatment   | metavision               | chartevents              | Skin - Incisions         |                          | Text                     | NA                       |\n",
       "| 15667                    | 228572                   | Incision #2- Treatment   | Incision #2- Treatment   | metavision               | chartevents              | Skin - Incisions         |                          | Text                     | NA                       |\n",
       "| 15668                    | 228573                   | Incision #3- Treatment   | Incision #3- Treatment   | metavision               | chartevents              | Skin - Incisions         |                          | Text                     | NA                       |\n",
       "| 15669                    | 228574                   | Incision #4- Treatment   | Incision #4- Treatment   | metavision               | chartevents              | Skin - Incisions         |                          | Text                     | NA                       |\n",
       "| 15670                    | 228575                   | Incision #5- Treatment   | Incision #5- Treatment   | metavision               | chartevents              | Skin - Incisions         |                          | Text                     | NA                       |\n",
       "| 15671                    | 228576                   | Incision #6- Treatment   | Incision #6- Treatment   | metavision               | chartevents              | Skin - Incisions         |                          | Text                     | NA                       |\n",
       "| 15672                    | 228577                   | Impaired Skin #2- Type   | Impaired Skin #2- Type   | metavision               | chartevents              | Skin - Impairment        |                          | Text                     | NA                       |\n",
       "| 15673                    | 228578                   | Impaired Skin #3- Type   | Impaired Skin #3- Type   | metavision               | chartevents              | Skin - Impairment        |                          | Text                     | NA                       |\n",
       "| 15674                    | 228579                   | Impaired Skin #4- Type   | Impaired Skin #4- Type   | metavision               | chartevents              | Skin - Impairment        |                          | Text                     | NA                       |\n",
       "\n"
      ],
      "text/plain": [
       "      row_id itemid label                    abbreviation            \n",
       "1      1     1435   Sustained Nystamus                               \n",
       "2      2     1436   Tactile Disturbances                             \n",
       "3      3     1437   Tremor                                           \n",
       "4      4     1438   Ulnar Pulse [Right]                              \n",
       "5      5     1439   Visual Disturbances                              \n",
       "6      6     1447   Transpulmonary Pres                              \n",
       "7      7     1448   Vd/Vt:                                           \n",
       "8      8     1449   Arterial BP(Rad)                                 \n",
       "9      9     1450   level one                                        \n",
       "10    10     1451   L girth size                                     \n",
       "11    11     1452   #1 chest tube irrig.                             \n",
       "12    12     1453   CT DRSG                                          \n",
       "13    13     1454   r hips drsg change                               \n",
       "14    14     1455   fingerstick glucose                              \n",
       "15    15     1456   popliteal pulse r/l                              \n",
       "16    16     1457   CPAP                                             \n",
       "17    17     1458   L ankle dsg change                               \n",
       "18    18     1459   gluteral drsg change                             \n",
       "19    19     1460   D5W 100meq NaHC03                                \n",
       "20    20     1462   wrist  restraints                                \n",
       "21    21     1463   pad count                                        \n",
       "22    22     1464   ZZZly Wake Up                                    \n",
       "23    23     1465   Back Dsg                                         \n",
       "24    24     1466   ATC                                              \n",
       "25    25     1467   Pericare                                         \n",
       "26    26     1468   HI/Minute/Vol/alarm                              \n",
       "27    27        1   % Inspir. Time                                   \n",
       "28    28        2   ABI (L)                                          \n",
       "29    29        3   ABI (R)                                          \n",
       "30    30        4   ABI Ankle BP [Right]                             \n",
       "...   ...    ...    ...                      ...                     \n",
       "12458 15645  228550 Pressure Ulcer #2- Type  Pressure Ulcer #2- Type \n",
       "12459 15646  228551 Pressure Ulcer #3- Type  Pressure Ulcer #3- Type \n",
       "12460 15647  228552 Pressure Ulcer #4- Type  Pressure Ulcer #4- Type \n",
       "12461 15648  228553 Pressure Ulcer #5- Type  Pressure Ulcer #5- Type \n",
       "12462 15649  228554 Pressure Ulcer #6- Type  Pressure Ulcer #6- Type \n",
       "12463 15650  228555 Pressure Ulcer #7- Type  Pressure Ulcer #7- Type \n",
       "12464 15651  228556 Pressure Ulcer #8- Type  Pressure Ulcer #8- Type \n",
       "12465 15652  228557 Pressure Ulcer #9- Type  Pressure Ulcer #9- Type \n",
       "12466 15653  228558 Pressure Ulcer #10- Type Pressure Ulcer #10- Type\n",
       "12467 15654  228559 Incision #1- Location    Incision #1- Location   \n",
       "12468 15655  228560 Incision #2- Location    Incision #2- Location   \n",
       "12469 15656  228561 Incision #3- Location    Incision #3- Location   \n",
       "12470 15657  228562 Incision #4- Location    Incision #4- Location   \n",
       "12471 15658  228563 Incision #5- Location    Incision #5- Location   \n",
       "12472 15659  228564 Incision #6- Location    Incision #6- Location   \n",
       "12473 15660  228565 Incision #1- Cleanse     Incision #1- Cleanse    \n",
       "12474 15661  228566 Incision #2- Cleanse     Incision #2- Cleanse    \n",
       "12475 15662  228567 Incision #3- Cleanse     Incision #3- Cleanse    \n",
       "12476 15663  228568 Incision #4- Cleanse     Incision #4- Cleanse    \n",
       "12477 15664  228569 Incision #5- Cleanse     Incision #5- Cleanse    \n",
       "12478 15665  228570 Incision #6- Cleanse     Incision #6- Cleanse    \n",
       "12479 15666  228571 Incision #1- Treatment   Incision #1- Treatment  \n",
       "12480 15667  228572 Incision #2- Treatment   Incision #2- Treatment  \n",
       "12481 15668  228573 Incision #3- Treatment   Incision #3- Treatment  \n",
       "12482 15669  228574 Incision #4- Treatment   Incision #4- Treatment  \n",
       "12483 15670  228575 Incision #5- Treatment   Incision #5- Treatment  \n",
       "12484 15671  228576 Incision #6- Treatment   Incision #6- Treatment  \n",
       "12485 15672  228577 Impaired Skin #2- Type   Impaired Skin #2- Type  \n",
       "12486 15673  228578 Impaired Skin #3- Type   Impaired Skin #3- Type  \n",
       "12487 15674  228579 Impaired Skin #4- Type   Impaired Skin #4- Type  \n",
       "      dbsource   linksto     category          unitname param_type conceptid\n",
       "1     carevue    chartevents                                       NA       \n",
       "2     carevue    chartevents                                       NA       \n",
       "3     carevue    chartevents                                       NA       \n",
       "4     carevue    chartevents                                       NA       \n",
       "5     carevue    chartevents                                       NA       \n",
       "6     carevue    chartevents                                       NA       \n",
       "7     carevue    chartevents                                       NA       \n",
       "8     carevue    chartevents                                       NA       \n",
       "9     carevue    chartevents                                       NA       \n",
       "10    carevue    chartevents                                       NA       \n",
       "11    carevue    chartevents                                       NA       \n",
       "12    carevue    chartevents                                       NA       \n",
       "13    carevue    chartevents                                       NA       \n",
       "14    carevue    chartevents                                       NA       \n",
       "15    carevue    chartevents                                       NA       \n",
       "16    carevue    chartevents                                       NA       \n",
       "17    carevue    chartevents                                       NA       \n",
       "18    carevue    chartevents                                       NA       \n",
       "19    carevue    chartevents                                       NA       \n",
       "20    carevue    chartevents                                       NA       \n",
       "21    carevue    chartevents                                       NA       \n",
       "22    carevue    chartevents                                       NA       \n",
       "23    carevue    chartevents                                       NA       \n",
       "24    carevue    chartevents                                       NA       \n",
       "25    carevue    chartevents                                       NA       \n",
       "26    carevue    chartevents                                       NA       \n",
       "27    carevue    chartevents                                       NA       \n",
       "28    carevue    chartevents                                       NA       \n",
       "29    carevue    chartevents                                       NA       \n",
       "30    carevue    chartevents                                       NA       \n",
       "...   ...        ...         ...               ...      ...        ...      \n",
       "12458 metavision chartevents Skin - Impairment          Text       NA       \n",
       "12459 metavision chartevents Skin - Impairment          Text       NA       \n",
       "12460 metavision chartevents Skin - Impairment          Text       NA       \n",
       "12461 metavision chartevents Skin - Impairment          Text       NA       \n",
       "12462 metavision chartevents Skin - Impairment          Text       NA       \n",
       "12463 metavision chartevents Skin - Impairment          Text       NA       \n",
       "12464 metavision chartevents Skin - Impairment          Text       NA       \n",
       "12465 metavision chartevents Skin - Impairment          Text       NA       \n",
       "12466 metavision chartevents Skin - Impairment          Text       NA       \n",
       "12467 metavision chartevents Skin - Incisions           Text       NA       \n",
       "12468 metavision chartevents Skin - Incisions           Text       NA       \n",
       "12469 metavision chartevents Skin - Incisions           Text       NA       \n",
       "12470 metavision chartevents Skin - Incisions           Text       NA       \n",
       "12471 metavision chartevents Skin - Incisions           Text       NA       \n",
       "12472 metavision chartevents Skin - Incisions           Text       NA       \n",
       "12473 metavision chartevents Skin - Incisions           Text       NA       \n",
       "12474 metavision chartevents Skin - Incisions           Text       NA       \n",
       "12475 metavision chartevents Skin - Incisions           Text       NA       \n",
       "12476 metavision chartevents Skin - Incisions           Text       NA       \n",
       "12477 metavision chartevents Skin - Incisions           Text       NA       \n",
       "12478 metavision chartevents Skin - Incisions           Text       NA       \n",
       "12479 metavision chartevents Skin - Incisions           Text       NA       \n",
       "12480 metavision chartevents Skin - Incisions           Text       NA       \n",
       "12481 metavision chartevents Skin - Incisions           Text       NA       \n",
       "12482 metavision chartevents Skin - Incisions           Text       NA       \n",
       "12483 metavision chartevents Skin - Incisions           Text       NA       \n",
       "12484 metavision chartevents Skin - Incisions           Text       NA       \n",
       "12485 metavision chartevents Skin - Impairment          Text       NA       \n",
       "12486 metavision chartevents Skin - Impairment          Text       NA       \n",
       "12487 metavision chartevents Skin - Impairment          Text       NA       "
      ]
     },
     "metadata": {},
     "output_type": "display_data"
    }
   ],
   "source": [
    "# Importamos el archivo D_ITEMS.csv desde la carpeta data\n",
    "# Prueba importar otra tabla desde la base de datos y lee su documentación\n",
    "d_items = read.csv(\"data/D_ITEMS.csv\")\n",
    "d_items"
   ]
  },
  {
   "cell_type": "markdown",
   "metadata": {},
   "source": [
    "## Exploración de un data frame"
   ]
  },
  {
   "cell_type": "markdown",
   "metadata": {},
   "source": [
    "El primer paso en cualquier proyecto de ciencia de datos es explorar los conjuntos de datos a los que tenemos acceso, aquí se enumeran algunas de las funciones más utilizadas en la exploración inicial de datos:\n",
    "* `head(x)`: Muestra las observaciones de las primeras filas del conjunto de datos `x`.\n",
    "* `tail(x)`: Muestra las observaciones de las últimas filas del conjunto de datos `x`. "
   ]
  },
  {
   "cell_type": "code",
   "execution_count": 20,
   "metadata": {},
   "outputs": [
    {
     "data": {
      "text/html": [
       "<table>\n",
       "<thead><tr><th scope=col>row_id</th><th scope=col>itemid</th><th scope=col>label</th><th scope=col>abbreviation</th><th scope=col>dbsource</th><th scope=col>linksto</th><th scope=col>category</th><th scope=col>unitname</th><th scope=col>param_type</th><th scope=col>conceptid</th></tr></thead>\n",
       "<tbody>\n",
       "\t<tr><td>1                   </td><td>1435                </td><td>Sustained Nystamus  </td><td>                    </td><td>carevue             </td><td>chartevents         </td><td>                    </td><td>                    </td><td>                    </td><td>NA                  </td></tr>\n",
       "\t<tr><td>2                   </td><td>1436                </td><td>Tactile Disturbances</td><td>                    </td><td>carevue             </td><td>chartevents         </td><td>                    </td><td>                    </td><td>                    </td><td>NA                  </td></tr>\n",
       "\t<tr><td>3                   </td><td>1437                </td><td>Tremor              </td><td>                    </td><td>carevue             </td><td>chartevents         </td><td>                    </td><td>                    </td><td>                    </td><td>NA                  </td></tr>\n",
       "\t<tr><td>4                   </td><td>1438                </td><td>Ulnar Pulse [Right] </td><td>                    </td><td>carevue             </td><td>chartevents         </td><td>                    </td><td>                    </td><td>                    </td><td>NA                  </td></tr>\n",
       "\t<tr><td>5                   </td><td>1439                </td><td>Visual Disturbances </td><td>                    </td><td>carevue             </td><td>chartevents         </td><td>                    </td><td>                    </td><td>                    </td><td>NA                  </td></tr>\n",
       "\t<tr><td>6                   </td><td>1447                </td><td>Transpulmonary Pres </td><td>                    </td><td>carevue             </td><td>chartevents         </td><td>                    </td><td>                    </td><td>                    </td><td>NA                  </td></tr>\n",
       "</tbody>\n",
       "</table>\n"
      ],
      "text/latex": [
       "\\begin{tabular}{r|llllllllll}\n",
       " row\\_id & itemid & label & abbreviation & dbsource & linksto & category & unitname & param\\_type & conceptid\\\\\n",
       "\\hline\n",
       "\t 1                    & 1435                 & Sustained Nystamus   &                      & carevue              & chartevents          &                      &                      &                      & NA                  \\\\\n",
       "\t 2                    & 1436                 & Tactile Disturbances &                      & carevue              & chartevents          &                      &                      &                      & NA                  \\\\\n",
       "\t 3                    & 1437                 & Tremor               &                      & carevue              & chartevents          &                      &                      &                      & NA                  \\\\\n",
       "\t 4                        & 1438                     & Ulnar Pulse {[}Right{]}  &                          & carevue                  & chartevents              &                          &                          &                          & NA                      \\\\\n",
       "\t 5                    & 1439                 & Visual Disturbances  &                      & carevue              & chartevents          &                      &                      &                      & NA                  \\\\\n",
       "\t 6                    & 1447                 & Transpulmonary Pres  &                      & carevue              & chartevents          &                      &                      &                      & NA                  \\\\\n",
       "\\end{tabular}\n"
      ],
      "text/markdown": [
       "\n",
       "| row_id | itemid | label | abbreviation | dbsource | linksto | category | unitname | param_type | conceptid |\n",
       "|---|---|---|---|---|---|---|---|---|---|\n",
       "| 1                    | 1435                 | Sustained Nystamus   |                      | carevue              | chartevents          |                      |                      |                      | NA                   |\n",
       "| 2                    | 1436                 | Tactile Disturbances |                      | carevue              | chartevents          |                      |                      |                      | NA                   |\n",
       "| 3                    | 1437                 | Tremor               |                      | carevue              | chartevents          |                      |                      |                      | NA                   |\n",
       "| 4                    | 1438                 | Ulnar Pulse [Right]  |                      | carevue              | chartevents          |                      |                      |                      | NA                   |\n",
       "| 5                    | 1439                 | Visual Disturbances  |                      | carevue              | chartevents          |                      |                      |                      | NA                   |\n",
       "| 6                    | 1447                 | Transpulmonary Pres  |                      | carevue              | chartevents          |                      |                      |                      | NA                   |\n",
       "\n"
      ],
      "text/plain": [
       "  row_id itemid label                abbreviation dbsource linksto     category\n",
       "1 1      1435   Sustained Nystamus                carevue  chartevents         \n",
       "2 2      1436   Tactile Disturbances              carevue  chartevents         \n",
       "3 3      1437   Tremor                            carevue  chartevents         \n",
       "4 4      1438   Ulnar Pulse [Right]               carevue  chartevents         \n",
       "5 5      1439   Visual Disturbances               carevue  chartevents         \n",
       "6 6      1447   Transpulmonary Pres               carevue  chartevents         \n",
       "  unitname param_type conceptid\n",
       "1                     NA       \n",
       "2                     NA       \n",
       "3                     NA       \n",
       "4                     NA       \n",
       "5                     NA       \n",
       "6                     NA       "
      ]
     },
     "metadata": {},
     "output_type": "display_data"
    }
   ],
   "source": [
    "head(d_items)"
   ]
  },
  {
   "cell_type": "markdown",
   "metadata": {},
   "source": [
    "Según la documentación, la columna `itemid` contiene el identificador único del ítem y la columna `label` contiene describe el concepto."
   ]
  },
  {
   "cell_type": "code",
   "execution_count": 21,
   "metadata": {},
   "outputs": [
    {
     "data": {
      "text/html": [
       "<table>\n",
       "<thead><tr><th></th><th scope=col>row_id</th><th scope=col>itemid</th><th scope=col>label</th><th scope=col>abbreviation</th><th scope=col>dbsource</th><th scope=col>linksto</th><th scope=col>category</th><th scope=col>unitname</th><th scope=col>param_type</th><th scope=col>conceptid</th></tr></thead>\n",
       "<tbody>\n",
       "\t<tr><th scope=row>12482</th><td>15669                 </td><td>228574                </td><td>Incision #4- Treatment</td><td>Incision #4- Treatment</td><td>metavision            </td><td>chartevents           </td><td>Skin - Incisions      </td><td>                      </td><td>Text                  </td><td>NA                    </td></tr>\n",
       "\t<tr><th scope=row>12483</th><td>15670                 </td><td>228575                </td><td>Incision #5- Treatment</td><td>Incision #5- Treatment</td><td>metavision            </td><td>chartevents           </td><td>Skin - Incisions      </td><td>                      </td><td>Text                  </td><td>NA                    </td></tr>\n",
       "\t<tr><th scope=row>12484</th><td>15671                 </td><td>228576                </td><td>Incision #6- Treatment</td><td>Incision #6- Treatment</td><td>metavision            </td><td>chartevents           </td><td>Skin - Incisions      </td><td>                      </td><td>Text                  </td><td>NA                    </td></tr>\n",
       "\t<tr><th scope=row>12485</th><td>15672                 </td><td>228577                </td><td>Impaired Skin #2- Type</td><td>Impaired Skin #2- Type</td><td>metavision            </td><td>chartevents           </td><td>Skin - Impairment     </td><td>                      </td><td>Text                  </td><td>NA                    </td></tr>\n",
       "\t<tr><th scope=row>12486</th><td>15673                 </td><td>228578                </td><td>Impaired Skin #3- Type</td><td>Impaired Skin #3- Type</td><td>metavision            </td><td>chartevents           </td><td>Skin - Impairment     </td><td>                      </td><td>Text                  </td><td>NA                    </td></tr>\n",
       "\t<tr><th scope=row>12487</th><td>15674                 </td><td>228579                </td><td>Impaired Skin #4- Type</td><td>Impaired Skin #4- Type</td><td>metavision            </td><td>chartevents           </td><td>Skin - Impairment     </td><td>                      </td><td>Text                  </td><td>NA                    </td></tr>\n",
       "</tbody>\n",
       "</table>\n"
      ],
      "text/latex": [
       "\\begin{tabular}{r|llllllllll}\n",
       "  & row\\_id & itemid & label & abbreviation & dbsource & linksto & category & unitname & param\\_type & conceptid\\\\\n",
       "\\hline\n",
       "\t12482 & 15669                    & 228574                   & Incision \\#4- Treatment & Incision \\#4- Treatment & metavision               & chartevents              & Skin - Incisions         &                          & Text                     & NA                      \\\\\n",
       "\t12483 & 15670                    & 228575                   & Incision \\#5- Treatment & Incision \\#5- Treatment & metavision               & chartevents              & Skin - Incisions         &                          & Text                     & NA                      \\\\\n",
       "\t12484 & 15671                    & 228576                   & Incision \\#6- Treatment & Incision \\#6- Treatment & metavision               & chartevents              & Skin - Incisions         &                          & Text                     & NA                      \\\\\n",
       "\t12485 & 15672                    & 228577                   & Impaired Skin \\#2- Type & Impaired Skin \\#2- Type & metavision               & chartevents              & Skin - Impairment        &                          & Text                     & NA                      \\\\\n",
       "\t12486 & 15673                    & 228578                   & Impaired Skin \\#3- Type & Impaired Skin \\#3- Type & metavision               & chartevents              & Skin - Impairment        &                          & Text                     & NA                      \\\\\n",
       "\t12487 & 15674                    & 228579                   & Impaired Skin \\#4- Type & Impaired Skin \\#4- Type & metavision               & chartevents              & Skin - Impairment        &                          & Text                     & NA                      \\\\\n",
       "\\end{tabular}\n"
      ],
      "text/markdown": [
       "\n",
       "| <!--/--> | row_id | itemid | label | abbreviation | dbsource | linksto | category | unitname | param_type | conceptid |\n",
       "|---|---|---|---|---|---|---|---|---|---|---|\n",
       "| 12482 | 15669                  | 228574                 | Incision #4- Treatment | Incision #4- Treatment | metavision             | chartevents            | Skin - Incisions       |                        | Text                   | NA                     |\n",
       "| 12483 | 15670                  | 228575                 | Incision #5- Treatment | Incision #5- Treatment | metavision             | chartevents            | Skin - Incisions       |                        | Text                   | NA                     |\n",
       "| 12484 | 15671                  | 228576                 | Incision #6- Treatment | Incision #6- Treatment | metavision             | chartevents            | Skin - Incisions       |                        | Text                   | NA                     |\n",
       "| 12485 | 15672                  | 228577                 | Impaired Skin #2- Type | Impaired Skin #2- Type | metavision             | chartevents            | Skin - Impairment      |                        | Text                   | NA                     |\n",
       "| 12486 | 15673                  | 228578                 | Impaired Skin #3- Type | Impaired Skin #3- Type | metavision             | chartevents            | Skin - Impairment      |                        | Text                   | NA                     |\n",
       "| 12487 | 15674                  | 228579                 | Impaired Skin #4- Type | Impaired Skin #4- Type | metavision             | chartevents            | Skin - Impairment      |                        | Text                   | NA                     |\n",
       "\n"
      ],
      "text/plain": [
       "      row_id itemid label                  abbreviation           dbsource  \n",
       "12482 15669  228574 Incision #4- Treatment Incision #4- Treatment metavision\n",
       "12483 15670  228575 Incision #5- Treatment Incision #5- Treatment metavision\n",
       "12484 15671  228576 Incision #6- Treatment Incision #6- Treatment metavision\n",
       "12485 15672  228577 Impaired Skin #2- Type Impaired Skin #2- Type metavision\n",
       "12486 15673  228578 Impaired Skin #3- Type Impaired Skin #3- Type metavision\n",
       "12487 15674  228579 Impaired Skin #4- Type Impaired Skin #4- Type metavision\n",
       "      linksto     category          unitname param_type conceptid\n",
       "12482 chartevents Skin - Incisions           Text       NA       \n",
       "12483 chartevents Skin - Incisions           Text       NA       \n",
       "12484 chartevents Skin - Incisions           Text       NA       \n",
       "12485 chartevents Skin - Impairment          Text       NA       \n",
       "12486 chartevents Skin - Impairment          Text       NA       \n",
       "12487 chartevents Skin - Impairment          Text       NA       "
      ]
     },
     "metadata": {},
     "output_type": "display_data"
    }
   ],
   "source": [
    "tail(d_items)"
   ]
  },
  {
   "cell_type": "markdown",
   "metadata": {},
   "source": [
    "Busquemos un signo vital interesante para explorar. Filtremos todos los ítems que tengan la unidad de medida _bpm_."
   ]
  },
  {
   "cell_type": "code",
   "execution_count": 22,
   "metadata": {},
   "outputs": [
    {
     "data": {
      "text/html": [
       "<table>\n",
       "<thead><tr><th></th><th scope=col>row_id</th><th scope=col>itemid</th><th scope=col>label</th><th scope=col>abbreviation</th><th scope=col>dbsource</th><th scope=col>linksto</th><th scope=col>category</th><th scope=col>unitname</th><th scope=col>param_type</th><th scope=col>conceptid</th></tr></thead>\n",
       "<tbody>\n",
       "\t<tr><th scope=row>9525</th><td>12712                      </td><td>220045                     </td><td>Heart Rate                 </td><td>HR                         </td><td>metavision                 </td><td>chartevents                </td><td>Routine Vital Signs        </td><td>bpm                        </td><td>Numeric                    </td><td>NA                         </td></tr>\n",
       "\t<tr><th scope=row>9526</th><td>12713                      </td><td>220046                     </td><td>Heart rate Alarm - High    </td><td>HR Alarm - High            </td><td>metavision                 </td><td>chartevents                </td><td>Alarms                     </td><td>bpm                        </td><td>Numeric                    </td><td>NA                         </td></tr>\n",
       "\t<tr><th scope=row>9527</th><td>12714                      </td><td>220047                     </td><td>Heart Rate Alarm - Low     </td><td>HR Alarm - Low             </td><td>metavision                 </td><td>chartevents                </td><td>Alarms                     </td><td>bpm                        </td><td>Numeric                    </td><td>NA                         </td></tr>\n",
       "\t<tr><th scope=row>9573</th><td>12760                      </td><td>223764                     </td><td>Orthostatic HR lying       </td><td>Orthostatic HR lying       </td><td>metavision                 </td><td>chartevents                </td><td>Routine Vital Signs        </td><td>bpm                        </td><td>Numeric                    </td><td>NA                         </td></tr>\n",
       "\t<tr><th scope=row>9574</th><td>12761                      </td><td>223765                     </td><td>Orthostatic HR sitting     </td><td>Orthostatic HR sitting     </td><td>metavision                 </td><td>chartevents                </td><td>Routine Vital Signs        </td><td>bpm                        </td><td>Numeric                    </td><td>NA                         </td></tr>\n",
       "\t<tr><th scope=row>9583</th><td>12770                      </td><td>223775                     </td><td>VAD Beat Rate R            </td><td>VAD Beat Rate R            </td><td>metavision                 </td><td>chartevents                </td><td>Hemodynamics               </td><td>bpm                        </td><td>Numeric                    </td><td>NA                         </td></tr>\n",
       "\t<tr><th scope=row>9941</th><td>13128                      </td><td>224363                     </td><td>VAD Beat Rate L            </td><td>VAD Beat Rate L            </td><td>metavision                 </td><td>chartevents                </td><td>Hemodynamics               </td><td>bpm                        </td><td>Numeric                    </td><td>NA                         </td></tr>\n",
       "\t<tr><th scope=row>10103</th><td>13290                      </td><td>224751                     </td><td>Temporary Pacemaker Rate   </td><td>Temp Pacemaker Rate        </td><td>metavision                 </td><td>chartevents                </td><td>Cardiovascular (Pacer Data)</td><td>bpm                        </td><td>Numeric                    </td><td>NA                         </td></tr>\n",
       "\t<tr><th scope=row>10152</th><td>13339                      </td><td>224422                     </td><td>Spont RR                   </td><td>Spont RR                   </td><td>metavision                 </td><td>chartevents                </td><td>Respiratory                </td><td>bpm                        </td><td>Numeric                    </td><td>NA                         </td></tr>\n",
       "\t<tr><th scope=row>10240</th><td>13427                      </td><td>224647                     </td><td>Orthostatic HR standing    </td><td>Orthostatic HR standing    </td><td>metavision                 </td><td>chartevents                </td><td>Routine Vital Signs        </td><td>bpm                        </td><td>Numeric                    </td><td>NA                         </td></tr>\n",
       "\t<tr><th scope=row>11338</th><td>14525                      </td><td>226764                     </td><td>HrApacheIIValue            </td><td>HrApacheIIValue            </td><td>metavision                 </td><td>chartevents                </td><td>Scores - APACHE II         </td><td>bpm                        </td><td>Numeric                    </td><td>NA                         </td></tr>\n",
       "\t<tr><th scope=row>11508</th><td>14695                      </td><td>227018                     </td><td>HR_ApacheIV                </td><td>HR_ApacheIV                </td><td>metavision                 </td><td>chartevents                </td><td>Scores - APACHE IV (2)     </td><td>bpm                        </td><td>Numeric                    </td><td>NA                         </td></tr>\n",
       "\t<tr><th scope=row>11616</th><td>14803                      </td><td>227581                     </td><td>BiPap bpm (S/T -Back up)   </td><td>BiPap bpm (S/T -Back up)   </td><td>metavision                 </td><td>chartevents                </td><td>Respiratory                </td><td>bpm                        </td><td>Numeric                    </td><td>NA                         </td></tr>\n",
       "</tbody>\n",
       "</table>\n"
      ],
      "text/latex": [
       "\\begin{tabular}{r|llllllllll}\n",
       "  & row\\_id & itemid & label & abbreviation & dbsource & linksto & category & unitname & param\\_type & conceptid\\\\\n",
       "\\hline\n",
       "\t9525 & 12712                       & 220045                      & Heart Rate                  & HR                          & metavision                  & chartevents                 & Routine Vital Signs         & bpm                         & Numeric                     & NA                         \\\\\n",
       "\t9526 & 12713                       & 220046                      & Heart rate Alarm - High     & HR Alarm - High             & metavision                  & chartevents                 & Alarms                      & bpm                         & Numeric                     & NA                         \\\\\n",
       "\t9527 & 12714                       & 220047                      & Heart Rate Alarm - Low      & HR Alarm - Low              & metavision                  & chartevents                 & Alarms                      & bpm                         & Numeric                     & NA                         \\\\\n",
       "\t9573 & 12760                       & 223764                      & Orthostatic HR lying        & Orthostatic HR lying        & metavision                  & chartevents                 & Routine Vital Signs         & bpm                         & Numeric                     & NA                         \\\\\n",
       "\t9574 & 12761                       & 223765                      & Orthostatic HR sitting      & Orthostatic HR sitting      & metavision                  & chartevents                 & Routine Vital Signs         & bpm                         & Numeric                     & NA                         \\\\\n",
       "\t9583 & 12770                       & 223775                      & VAD Beat Rate R             & VAD Beat Rate R             & metavision                  & chartevents                 & Hemodynamics                & bpm                         & Numeric                     & NA                         \\\\\n",
       "\t9941 & 13128                       & 224363                      & VAD Beat Rate L             & VAD Beat Rate L             & metavision                  & chartevents                 & Hemodynamics                & bpm                         & Numeric                     & NA                         \\\\\n",
       "\t10103 & 13290                       & 224751                      & Temporary Pacemaker Rate    & Temp Pacemaker Rate         & metavision                  & chartevents                 & Cardiovascular (Pacer Data) & bpm                         & Numeric                     & NA                         \\\\\n",
       "\t10152 & 13339                       & 224422                      & Spont RR                    & Spont RR                    & metavision                  & chartevents                 & Respiratory                 & bpm                         & Numeric                     & NA                         \\\\\n",
       "\t10240 & 13427                       & 224647                      & Orthostatic HR standing     & Orthostatic HR standing     & metavision                  & chartevents                 & Routine Vital Signs         & bpm                         & Numeric                     & NA                         \\\\\n",
       "\t11338 & 14525                       & 226764                      & HrApacheIIValue             & HrApacheIIValue             & metavision                  & chartevents                 & Scores - APACHE II          & bpm                         & Numeric                     & NA                         \\\\\n",
       "\t11508 & 14695                       & 227018                      & HR\\_ApacheIV               & HR\\_ApacheIV               & metavision                  & chartevents                 & Scores - APACHE IV (2)      & bpm                         & Numeric                     & NA                         \\\\\n",
       "\t11616 & 14803                       & 227581                      & BiPap bpm (S/T -Back up)    & BiPap bpm (S/T -Back up)    & metavision                  & chartevents                 & Respiratory                 & bpm                         & Numeric                     & NA                         \\\\\n",
       "\\end{tabular}\n"
      ],
      "text/markdown": [
       "\n",
       "| <!--/--> | row_id | itemid | label | abbreviation | dbsource | linksto | category | unitname | param_type | conceptid |\n",
       "|---|---|---|---|---|---|---|---|---|---|---|\n",
       "| 9525 | 12712                       | 220045                      | Heart Rate                  | HR                          | metavision                  | chartevents                 | Routine Vital Signs         | bpm                         | Numeric                     | NA                          |\n",
       "| 9526 | 12713                       | 220046                      | Heart rate Alarm - High     | HR Alarm - High             | metavision                  | chartevents                 | Alarms                      | bpm                         | Numeric                     | NA                          |\n",
       "| 9527 | 12714                       | 220047                      | Heart Rate Alarm - Low      | HR Alarm - Low              | metavision                  | chartevents                 | Alarms                      | bpm                         | Numeric                     | NA                          |\n",
       "| 9573 | 12760                       | 223764                      | Orthostatic HR lying        | Orthostatic HR lying        | metavision                  | chartevents                 | Routine Vital Signs         | bpm                         | Numeric                     | NA                          |\n",
       "| 9574 | 12761                       | 223765                      | Orthostatic HR sitting      | Orthostatic HR sitting      | metavision                  | chartevents                 | Routine Vital Signs         | bpm                         | Numeric                     | NA                          |\n",
       "| 9583 | 12770                       | 223775                      | VAD Beat Rate R             | VAD Beat Rate R             | metavision                  | chartevents                 | Hemodynamics                | bpm                         | Numeric                     | NA                          |\n",
       "| 9941 | 13128                       | 224363                      | VAD Beat Rate L             | VAD Beat Rate L             | metavision                  | chartevents                 | Hemodynamics                | bpm                         | Numeric                     | NA                          |\n",
       "| 10103 | 13290                       | 224751                      | Temporary Pacemaker Rate    | Temp Pacemaker Rate         | metavision                  | chartevents                 | Cardiovascular (Pacer Data) | bpm                         | Numeric                     | NA                          |\n",
       "| 10152 | 13339                       | 224422                      | Spont RR                    | Spont RR                    | metavision                  | chartevents                 | Respiratory                 | bpm                         | Numeric                     | NA                          |\n",
       "| 10240 | 13427                       | 224647                      | Orthostatic HR standing     | Orthostatic HR standing     | metavision                  | chartevents                 | Routine Vital Signs         | bpm                         | Numeric                     | NA                          |\n",
       "| 11338 | 14525                       | 226764                      | HrApacheIIValue             | HrApacheIIValue             | metavision                  | chartevents                 | Scores - APACHE II          | bpm                         | Numeric                     | NA                          |\n",
       "| 11508 | 14695                       | 227018                      | HR_ApacheIV                 | HR_ApacheIV                 | metavision                  | chartevents                 | Scores - APACHE IV (2)      | bpm                         | Numeric                     | NA                          |\n",
       "| 11616 | 14803                       | 227581                      | BiPap bpm (S/T -Back up)    | BiPap bpm (S/T -Back up)    | metavision                  | chartevents                 | Respiratory                 | bpm                         | Numeric                     | NA                          |\n",
       "\n"
      ],
      "text/plain": [
       "      row_id itemid label                    abbreviation            \n",
       "9525  12712  220045 Heart Rate               HR                      \n",
       "9526  12713  220046 Heart rate Alarm - High  HR Alarm - High         \n",
       "9527  12714  220047 Heart Rate Alarm - Low   HR Alarm - Low          \n",
       "9573  12760  223764 Orthostatic HR lying     Orthostatic HR lying    \n",
       "9574  12761  223765 Orthostatic HR sitting   Orthostatic HR sitting  \n",
       "9583  12770  223775 VAD Beat Rate R          VAD Beat Rate R         \n",
       "9941  13128  224363 VAD Beat Rate L          VAD Beat Rate L         \n",
       "10103 13290  224751 Temporary Pacemaker Rate Temp Pacemaker Rate     \n",
       "10152 13339  224422 Spont RR                 Spont RR                \n",
       "10240 13427  224647 Orthostatic HR standing  Orthostatic HR standing \n",
       "11338 14525  226764 HrApacheIIValue          HrApacheIIValue         \n",
       "11508 14695  227018 HR_ApacheIV              HR_ApacheIV             \n",
       "11616 14803  227581 BiPap bpm (S/T -Back up) BiPap bpm (S/T -Back up)\n",
       "      dbsource   linksto     category                    unitname param_type\n",
       "9525  metavision chartevents Routine Vital Signs         bpm      Numeric   \n",
       "9526  metavision chartevents Alarms                      bpm      Numeric   \n",
       "9527  metavision chartevents Alarms                      bpm      Numeric   \n",
       "9573  metavision chartevents Routine Vital Signs         bpm      Numeric   \n",
       "9574  metavision chartevents Routine Vital Signs         bpm      Numeric   \n",
       "9583  metavision chartevents Hemodynamics                bpm      Numeric   \n",
       "9941  metavision chartevents Hemodynamics                bpm      Numeric   \n",
       "10103 metavision chartevents Cardiovascular (Pacer Data) bpm      Numeric   \n",
       "10152 metavision chartevents Respiratory                 bpm      Numeric   \n",
       "10240 metavision chartevents Routine Vital Signs         bpm      Numeric   \n",
       "11338 metavision chartevents Scores - APACHE II          bpm      Numeric   \n",
       "11508 metavision chartevents Scores - APACHE IV (2)      bpm      Numeric   \n",
       "11616 metavision chartevents Respiratory                 bpm      Numeric   \n",
       "      conceptid\n",
       "9525  NA       \n",
       "9526  NA       \n",
       "9527  NA       \n",
       "9573  NA       \n",
       "9574  NA       \n",
       "9583  NA       \n",
       "9941  NA       \n",
       "10103 NA       \n",
       "10152 NA       \n",
       "10240 NA       \n",
       "11338 NA       \n",
       "11508 NA       \n",
       "11616 NA       "
      ]
     },
     "metadata": {},
     "output_type": "display_data"
    }
   ],
   "source": [
    "d_items[d_items$unitname == \"bpm\",]"
   ]
  },
  {
   "cell_type": "markdown",
   "metadata": {},
   "source": [
    "El `itemid` _220045_ parece ser el indicado para extraer la frecuencia cardiaca de un paciente, recordemos ese código:"
   ]
  },
  {
   "cell_type": "code",
   "execution_count": 23,
   "metadata": {},
   "outputs": [],
   "source": [
    "hr_id = 220045"
   ]
  },
  {
   "cell_type": "markdown",
   "metadata": {},
   "source": [
    "Importaremos otra tabla de la base de datos.\n",
    "\n",
    "La tabla `CHARTEVENTS` contiene todos los datos de las tablas de enfermería de todos los pacientes de la base de datos. La documentación completa la encuentras acá https://mimic.physionet.org/mimictables/chartevents/ ."
   ]
  },
  {
   "cell_type": "code",
   "execution_count": 24,
   "metadata": {},
   "outputs": [],
   "source": [
    "chartevents = read.csv(\"data/CHARTEVENTS.csv\")"
   ]
  },
  {
   "cell_type": "code",
   "execution_count": 25,
   "metadata": {},
   "outputs": [
    {
     "data": {
      "text/html": [
       "<table>\n",
       "<thead><tr><th scope=col>row_id</th><th scope=col>subject_id</th><th scope=col>hadm_id</th><th scope=col>icustay_id</th><th scope=col>itemid</th><th scope=col>charttime</th><th scope=col>storetime</th><th scope=col>cgid</th><th scope=col>value</th><th scope=col>valuenum</th><th scope=col>valueuom</th><th scope=col>warning</th><th scope=col>error</th><th scope=col>resultstatus</th><th scope=col>stopped</th></tr></thead>\n",
       "<tbody>\n",
       "\t<tr><td>5279021            </td><td>40124              </td><td>126179             </td><td>279554             </td><td>223761             </td><td>2130-02-04 04:00:00</td><td>2130-02-04 04:35:00</td><td>19085              </td><td>95.9               </td><td>     95.9          </td><td>?F                 </td><td>0                  </td><td>0                  </td><td>                   </td><td>                   </td></tr>\n",
       "\t<tr><td>5279022            </td><td>40124              </td><td>126179             </td><td>279554             </td><td>224695             </td><td>2130-02-04 04:25:00</td><td>2130-02-04 05:55:00</td><td>18999              </td><td>2222221.7          </td><td>2222221.7          </td><td>cmH2O              </td><td>0                  </td><td>0                  </td><td>                   </td><td>                   </td></tr>\n",
       "\t<tr><td>5279023            </td><td>40124              </td><td>126179             </td><td>279554             </td><td>220210             </td><td>2130-02-04 04:30:00</td><td>2130-02-04 04:43:00</td><td>21452              </td><td>15                 </td><td>     15.0          </td><td>insp/min           </td><td>0                  </td><td>0                  </td><td>                   </td><td>                   </td></tr>\n",
       "\t<tr><td>5279024            </td><td>40124              </td><td>126179             </td><td>279554             </td><td>220045             </td><td>2130-02-04 04:32:00</td><td>2130-02-04 04:43:00</td><td>21452              </td><td>94                 </td><td>     94.0          </td><td>bpm                </td><td>0                  </td><td>0                  </td><td>                   </td><td>                   </td></tr>\n",
       "\t<tr><td>5279025            </td><td>40124              </td><td>126179             </td><td>279554             </td><td>220179             </td><td>2130-02-04 04:32:00</td><td>2130-02-04 04:43:00</td><td>21452              </td><td>163                </td><td>    163.0          </td><td>mmHg               </td><td>0                  </td><td>0                  </td><td>                   </td><td>                   </td></tr>\n",
       "\t<tr><td>5279026            </td><td>40124              </td><td>126179             </td><td>279554             </td><td>220180             </td><td>2130-02-04 04:32:00</td><td>2130-02-04 04:43:00</td><td>21452              </td><td>81                 </td><td>     81.0          </td><td>mmHg               </td><td>0                  </td><td>0                  </td><td>                   </td><td>                   </td></tr>\n",
       "</tbody>\n",
       "</table>\n"
      ],
      "text/latex": [
       "\\begin{tabular}{r|lllllllllllllll}\n",
       " row\\_id & subject\\_id & hadm\\_id & icustay\\_id & itemid & charttime & storetime & cgid & value & valuenum & valueuom & warning & error & resultstatus & stopped\\\\\n",
       "\\hline\n",
       "\t 5279021             & 40124               & 126179              & 279554              & 223761              & 2130-02-04 04:00:00 & 2130-02-04 04:35:00 & 19085               & 95.9                &      95.9           & ?F                  & 0                   & 0                   &                     &                    \\\\\n",
       "\t 5279022             & 40124               & 126179              & 279554              & 224695              & 2130-02-04 04:25:00 & 2130-02-04 05:55:00 & 18999               & 2222221.7           & 2222221.7           & cmH2O               & 0                   & 0                   &                     &                    \\\\\n",
       "\t 5279023             & 40124               & 126179              & 279554              & 220210              & 2130-02-04 04:30:00 & 2130-02-04 04:43:00 & 21452               & 15                  &      15.0           & insp/min            & 0                   & 0                   &                     &                    \\\\\n",
       "\t 5279024             & 40124               & 126179              & 279554              & 220045              & 2130-02-04 04:32:00 & 2130-02-04 04:43:00 & 21452               & 94                  &      94.0           & bpm                 & 0                   & 0                   &                     &                    \\\\\n",
       "\t 5279025             & 40124               & 126179              & 279554              & 220179              & 2130-02-04 04:32:00 & 2130-02-04 04:43:00 & 21452               & 163                 &     163.0           & mmHg                & 0                   & 0                   &                     &                    \\\\\n",
       "\t 5279026             & 40124               & 126179              & 279554              & 220180              & 2130-02-04 04:32:00 & 2130-02-04 04:43:00 & 21452               & 81                  &      81.0           & mmHg                & 0                   & 0                   &                     &                    \\\\\n",
       "\\end{tabular}\n"
      ],
      "text/markdown": [
       "\n",
       "| row_id | subject_id | hadm_id | icustay_id | itemid | charttime | storetime | cgid | value | valuenum | valueuom | warning | error | resultstatus | stopped |\n",
       "|---|---|---|---|---|---|---|---|---|---|---|---|---|---|---|\n",
       "| 5279021             | 40124               | 126179              | 279554              | 223761              | 2130-02-04 04:00:00 | 2130-02-04 04:35:00 | 19085               | 95.9                |      95.9           | ?F                  | 0                   | 0                   |                     |                     |\n",
       "| 5279022             | 40124               | 126179              | 279554              | 224695              | 2130-02-04 04:25:00 | 2130-02-04 05:55:00 | 18999               | 2222221.7           | 2222221.7           | cmH2O               | 0                   | 0                   |                     |                     |\n",
       "| 5279023             | 40124               | 126179              | 279554              | 220210              | 2130-02-04 04:30:00 | 2130-02-04 04:43:00 | 21452               | 15                  |      15.0           | insp/min            | 0                   | 0                   |                     |                     |\n",
       "| 5279024             | 40124               | 126179              | 279554              | 220045              | 2130-02-04 04:32:00 | 2130-02-04 04:43:00 | 21452               | 94                  |      94.0           | bpm                 | 0                   | 0                   |                     |                     |\n",
       "| 5279025             | 40124               | 126179              | 279554              | 220179              | 2130-02-04 04:32:00 | 2130-02-04 04:43:00 | 21452               | 163                 |     163.0           | mmHg                | 0                   | 0                   |                     |                     |\n",
       "| 5279026             | 40124               | 126179              | 279554              | 220180              | 2130-02-04 04:32:00 | 2130-02-04 04:43:00 | 21452               | 81                  |      81.0           | mmHg                | 0                   | 0                   |                     |                     |\n",
       "\n"
      ],
      "text/plain": [
       "  row_id  subject_id hadm_id icustay_id itemid charttime          \n",
       "1 5279021 40124      126179  279554     223761 2130-02-04 04:00:00\n",
       "2 5279022 40124      126179  279554     224695 2130-02-04 04:25:00\n",
       "3 5279023 40124      126179  279554     220210 2130-02-04 04:30:00\n",
       "4 5279024 40124      126179  279554     220045 2130-02-04 04:32:00\n",
       "5 5279025 40124      126179  279554     220179 2130-02-04 04:32:00\n",
       "6 5279026 40124      126179  279554     220180 2130-02-04 04:32:00\n",
       "  storetime           cgid  value     valuenum  valueuom warning error\n",
       "1 2130-02-04 04:35:00 19085 95.9           95.9 ?F       0       0    \n",
       "2 2130-02-04 05:55:00 18999 2222221.7 2222221.7 cmH2O    0       0    \n",
       "3 2130-02-04 04:43:00 21452 15             15.0 insp/min 0       0    \n",
       "4 2130-02-04 04:43:00 21452 94             94.0 bpm      0       0    \n",
       "5 2130-02-04 04:43:00 21452 163           163.0 mmHg     0       0    \n",
       "6 2130-02-04 04:43:00 21452 81             81.0 mmHg     0       0    \n",
       "  resultstatus stopped\n",
       "1                     \n",
       "2                     \n",
       "3                     \n",
       "4                     \n",
       "5                     \n",
       "6                     "
      ]
     },
     "metadata": {},
     "output_type": "display_data"
    }
   ],
   "source": [
    "# Exploremos cómo se ven los datos de esta tabla\n",
    "head(chartevents)"
   ]
  },
  {
   "cell_type": "code",
   "execution_count": 26,
   "metadata": {},
   "outputs": [
    {
     "data": {
      "text/html": [
       "<table>\n",
       "<thead><tr><th></th><th scope=col>row_id</th><th scope=col>subject_id</th><th scope=col>hadm_id</th><th scope=col>icustay_id</th><th scope=col>itemid</th><th scope=col>charttime</th><th scope=col>storetime</th><th scope=col>cgid</th><th scope=col>value</th><th scope=col>valuenum</th><th scope=col>valueuom</th><th scope=col>warning</th><th scope=col>error</th><th scope=col>resultstatus</th><th scope=col>stopped</th></tr></thead>\n",
       "<tbody>\n",
       "\t<tr><th scope=row>4</th><td>5279024            </td><td>40124              </td><td>126179             </td><td>279554             </td><td>220045             </td><td>2130-02-04 04:32:00</td><td>2130-02-04 04:43:00</td><td>21452              </td><td>94                 </td><td>94                 </td><td>bpm                </td><td>0                  </td><td>0                  </td><td>                   </td><td>                   </td></tr>\n",
       "\t<tr><th scope=row>22</th><td>5279042            </td><td>40124              </td><td>126179             </td><td>279554             </td><td>220045             </td><td>2130-02-04 05:01:00</td><td>2130-02-04 05:33:00</td><td>21452              </td><td>88                 </td><td>88                 </td><td>bpm                </td><td>0                  </td><td>0                  </td><td>                   </td><td>                   </td></tr>\n",
       "\t<tr><th scope=row>25</th><td>5279045            </td><td>40124              </td><td>126179             </td><td>279554             </td><td>220045             </td><td>2130-02-04 06:00:00</td><td>2130-02-04 06:08:00</td><td>21452              </td><td>82                 </td><td>82                 </td><td>bpm                </td><td>0                  </td><td>0                  </td><td>                   </td><td>                   </td></tr>\n",
       "\t<tr><th scope=row>58</th><td>5279078            </td><td>40124              </td><td>126179             </td><td>279554             </td><td>220045             </td><td>2130-02-04 07:00:00</td><td>2130-02-04 07:39:00</td><td>21304              </td><td>89                 </td><td>89                 </td><td>bpm                </td><td>0                  </td><td>0                  </td><td>                   </td><td>                   </td></tr>\n",
       "\t<tr><th scope=row>64</th><td>5279084            </td><td>40124              </td><td>126179             </td><td>279554             </td><td>220045             </td><td>2130-02-04 08:00:00</td><td>2130-02-04 07:46:00</td><td>21304              </td><td>84                 </td><td>84                 </td><td>bpm                </td><td>0                  </td><td>0                  </td><td>                   </td><td>                   </td></tr>\n",
       "\t<tr><th scope=row>94</th><td>5279114            </td><td>40124              </td><td>126179             </td><td>279554             </td><td>220045             </td><td>2130-02-04 09:00:00</td><td>2130-02-04 08:53:00</td><td>21304              </td><td>95                 </td><td>95                 </td><td>bpm                </td><td>0                  </td><td>0                  </td><td>                   </td><td>                   </td></tr>\n",
       "</tbody>\n",
       "</table>\n"
      ],
      "text/latex": [
       "\\begin{tabular}{r|lllllllllllllll}\n",
       "  & row\\_id & subject\\_id & hadm\\_id & icustay\\_id & itemid & charttime & storetime & cgid & value & valuenum & valueuom & warning & error & resultstatus & stopped\\\\\n",
       "\\hline\n",
       "\t4 & 5279024             & 40124               & 126179              & 279554              & 220045              & 2130-02-04 04:32:00 & 2130-02-04 04:43:00 & 21452               & 94                  & 94                  & bpm                 & 0                   & 0                   &                     &                    \\\\\n",
       "\t22 & 5279042             & 40124               & 126179              & 279554              & 220045              & 2130-02-04 05:01:00 & 2130-02-04 05:33:00 & 21452               & 88                  & 88                  & bpm                 & 0                   & 0                   &                     &                    \\\\\n",
       "\t25 & 5279045             & 40124               & 126179              & 279554              & 220045              & 2130-02-04 06:00:00 & 2130-02-04 06:08:00 & 21452               & 82                  & 82                  & bpm                 & 0                   & 0                   &                     &                    \\\\\n",
       "\t58 & 5279078             & 40124               & 126179              & 279554              & 220045              & 2130-02-04 07:00:00 & 2130-02-04 07:39:00 & 21304               & 89                  & 89                  & bpm                 & 0                   & 0                   &                     &                    \\\\\n",
       "\t64 & 5279084             & 40124               & 126179              & 279554              & 220045              & 2130-02-04 08:00:00 & 2130-02-04 07:46:00 & 21304               & 84                  & 84                  & bpm                 & 0                   & 0                   &                     &                    \\\\\n",
       "\t94 & 5279114             & 40124               & 126179              & 279554              & 220045              & 2130-02-04 09:00:00 & 2130-02-04 08:53:00 & 21304               & 95                  & 95                  & bpm                 & 0                   & 0                   &                     &                    \\\\\n",
       "\\end{tabular}\n"
      ],
      "text/markdown": [
       "\n",
       "| <!--/--> | row_id | subject_id | hadm_id | icustay_id | itemid | charttime | storetime | cgid | value | valuenum | valueuom | warning | error | resultstatus | stopped |\n",
       "|---|---|---|---|---|---|---|---|---|---|---|---|---|---|---|---|\n",
       "| 4 | 5279024             | 40124               | 126179              | 279554              | 220045              | 2130-02-04 04:32:00 | 2130-02-04 04:43:00 | 21452               | 94                  | 94                  | bpm                 | 0                   | 0                   |                     |                     |\n",
       "| 22 | 5279042             | 40124               | 126179              | 279554              | 220045              | 2130-02-04 05:01:00 | 2130-02-04 05:33:00 | 21452               | 88                  | 88                  | bpm                 | 0                   | 0                   |                     |                     |\n",
       "| 25 | 5279045             | 40124               | 126179              | 279554              | 220045              | 2130-02-04 06:00:00 | 2130-02-04 06:08:00 | 21452               | 82                  | 82                  | bpm                 | 0                   | 0                   |                     |                     |\n",
       "| 58 | 5279078             | 40124               | 126179              | 279554              | 220045              | 2130-02-04 07:00:00 | 2130-02-04 07:39:00 | 21304               | 89                  | 89                  | bpm                 | 0                   | 0                   |                     |                     |\n",
       "| 64 | 5279084             | 40124               | 126179              | 279554              | 220045              | 2130-02-04 08:00:00 | 2130-02-04 07:46:00 | 21304               | 84                  | 84                  | bpm                 | 0                   | 0                   |                     |                     |\n",
       "| 94 | 5279114             | 40124               | 126179              | 279554              | 220045              | 2130-02-04 09:00:00 | 2130-02-04 08:53:00 | 21304               | 95                  | 95                  | bpm                 | 0                   | 0                   |                     |                     |\n",
       "\n"
      ],
      "text/plain": [
       "   row_id  subject_id hadm_id icustay_id itemid charttime          \n",
       "4  5279024 40124      126179  279554     220045 2130-02-04 04:32:00\n",
       "22 5279042 40124      126179  279554     220045 2130-02-04 05:01:00\n",
       "25 5279045 40124      126179  279554     220045 2130-02-04 06:00:00\n",
       "58 5279078 40124      126179  279554     220045 2130-02-04 07:00:00\n",
       "64 5279084 40124      126179  279554     220045 2130-02-04 08:00:00\n",
       "94 5279114 40124      126179  279554     220045 2130-02-04 09:00:00\n",
       "   storetime           cgid  value valuenum valueuom warning error resultstatus\n",
       "4  2130-02-04 04:43:00 21452 94    94       bpm      0       0                 \n",
       "22 2130-02-04 05:33:00 21452 88    88       bpm      0       0                 \n",
       "25 2130-02-04 06:08:00 21452 82    82       bpm      0       0                 \n",
       "58 2130-02-04 07:39:00 21304 89    89       bpm      0       0                 \n",
       "64 2130-02-04 07:46:00 21304 84    84       bpm      0       0                 \n",
       "94 2130-02-04 08:53:00 21304 95    95       bpm      0       0                 \n",
       "   stopped\n",
       "4         \n",
       "22        \n",
       "25        \n",
       "58        \n",
       "64        \n",
       "94        "
      ]
     },
     "metadata": {},
     "output_type": "display_data"
    }
   ],
   "source": [
    "# Filtremos sólo las observaciones de frecuencia cardiaca\n",
    "\n",
    "hr = chartevents[chartevents$itemid == hr_id,]\n",
    "head(hr)"
   ]
  },
  {
   "cell_type": "markdown",
   "metadata": {},
   "source": [
    "Según la documentación, la columna `valuenum` contiene el valor numérico medido en esa observación, por lo que es la columna que utilizaremos para explorar la frecuencia cardiaca de los pacientes.\n",
    "\n",
    "Algunas funciones útiles para explorar valores numéricos son las siguientes:\n",
    "\n",
    "* `summary(x)`: Con esta función podemos obtener algunos estadísticos que resumen del vector `x`.\n",
    "* `min(x)`: Obtenemos el valor mínimo del vector `x`.\n",
    "* `max(x)`: Obtenemos el valor máximo del vector `x`.\n",
    "* `mean(x)`: Obtenemos el valor promedio del vector `x`.\n",
    "* `quantile(x,probs)`: Obtenemos el valor del percentil probs del vector `x`. "
   ]
  },
  {
   "cell_type": "code",
   "execution_count": 27,
   "metadata": {
    "scrolled": true
   },
   "outputs": [
    {
     "data": {
      "text/plain": [
       "   Min. 1st Qu.  Median    Mean 3rd Qu.    Max. \n",
       "   0.00   77.00   88.00   88.71  101.00  157.00 "
      ]
     },
     "metadata": {},
     "output_type": "display_data"
    }
   ],
   "source": [
    "summary(hr$valuenum)"
   ]
  },
  {
   "cell_type": "code",
   "execution_count": 28,
   "metadata": {},
   "outputs": [
    {
     "data": {
      "text/html": [
       "0"
      ],
      "text/latex": [
       "0"
      ],
      "text/markdown": [
       "0"
      ],
      "text/plain": [
       "[1] 0"
      ]
     },
     "metadata": {},
     "output_type": "display_data"
    }
   ],
   "source": [
    "min(hr$valuenum)"
   ]
  },
  {
   "cell_type": "code",
   "execution_count": 29,
   "metadata": {},
   "outputs": [
    {
     "data": {
      "text/html": [
       "157"
      ],
      "text/latex": [
       "157"
      ],
      "text/markdown": [
       "157"
      ],
      "text/plain": [
       "[1] 157"
      ]
     },
     "metadata": {},
     "output_type": "display_data"
    }
   ],
   "source": [
    "max(hr$valuenum)"
   ]
  },
  {
   "cell_type": "code",
   "execution_count": 30,
   "metadata": {},
   "outputs": [
    {
     "data": {
      "text/html": [
       "88.7101556708674"
      ],
      "text/latex": [
       "88.7101556708674"
      ],
      "text/markdown": [
       "88.7101556708674"
      ],
      "text/plain": [
       "[1] 88.71016"
      ]
     },
     "metadata": {},
     "output_type": "display_data"
    }
   ],
   "source": [
    "mean(hr$valuenum)"
   ]
  },
  {
   "cell_type": "code",
   "execution_count": 31,
   "metadata": {},
   "outputs": [
    {
     "data": {
      "text/html": [
       "<strong>5%:</strong> 59"
      ],
      "text/latex": [
       "\\textbf{5\\textbackslash{}\\%:} 59"
      ],
      "text/markdown": [
       "**5%:** 59"
      ],
      "text/plain": [
       "5% \n",
       "59 "
      ]
     },
     "metadata": {},
     "output_type": "display_data"
    }
   ],
   "source": [
    "quantile(hr$valuenum,0.05)"
   ]
  },
  {
   "cell_type": "code",
   "execution_count": 32,
   "metadata": {},
   "outputs": [
    {
     "data": {
      "text/html": [
       "<strong>95%:</strong> 119"
      ],
      "text/latex": [
       "\\textbf{95\\textbackslash{}\\%:} 119"
      ],
      "text/markdown": [
       "**95%:** 119"
      ],
      "text/plain": [
       "95% \n",
       "119 "
      ]
     },
     "metadata": {},
     "output_type": "display_data"
    }
   ],
   "source": [
    "quantile(hr$valuenum,0.95)"
   ]
  },
  {
   "cell_type": "markdown",
   "metadata": {},
   "source": [
    "Al analizar los valores que obtuvimos las celdas anteriores podemos concluir que son consistentes con la literatura. Las frecuencias cardiacas, efectivamente pueden oscilar entre 60 y 120 _lpm_."
   ]
  },
  {
   "cell_type": "code",
   "execution_count": null,
   "metadata": {},
   "outputs": [],
   "source": []
  }
 ],
 "metadata": {
  "kernelspec": {
   "display_name": "R",
   "language": "R",
   "name": "ir"
  },
  "language_info": {
   "codemirror_mode": "r",
   "file_extension": ".r",
   "mimetype": "text/x-r-source",
   "name": "R",
   "pygments_lexer": "r",
   "version": "3.6.1"
  }
 },
 "nbformat": 4,
 "nbformat_minor": 4
}
