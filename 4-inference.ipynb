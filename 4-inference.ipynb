{
 "cells": [
  {
   "cell_type": "markdown",
   "metadata": {},
   "source": [
    "# Inferencia"
   ]
  },
  {
   "cell_type": "markdown",
   "metadata": {},
   "source": [
    "La inferencia es el proceso en el cual nosotros dado una serie de características y una variable de salida derivamos las relaciones existentes entre las características y la variable de salida. Tratamos de entender la manera en que se relacionas las características con una variable respuesta."
   ]
  },
  {
   "cell_type": "code",
   "execution_count": 1,
   "metadata": {},
   "outputs": [],
   "source": [
    "chartevents = read.csv(\"data/CHARTEVENTS.csv\")"
   ]
  },
  {
   "cell_type": "code",
   "execution_count": 2,
   "metadata": {},
   "outputs": [],
   "source": [
    "temp_id = 223762\n",
    "temp = chartevents[chartevents$itemid == temp_id,]\n",
    "temp$charttime = as.POSIXct(temp$charttime)"
   ]
  },
  {
   "cell_type": "code",
   "execution_count": 3,
   "metadata": {},
   "outputs": [
    {
     "data": {
      "text/html": [
       "<table>\n",
       "<thead><tr><th></th><th scope=col>row_id</th><th scope=col>subject_id</th><th scope=col>hadm_id</th><th scope=col>icustay_id</th><th scope=col>itemid</th><th scope=col>charttime</th><th scope=col>storetime</th><th scope=col>cgid</th><th scope=col>value</th><th scope=col>valuenum</th><th scope=col>valueuom</th><th scope=col>warning</th><th scope=col>error</th><th scope=col>resultstatus</th><th scope=col>stopped</th></tr></thead>\n",
       "<tbody>\n",
       "\t<tr><th scope=row>4461</th><td>5383746            </td><td>40310              </td><td>186361             </td><td>210989             </td><td>223762             </td><td>2144-07-13 21:00:00</td><td>2144-07-13 23:12:00</td><td>15407              </td><td>39.1               </td><td>39.1               </td><td>?C                 </td><td>0                  </td><td>0                  </td><td>                   </td><td>                   </td></tr>\n",
       "\t<tr><th scope=row>4475</th><td>5383760            </td><td>40310              </td><td>186361             </td><td>210989             </td><td>223762             </td><td>2144-07-13 22:00:00</td><td>2144-07-13 23:13:00</td><td>15407              </td><td>38.9               </td><td>38.9               </td><td>?C                 </td><td>0                  </td><td>0                  </td><td>                   </td><td>                   </td></tr>\n",
       "\t<tr><th scope=row>4515</th><td>5383800            </td><td>40310              </td><td>186361             </td><td>210989             </td><td>223762             </td><td>2144-07-13 23:00:00</td><td>2144-07-13 23:12:00</td><td>15407              </td><td>38.6               </td><td>38.6               </td><td>?C                 </td><td>0                  </td><td>0                  </td><td>                   </td><td>                   </td></tr>\n",
       "\t<tr><th scope=row>4528</th><td>5383813            </td><td>40310              </td><td>186361             </td><td>210989             </td><td>223762             </td><td>2144-07-14 00:00:00</td><td>2144-07-14 00:27:00</td><td>15407              </td><td>38                 </td><td>38.0               </td><td>?C                 </td><td>0                  </td><td>0                  </td><td>                   </td><td>                   </td></tr>\n",
       "\t<tr><th scope=row>4543</th><td>5383828            </td><td>40310              </td><td>186361             </td><td>210989             </td><td>223762             </td><td>2144-07-14 01:00:00</td><td>2144-07-14 01:02:00</td><td>15407              </td><td>37.2               </td><td>37.2               </td><td>?C                 </td><td>0                  </td><td>0                  </td><td>                   </td><td>                   </td></tr>\n",
       "\t<tr><th scope=row>4565</th><td>5383850            </td><td>40310              </td><td>186361             </td><td>210989             </td><td>223762             </td><td>2144-07-14 02:00:00</td><td>2144-07-14 03:02:00</td><td>15407              </td><td>37.2               </td><td>37.2               </td><td>?C                 </td><td>0                  </td><td>0                  </td><td>                   </td><td>                   </td></tr>\n",
       "</tbody>\n",
       "</table>\n"
      ],
      "text/latex": [
       "\\begin{tabular}{r|lllllllllllllll}\n",
       "  & row\\_id & subject\\_id & hadm\\_id & icustay\\_id & itemid & charttime & storetime & cgid & value & valuenum & valueuom & warning & error & resultstatus & stopped\\\\\n",
       "\\hline\n",
       "\t4461 & 5383746             & 40310               & 186361              & 210989              & 223762              & 2144-07-13 21:00:00 & 2144-07-13 23:12:00 & 15407               & 39.1                & 39.1                & ?C                  & 0                   & 0                   &                     &                    \\\\\n",
       "\t4475 & 5383760             & 40310               & 186361              & 210989              & 223762              & 2144-07-13 22:00:00 & 2144-07-13 23:13:00 & 15407               & 38.9                & 38.9                & ?C                  & 0                   & 0                   &                     &                    \\\\\n",
       "\t4515 & 5383800             & 40310               & 186361              & 210989              & 223762              & 2144-07-13 23:00:00 & 2144-07-13 23:12:00 & 15407               & 38.6                & 38.6                & ?C                  & 0                   & 0                   &                     &                    \\\\\n",
       "\t4528 & 5383813             & 40310               & 186361              & 210989              & 223762              & 2144-07-14 00:00:00 & 2144-07-14 00:27:00 & 15407               & 38                  & 38.0                & ?C                  & 0                   & 0                   &                     &                    \\\\\n",
       "\t4543 & 5383828             & 40310               & 186361              & 210989              & 223762              & 2144-07-14 01:00:00 & 2144-07-14 01:02:00 & 15407               & 37.2                & 37.2                & ?C                  & 0                   & 0                   &                     &                    \\\\\n",
       "\t4565 & 5383850             & 40310               & 186361              & 210989              & 223762              & 2144-07-14 02:00:00 & 2144-07-14 03:02:00 & 15407               & 37.2                & 37.2                & ?C                  & 0                   & 0                   &                     &                    \\\\\n",
       "\\end{tabular}\n"
      ],
      "text/markdown": [
       "\n",
       "| <!--/--> | row_id | subject_id | hadm_id | icustay_id | itemid | charttime | storetime | cgid | value | valuenum | valueuom | warning | error | resultstatus | stopped |\n",
       "|---|---|---|---|---|---|---|---|---|---|---|---|---|---|---|---|\n",
       "| 4461 | 5383746             | 40310               | 186361              | 210989              | 223762              | 2144-07-13 21:00:00 | 2144-07-13 23:12:00 | 15407               | 39.1                | 39.1                | ?C                  | 0                   | 0                   |                     |                     |\n",
       "| 4475 | 5383760             | 40310               | 186361              | 210989              | 223762              | 2144-07-13 22:00:00 | 2144-07-13 23:13:00 | 15407               | 38.9                | 38.9                | ?C                  | 0                   | 0                   |                     |                     |\n",
       "| 4515 | 5383800             | 40310               | 186361              | 210989              | 223762              | 2144-07-13 23:00:00 | 2144-07-13 23:12:00 | 15407               | 38.6                | 38.6                | ?C                  | 0                   | 0                   |                     |                     |\n",
       "| 4528 | 5383813             | 40310               | 186361              | 210989              | 223762              | 2144-07-14 00:00:00 | 2144-07-14 00:27:00 | 15407               | 38                  | 38.0                | ?C                  | 0                   | 0                   |                     |                     |\n",
       "| 4543 | 5383828             | 40310               | 186361              | 210989              | 223762              | 2144-07-14 01:00:00 | 2144-07-14 01:02:00 | 15407               | 37.2                | 37.2                | ?C                  | 0                   | 0                   |                     |                     |\n",
       "| 4565 | 5383850             | 40310               | 186361              | 210989              | 223762              | 2144-07-14 02:00:00 | 2144-07-14 03:02:00 | 15407               | 37.2                | 37.2                | ?C                  | 0                   | 0                   |                     |                     |\n",
       "\n"
      ],
      "text/plain": [
       "     row_id  subject_id hadm_id icustay_id itemid charttime          \n",
       "4461 5383746 40310      186361  210989     223762 2144-07-13 21:00:00\n",
       "4475 5383760 40310      186361  210989     223762 2144-07-13 22:00:00\n",
       "4515 5383800 40310      186361  210989     223762 2144-07-13 23:00:00\n",
       "4528 5383813 40310      186361  210989     223762 2144-07-14 00:00:00\n",
       "4543 5383828 40310      186361  210989     223762 2144-07-14 01:00:00\n",
       "4565 5383850 40310      186361  210989     223762 2144-07-14 02:00:00\n",
       "     storetime           cgid  value valuenum valueuom warning error\n",
       "4461 2144-07-13 23:12:00 15407 39.1  39.1     ?C       0       0    \n",
       "4475 2144-07-13 23:13:00 15407 38.9  38.9     ?C       0       0    \n",
       "4515 2144-07-13 23:12:00 15407 38.6  38.6     ?C       0       0    \n",
       "4528 2144-07-14 00:27:00 15407 38    38.0     ?C       0       0    \n",
       "4543 2144-07-14 01:02:00 15407 37.2  37.2     ?C       0       0    \n",
       "4565 2144-07-14 03:02:00 15407 37.2  37.2     ?C       0       0    \n",
       "     resultstatus stopped\n",
       "4461                     \n",
       "4475                     \n",
       "4515                     \n",
       "4528                     \n",
       "4543                     \n",
       "4565                     "
      ]
     },
     "metadata": {},
     "output_type": "display_data"
    }
   ],
   "source": [
    "head(temp)"
   ]
  },
  {
   "cell_type": "code",
   "execution_count": 4,
   "metadata": {},
   "outputs": [],
   "source": [
    "hr_id = 220045\n",
    "hr = chartevents[chartevents$itemid == hr_id,]\n",
    "hr$charttime = as.POSIXct(hr$charttime)"
   ]
  },
  {
   "cell_type": "code",
   "execution_count": 5,
   "metadata": {},
   "outputs": [
    {
     "data": {
      "text/html": [
       "<table>\n",
       "<thead><tr><th></th><th scope=col>row_id</th><th scope=col>subject_id</th><th scope=col>hadm_id</th><th scope=col>icustay_id</th><th scope=col>itemid</th><th scope=col>charttime</th><th scope=col>storetime</th><th scope=col>cgid</th><th scope=col>value</th><th scope=col>valuenum</th><th scope=col>valueuom</th><th scope=col>warning</th><th scope=col>error</th><th scope=col>resultstatus</th><th scope=col>stopped</th></tr></thead>\n",
       "<tbody>\n",
       "\t<tr><th scope=row>4</th><td>5279024            </td><td>40124              </td><td>126179             </td><td>279554             </td><td>220045             </td><td>2130-02-04 04:32:00</td><td>2130-02-04 04:43:00</td><td>21452              </td><td>94                 </td><td>94                 </td><td>bpm                </td><td>0                  </td><td>0                  </td><td>                   </td><td>                   </td></tr>\n",
       "\t<tr><th scope=row>22</th><td>5279042            </td><td>40124              </td><td>126179             </td><td>279554             </td><td>220045             </td><td>2130-02-04 05:01:00</td><td>2130-02-04 05:33:00</td><td>21452              </td><td>88                 </td><td>88                 </td><td>bpm                </td><td>0                  </td><td>0                  </td><td>                   </td><td>                   </td></tr>\n",
       "\t<tr><th scope=row>25</th><td>5279045            </td><td>40124              </td><td>126179             </td><td>279554             </td><td>220045             </td><td>2130-02-04 06:00:00</td><td>2130-02-04 06:08:00</td><td>21452              </td><td>82                 </td><td>82                 </td><td>bpm                </td><td>0                  </td><td>0                  </td><td>                   </td><td>                   </td></tr>\n",
       "\t<tr><th scope=row>58</th><td>5279078            </td><td>40124              </td><td>126179             </td><td>279554             </td><td>220045             </td><td>2130-02-04 07:00:00</td><td>2130-02-04 07:39:00</td><td>21304              </td><td>89                 </td><td>89                 </td><td>bpm                </td><td>0                  </td><td>0                  </td><td>                   </td><td>                   </td></tr>\n",
       "\t<tr><th scope=row>64</th><td>5279084            </td><td>40124              </td><td>126179             </td><td>279554             </td><td>220045             </td><td>2130-02-04 08:00:00</td><td>2130-02-04 07:46:00</td><td>21304              </td><td>84                 </td><td>84                 </td><td>bpm                </td><td>0                  </td><td>0                  </td><td>                   </td><td>                   </td></tr>\n",
       "\t<tr><th scope=row>94</th><td>5279114            </td><td>40124              </td><td>126179             </td><td>279554             </td><td>220045             </td><td>2130-02-04 09:00:00</td><td>2130-02-04 08:53:00</td><td>21304              </td><td>95                 </td><td>95                 </td><td>bpm                </td><td>0                  </td><td>0                  </td><td>                   </td><td>                   </td></tr>\n",
       "</tbody>\n",
       "</table>\n"
      ],
      "text/latex": [
       "\\begin{tabular}{r|lllllllllllllll}\n",
       "  & row\\_id & subject\\_id & hadm\\_id & icustay\\_id & itemid & charttime & storetime & cgid & value & valuenum & valueuom & warning & error & resultstatus & stopped\\\\\n",
       "\\hline\n",
       "\t4 & 5279024             & 40124               & 126179              & 279554              & 220045              & 2130-02-04 04:32:00 & 2130-02-04 04:43:00 & 21452               & 94                  & 94                  & bpm                 & 0                   & 0                   &                     &                    \\\\\n",
       "\t22 & 5279042             & 40124               & 126179              & 279554              & 220045              & 2130-02-04 05:01:00 & 2130-02-04 05:33:00 & 21452               & 88                  & 88                  & bpm                 & 0                   & 0                   &                     &                    \\\\\n",
       "\t25 & 5279045             & 40124               & 126179              & 279554              & 220045              & 2130-02-04 06:00:00 & 2130-02-04 06:08:00 & 21452               & 82                  & 82                  & bpm                 & 0                   & 0                   &                     &                    \\\\\n",
       "\t58 & 5279078             & 40124               & 126179              & 279554              & 220045              & 2130-02-04 07:00:00 & 2130-02-04 07:39:00 & 21304               & 89                  & 89                  & bpm                 & 0                   & 0                   &                     &                    \\\\\n",
       "\t64 & 5279084             & 40124               & 126179              & 279554              & 220045              & 2130-02-04 08:00:00 & 2130-02-04 07:46:00 & 21304               & 84                  & 84                  & bpm                 & 0                   & 0                   &                     &                    \\\\\n",
       "\t94 & 5279114             & 40124               & 126179              & 279554              & 220045              & 2130-02-04 09:00:00 & 2130-02-04 08:53:00 & 21304               & 95                  & 95                  & bpm                 & 0                   & 0                   &                     &                    \\\\\n",
       "\\end{tabular}\n"
      ],
      "text/markdown": [
       "\n",
       "| <!--/--> | row_id | subject_id | hadm_id | icustay_id | itemid | charttime | storetime | cgid | value | valuenum | valueuom | warning | error | resultstatus | stopped |\n",
       "|---|---|---|---|---|---|---|---|---|---|---|---|---|---|---|---|\n",
       "| 4 | 5279024             | 40124               | 126179              | 279554              | 220045              | 2130-02-04 04:32:00 | 2130-02-04 04:43:00 | 21452               | 94                  | 94                  | bpm                 | 0                   | 0                   |                     |                     |\n",
       "| 22 | 5279042             | 40124               | 126179              | 279554              | 220045              | 2130-02-04 05:01:00 | 2130-02-04 05:33:00 | 21452               | 88                  | 88                  | bpm                 | 0                   | 0                   |                     |                     |\n",
       "| 25 | 5279045             | 40124               | 126179              | 279554              | 220045              | 2130-02-04 06:00:00 | 2130-02-04 06:08:00 | 21452               | 82                  | 82                  | bpm                 | 0                   | 0                   |                     |                     |\n",
       "| 58 | 5279078             | 40124               | 126179              | 279554              | 220045              | 2130-02-04 07:00:00 | 2130-02-04 07:39:00 | 21304               | 89                  | 89                  | bpm                 | 0                   | 0                   |                     |                     |\n",
       "| 64 | 5279084             | 40124               | 126179              | 279554              | 220045              | 2130-02-04 08:00:00 | 2130-02-04 07:46:00 | 21304               | 84                  | 84                  | bpm                 | 0                   | 0                   |                     |                     |\n",
       "| 94 | 5279114             | 40124               | 126179              | 279554              | 220045              | 2130-02-04 09:00:00 | 2130-02-04 08:53:00 | 21304               | 95                  | 95                  | bpm                 | 0                   | 0                   |                     |                     |\n",
       "\n"
      ],
      "text/plain": [
       "   row_id  subject_id hadm_id icustay_id itemid charttime          \n",
       "4  5279024 40124      126179  279554     220045 2130-02-04 04:32:00\n",
       "22 5279042 40124      126179  279554     220045 2130-02-04 05:01:00\n",
       "25 5279045 40124      126179  279554     220045 2130-02-04 06:00:00\n",
       "58 5279078 40124      126179  279554     220045 2130-02-04 07:00:00\n",
       "64 5279084 40124      126179  279554     220045 2130-02-04 08:00:00\n",
       "94 5279114 40124      126179  279554     220045 2130-02-04 09:00:00\n",
       "   storetime           cgid  value valuenum valueuom warning error resultstatus\n",
       "4  2130-02-04 04:43:00 21452 94    94       bpm      0       0                 \n",
       "22 2130-02-04 05:33:00 21452 88    88       bpm      0       0                 \n",
       "25 2130-02-04 06:08:00 21452 82    82       bpm      0       0                 \n",
       "58 2130-02-04 07:39:00 21304 89    89       bpm      0       0                 \n",
       "64 2130-02-04 07:46:00 21304 84    84       bpm      0       0                 \n",
       "94 2130-02-04 08:53:00 21304 95    95       bpm      0       0                 \n",
       "   stopped\n",
       "4         \n",
       "22        \n",
       "25        \n",
       "58        \n",
       "64        \n",
       "94        "
      ]
     },
     "metadata": {},
     "output_type": "display_data"
    }
   ],
   "source": [
    "head(hr)"
   ]
  },
  {
   "cell_type": "code",
   "execution_count": 6,
   "metadata": {},
   "outputs": [
    {
     "data": {
      "text/html": [
       "<table>\n",
       "<thead><tr><th></th><th scope=col>subject_id</th><th scope=col>charttime</th><th scope=col>valuenum</th></tr></thead>\n",
       "<tbody>\n",
       "\t<tr><th scope=row>4461</th><td>40310              </td><td>2144-07-13 21:00:00</td><td>39.1               </td></tr>\n",
       "\t<tr><th scope=row>4475</th><td>40310              </td><td>2144-07-13 22:00:00</td><td>38.9               </td></tr>\n",
       "\t<tr><th scope=row>4515</th><td>40310              </td><td>2144-07-13 23:00:00</td><td>38.6               </td></tr>\n",
       "\t<tr><th scope=row>4528</th><td>40310              </td><td>2144-07-14 00:00:00</td><td>38.0               </td></tr>\n",
       "\t<tr><th scope=row>4543</th><td>40310              </td><td>2144-07-14 01:00:00</td><td>37.2               </td></tr>\n",
       "\t<tr><th scope=row>4565</th><td>40310              </td><td>2144-07-14 02:00:00</td><td>37.2               </td></tr>\n",
       "</tbody>\n",
       "</table>\n"
      ],
      "text/latex": [
       "\\begin{tabular}{r|lll}\n",
       "  & subject\\_id & charttime & valuenum\\\\\n",
       "\\hline\n",
       "\t4461 & 40310               & 2144-07-13 21:00:00 & 39.1               \\\\\n",
       "\t4475 & 40310               & 2144-07-13 22:00:00 & 38.9               \\\\\n",
       "\t4515 & 40310               & 2144-07-13 23:00:00 & 38.6               \\\\\n",
       "\t4528 & 40310               & 2144-07-14 00:00:00 & 38.0               \\\\\n",
       "\t4543 & 40310               & 2144-07-14 01:00:00 & 37.2               \\\\\n",
       "\t4565 & 40310               & 2144-07-14 02:00:00 & 37.2               \\\\\n",
       "\\end{tabular}\n"
      ],
      "text/markdown": [
       "\n",
       "| <!--/--> | subject_id | charttime | valuenum |\n",
       "|---|---|---|---|\n",
       "| 4461 | 40310               | 2144-07-13 21:00:00 | 39.1                |\n",
       "| 4475 | 40310               | 2144-07-13 22:00:00 | 38.9                |\n",
       "| 4515 | 40310               | 2144-07-13 23:00:00 | 38.6                |\n",
       "| 4528 | 40310               | 2144-07-14 00:00:00 | 38.0                |\n",
       "| 4543 | 40310               | 2144-07-14 01:00:00 | 37.2                |\n",
       "| 4565 | 40310               | 2144-07-14 02:00:00 | 37.2                |\n",
       "\n"
      ],
      "text/plain": [
       "     subject_id charttime           valuenum\n",
       "4461 40310      2144-07-13 21:00:00 39.1    \n",
       "4475 40310      2144-07-13 22:00:00 38.9    \n",
       "4515 40310      2144-07-13 23:00:00 38.6    \n",
       "4528 40310      2144-07-14 00:00:00 38.0    \n",
       "4543 40310      2144-07-14 01:00:00 37.2    \n",
       "4565 40310      2144-07-14 02:00:00 37.2    "
      ]
     },
     "metadata": {},
     "output_type": "display_data"
    }
   ],
   "source": [
    "temp = temp[c(\"subject_id\",\"charttime\",\"valuenum\")]\n",
    "head(temp)"
   ]
  },
  {
   "cell_type": "code",
   "execution_count": 7,
   "metadata": {},
   "outputs": [
    {
     "data": {
      "text/html": [
       "<table>\n",
       "<thead><tr><th></th><th scope=col>subject_id</th><th scope=col>charttime</th><th scope=col>valuenum</th></tr></thead>\n",
       "<tbody>\n",
       "\t<tr><th scope=row>4</th><td>40124              </td><td>2130-02-04 04:32:00</td><td>94                 </td></tr>\n",
       "\t<tr><th scope=row>22</th><td>40124              </td><td>2130-02-04 05:01:00</td><td>88                 </td></tr>\n",
       "\t<tr><th scope=row>25</th><td>40124              </td><td>2130-02-04 06:00:00</td><td>82                 </td></tr>\n",
       "\t<tr><th scope=row>58</th><td>40124              </td><td>2130-02-04 07:00:00</td><td>89                 </td></tr>\n",
       "\t<tr><th scope=row>64</th><td>40124              </td><td>2130-02-04 08:00:00</td><td>84                 </td></tr>\n",
       "\t<tr><th scope=row>94</th><td>40124              </td><td>2130-02-04 09:00:00</td><td>95                 </td></tr>\n",
       "</tbody>\n",
       "</table>\n"
      ],
      "text/latex": [
       "\\begin{tabular}{r|lll}\n",
       "  & subject\\_id & charttime & valuenum\\\\\n",
       "\\hline\n",
       "\t4 & 40124               & 2130-02-04 04:32:00 & 94                 \\\\\n",
       "\t22 & 40124               & 2130-02-04 05:01:00 & 88                 \\\\\n",
       "\t25 & 40124               & 2130-02-04 06:00:00 & 82                 \\\\\n",
       "\t58 & 40124               & 2130-02-04 07:00:00 & 89                 \\\\\n",
       "\t64 & 40124               & 2130-02-04 08:00:00 & 84                 \\\\\n",
       "\t94 & 40124               & 2130-02-04 09:00:00 & 95                 \\\\\n",
       "\\end{tabular}\n"
      ],
      "text/markdown": [
       "\n",
       "| <!--/--> | subject_id | charttime | valuenum |\n",
       "|---|---|---|---|\n",
       "| 4 | 40124               | 2130-02-04 04:32:00 | 94                  |\n",
       "| 22 | 40124               | 2130-02-04 05:01:00 | 88                  |\n",
       "| 25 | 40124               | 2130-02-04 06:00:00 | 82                  |\n",
       "| 58 | 40124               | 2130-02-04 07:00:00 | 89                  |\n",
       "| 64 | 40124               | 2130-02-04 08:00:00 | 84                  |\n",
       "| 94 | 40124               | 2130-02-04 09:00:00 | 95                  |\n",
       "\n"
      ],
      "text/plain": [
       "   subject_id charttime           valuenum\n",
       "4  40124      2130-02-04 04:32:00 94      \n",
       "22 40124      2130-02-04 05:01:00 88      \n",
       "25 40124      2130-02-04 06:00:00 82      \n",
       "58 40124      2130-02-04 07:00:00 89      \n",
       "64 40124      2130-02-04 08:00:00 84      \n",
       "94 40124      2130-02-04 09:00:00 95      "
      ]
     },
     "metadata": {},
     "output_type": "display_data"
    }
   ],
   "source": [
    "hr = hr[c(\"subject_id\",\"charttime\",\"valuenum\")]\n",
    "head(hr)"
   ]
  },
  {
   "cell_type": "code",
   "execution_count": 8,
   "metadata": {},
   "outputs": [
    {
     "data": {
      "text/html": [
       "<table>\n",
       "<thead><tr><th scope=col>subject_id</th><th scope=col>charttime</th><th scope=col>valuenum.x</th><th scope=col>valuenum.y</th></tr></thead>\n",
       "<tbody>\n",
       "\t<tr><td>40310              </td><td>2144-07-13 21:00:00</td><td>39.1               </td><td>120                </td></tr>\n",
       "\t<tr><td>40310              </td><td>2144-07-13 22:00:00</td><td>38.9               </td><td>125                </td></tr>\n",
       "\t<tr><td>40310              </td><td>2144-07-13 23:00:00</td><td>38.6               </td><td>122                </td></tr>\n",
       "\t<tr><td>40310              </td><td>2144-07-14 00:00:00</td><td>38.0               </td><td>116                </td></tr>\n",
       "\t<tr><td>40310              </td><td>2144-07-14 02:00:00</td><td>37.2               </td><td>103                </td></tr>\n",
       "\t<tr><td>40310              </td><td>2144-07-14 03:00:00</td><td>37.8               </td><td>106                </td></tr>\n",
       "</tbody>\n",
       "</table>\n"
      ],
      "text/latex": [
       "\\begin{tabular}{r|llll}\n",
       " subject\\_id & charttime & valuenum.x & valuenum.y\\\\\n",
       "\\hline\n",
       "\t 40310               & 2144-07-13 21:00:00 & 39.1                & 120                \\\\\n",
       "\t 40310               & 2144-07-13 22:00:00 & 38.9                & 125                \\\\\n",
       "\t 40310               & 2144-07-13 23:00:00 & 38.6                & 122                \\\\\n",
       "\t 40310               & 2144-07-14 00:00:00 & 38.0                & 116                \\\\\n",
       "\t 40310               & 2144-07-14 02:00:00 & 37.2                & 103                \\\\\n",
       "\t 40310               & 2144-07-14 03:00:00 & 37.8                & 106                \\\\\n",
       "\\end{tabular}\n"
      ],
      "text/markdown": [
       "\n",
       "| subject_id | charttime | valuenum.x | valuenum.y |\n",
       "|---|---|---|---|\n",
       "| 40310               | 2144-07-13 21:00:00 | 39.1                | 120                 |\n",
       "| 40310               | 2144-07-13 22:00:00 | 38.9                | 125                 |\n",
       "| 40310               | 2144-07-13 23:00:00 | 38.6                | 122                 |\n",
       "| 40310               | 2144-07-14 00:00:00 | 38.0                | 116                 |\n",
       "| 40310               | 2144-07-14 02:00:00 | 37.2                | 103                 |\n",
       "| 40310               | 2144-07-14 03:00:00 | 37.8                | 106                 |\n",
       "\n"
      ],
      "text/plain": [
       "  subject_id charttime           valuenum.x valuenum.y\n",
       "1 40310      2144-07-13 21:00:00 39.1       120       \n",
       "2 40310      2144-07-13 22:00:00 38.9       125       \n",
       "3 40310      2144-07-13 23:00:00 38.6       122       \n",
       "4 40310      2144-07-14 00:00:00 38.0       116       \n",
       "5 40310      2144-07-14 02:00:00 37.2       103       \n",
       "6 40310      2144-07-14 03:00:00 37.8       106       "
      ]
     },
     "metadata": {},
     "output_type": "display_data"
    }
   ],
   "source": [
    "temp_hr = merge(x = temp, y = hr, by = c(\"subject_id\", \"charttime\"))\n",
    "head(temp_hr)"
   ]
  },
  {
   "cell_type": "code",
   "execution_count": 9,
   "metadata": {},
   "outputs": [
    {
     "data": {
      "image/png": "[encoded data removed]",
      "text/plain": [
       "plot without title"
      ]
     },
     "metadata": {},
     "output_type": "display_data"
    }
   ],
   "source": [
    "plot(temp_hr$valuenum.x, temp_hr$valuenum.y)"
   ]
  },
  {
   "cell_type": "code",
   "execution_count": 10,
   "metadata": {},
   "outputs": [
    {
     "data": {
      "image/png": "[encoded data removed]",
      "text/plain": [
       "Plot with title “Histogram of temp_hr$valuenum.x”"
      ]
     },
     "metadata": {},
     "output_type": "display_data"
    }
   ],
   "source": [
    "hist(temp_hr$valuenum.x)"
   ]
  },
  {
   "cell_type": "code",
   "execution_count": 11,
   "metadata": {},
   "outputs": [
    {
     "data": {
      "text/plain": [
       "\n",
       "\tShapiro-Wilk normality test\n",
       "\n",
       "data:  temp_hr$valuenum.x\n",
       "W = 0.95939, p-value = 0.3372\n"
      ]
     },
     "metadata": {},
     "output_type": "display_data"
    }
   ],
   "source": [
    "shapiro.test(temp_hr$valuenum.x)"
   ]
  },
  {
   "cell_type": "code",
   "execution_count": 12,
   "metadata": {},
   "outputs": [
    {
     "data": {
      "image/png": "[encoded data removed]",
      "text/plain": [
       "Plot with title “Histogram of temp_hr$valuenum.y”"
      ]
     },
     "metadata": {},
     "output_type": "display_data"
    }
   ],
   "source": [
    "hist(temp_hr$valuenum.y)"
   ]
  },
  {
   "cell_type": "code",
   "execution_count": 13,
   "metadata": {},
   "outputs": [
    {
     "data": {
      "text/plain": [
       "\n",
       "\tShapiro-Wilk normality test\n",
       "\n",
       "data:  temp_hr$valuenum.y\n",
       "W = 0.9264, p-value = 0.05005\n"
      ]
     },
     "metadata": {},
     "output_type": "display_data"
    }
   ],
   "source": [
    "shapiro.test(temp_hr$valuenum.y)"
   ]
  },
  {
   "cell_type": "code",
   "execution_count": 14,
   "metadata": {},
   "outputs": [],
   "source": [
    "model = lm(formula = temp_hr$valuenum.y ~ temp_hr$valuenum.x)"
   ]
  },
  {
   "cell_type": "code",
   "execution_count": 15,
   "metadata": {},
   "outputs": [
    {
     "data": {
      "text/plain": [
       "\n",
       "Call:\n",
       "lm(formula = temp_hr$valuenum.y ~ temp_hr$valuenum.x)\n",
       "\n",
       "Residuals:\n",
       "    Min      1Q  Median      3Q     Max \n",
       "-6.3907 -2.8907  0.0983  1.9287 13.7768 \n",
       "\n",
       "Coefficients:\n",
       "                   Estimate Std. Error t value Pr(>|t|)    \n",
       "(Intercept)        -171.030     39.217  -4.361 0.000181 ***\n",
       "temp_hr$valuenum.x    7.445      1.047   7.108 1.51e-07 ***\n",
       "---\n",
       "Signif. codes:  0 ‘***’ 0.001 ‘**’ 0.01 ‘*’ 0.05 ‘.’ 0.1 ‘ ’ 1\n",
       "\n",
       "Residual standard error: 4.377 on 26 degrees of freedom\n",
       "Multiple R-squared:  0.6603,\tAdjusted R-squared:  0.6472 \n",
       "F-statistic: 50.53 on 1 and 26 DF,  p-value: 1.506e-07\n"
      ]
     },
     "metadata": {},
     "output_type": "display_data"
    }
   ],
   "source": [
    "summary(model)"
   ]
  },
  {
   "cell_type": "code",
   "execution_count": 16,
   "metadata": {},
   "outputs": [
    {
     "data": {
      "image/png": "[encoded data removed]",
      "text/plain": [
       "plot without title"
      ]
     },
     "metadata": {},
     "output_type": "display_data"
    }
   ],
   "source": [
    "plot(temp_hr$valuenum.x, temp_hr$valuenum.y)\n",
    "abline(model, col = \"red\")"
   ]
  },
  {
   "cell_type": "markdown",
   "metadata": {},
   "source": [
    "https://www.sciencedirect.com/science/article/abs/pii/S0735675719304723"
   ]
  },
  {
   "cell_type": "code",
   "execution_count": 98,
   "metadata": {},
   "outputs": [],
   "source": [
    "pain_id = 225113\n",
    "pain = chartevents[chartevents$itemid == pain_id,]\n",
    "pain$charttime = as.POSIXct(pain$charttime)"
   ]
  },
  {
   "cell_type": "code",
   "execution_count": 99,
   "metadata": {},
   "outputs": [],
   "source": [
    "pain$date = as.Date(pain$charttime)\n",
    "hr$date = as.Date(hr$charttime)"
   ]
  },
  {
   "cell_type": "code",
   "execution_count": 103,
   "metadata": {},
   "outputs": [],
   "source": [
    "getmode <- function(v) {\n",
    "   uniqv <- unique(v)\n",
    "   uniqv[which.max(tabulate(match(v, uniqv)))]\n",
    "}"
   ]
  },
  {
   "cell_type": "code",
   "execution_count": 107,
   "metadata": {},
   "outputs": [
    {
     "data": {
      "text/html": [
       "<table>\n",
       "<thead><tr><th scope=col>date</th><th scope=col>subject_id</th><th scope=col>valuenum</th></tr></thead>\n",
       "<tbody>\n",
       "\t<tr><td>2130-08-12</td><td>40124     </td><td>0         </td></tr>\n",
       "\t<tr><td>2169-05-07</td><td>40177     </td><td>1         </td></tr>\n",
       "\t<tr><td>2169-05-12</td><td>40177     </td><td>0         </td></tr>\n",
       "\t<tr><td>2151-08-13</td><td>40277     </td><td>0         </td></tr>\n",
       "\t<tr><td>2193-10-16</td><td>40286     </td><td>1         </td></tr>\n",
       "\t<tr><td>2186-07-07</td><td>40503     </td><td>0         </td></tr>\n",
       "</tbody>\n",
       "</table>\n"
      ],
      "text/latex": [
       "\\begin{tabular}{r|lll}\n",
       " date & subject\\_id & valuenum\\\\\n",
       "\\hline\n",
       "\t 2130-08-12 & 40124      & 0         \\\\\n",
       "\t 2169-05-07 & 40177      & 1         \\\\\n",
       "\t 2169-05-12 & 40177      & 0         \\\\\n",
       "\t 2151-08-13 & 40277      & 0         \\\\\n",
       "\t 2193-10-16 & 40286      & 1         \\\\\n",
       "\t 2186-07-07 & 40503      & 0         \\\\\n",
       "\\end{tabular}\n"
      ],
      "text/markdown": [
       "\n",
       "| date | subject_id | valuenum |\n",
       "|---|---|---|\n",
       "| 2130-08-12 | 40124      | 0          |\n",
       "| 2169-05-07 | 40177      | 1          |\n",
       "| 2169-05-12 | 40177      | 0          |\n",
       "| 2151-08-13 | 40277      | 0          |\n",
       "| 2193-10-16 | 40286      | 1          |\n",
       "| 2186-07-07 | 40503      | 0          |\n",
       "\n"
      ],
      "text/plain": [
       "  date       subject_id valuenum\n",
       "1 2130-08-12 40124      0       \n",
       "2 2169-05-07 40177      1       \n",
       "3 2169-05-12 40177      0       \n",
       "4 2151-08-13 40277      0       \n",
       "5 2193-10-16 40286      1       \n",
       "6 2186-07-07 40503      0       "
      ]
     },
     "metadata": {},
     "output_type": "display_data"
    }
   ],
   "source": [
    "pain_aggregated = aggregate(valuenum ~ date+subject_id, pain, getmode)\n",
    "head(pain_aggregated)"
   ]
  },
  {
   "cell_type": "code",
   "execution_count": 118,
   "metadata": {},
   "outputs": [
    {
     "data": {
      "text/html": [
       "<table>\n",
       "<thead><tr><th scope=col>date</th><th scope=col>subject_id</th><th scope=col>valuenum</th></tr></thead>\n",
       "<tbody>\n",
       "\t<tr><td>2130-02-04</td><td>40124     </td><td> 89.5     </td></tr>\n",
       "\t<tr><td>2130-02-05</td><td>40124     </td><td> 88.0     </td></tr>\n",
       "\t<tr><td>2130-02-06</td><td>40124     </td><td> 88.0     </td></tr>\n",
       "\t<tr><td>2130-08-12</td><td>40124     </td><td>102.5     </td></tr>\n",
       "\t<tr><td>2130-08-13</td><td>40124     </td><td>106.0     </td></tr>\n",
       "\t<tr><td>2130-08-14</td><td>40124     </td><td>101.0     </td></tr>\n",
       "</tbody>\n",
       "</table>\n"
      ],
      "text/latex": [
       "\\begin{tabular}{r|lll}\n",
       " date & subject\\_id & valuenum\\\\\n",
       "\\hline\n",
       "\t 2130-02-04 & 40124      &  89.5     \\\\\n",
       "\t 2130-02-05 & 40124      &  88.0     \\\\\n",
       "\t 2130-02-06 & 40124      &  88.0     \\\\\n",
       "\t 2130-08-12 & 40124      & 102.5     \\\\\n",
       "\t 2130-08-13 & 40124      & 106.0     \\\\\n",
       "\t 2130-08-14 & 40124      & 101.0     \\\\\n",
       "\\end{tabular}\n"
      ],
      "text/markdown": [
       "\n",
       "| date | subject_id | valuenum |\n",
       "|---|---|---|\n",
       "| 2130-02-04 | 40124      |  89.5      |\n",
       "| 2130-02-05 | 40124      |  88.0      |\n",
       "| 2130-02-06 | 40124      |  88.0      |\n",
       "| 2130-08-12 | 40124      | 102.5      |\n",
       "| 2130-08-13 | 40124      | 106.0      |\n",
       "| 2130-08-14 | 40124      | 101.0      |\n",
       "\n"
      ],
      "text/plain": [
       "  date       subject_id valuenum\n",
       "1 2130-02-04 40124       89.5   \n",
       "2 2130-02-05 40124       88.0   \n",
       "3 2130-02-06 40124       88.0   \n",
       "4 2130-08-12 40124      102.5   \n",
       "5 2130-08-13 40124      106.0   \n",
       "6 2130-08-14 40124      101.0   "
      ]
     },
     "metadata": {},
     "output_type": "display_data"
    }
   ],
   "source": [
    "hr_aggregated = aggregate(valuenum ~ date+subject_id, hr, median)\n",
    "head(hr_aggregated)"
   ]
  },
  {
   "cell_type": "code",
   "execution_count": 119,
   "metadata": {},
   "outputs": [
    {
     "data": {
      "text/html": [
       "<table>\n",
       "<thead><tr><th scope=col>subject_id</th><th scope=col>date</th><th scope=col>valuenum.x</th><th scope=col>valuenum.y</th></tr></thead>\n",
       "<tbody>\n",
       "\t<tr><td>40124     </td><td>2130-08-12</td><td>0         </td><td>102.5     </td></tr>\n",
       "\t<tr><td>40177     </td><td>2169-05-07</td><td>1         </td><td> 67.0     </td></tr>\n",
       "\t<tr><td>40177     </td><td>2169-05-12</td><td>0         </td><td> 63.0     </td></tr>\n",
       "\t<tr><td>40277     </td><td>2151-08-13</td><td>0         </td><td> 82.5     </td></tr>\n",
       "\t<tr><td>40286     </td><td>2193-10-16</td><td>1         </td><td>113.0     </td></tr>\n",
       "\t<tr><td>40503     </td><td>2186-07-07</td><td>0         </td><td> 61.0     </td></tr>\n",
       "</tbody>\n",
       "</table>\n"
      ],
      "text/latex": [
       "\\begin{tabular}{r|llll}\n",
       " subject\\_id & date & valuenum.x & valuenum.y\\\\\n",
       "\\hline\n",
       "\t 40124      & 2130-08-12 & 0          & 102.5     \\\\\n",
       "\t 40177      & 2169-05-07 & 1          &  67.0     \\\\\n",
       "\t 40177      & 2169-05-12 & 0          &  63.0     \\\\\n",
       "\t 40277      & 2151-08-13 & 0          &  82.5     \\\\\n",
       "\t 40286      & 2193-10-16 & 1          & 113.0     \\\\\n",
       "\t 40503      & 2186-07-07 & 0          &  61.0     \\\\\n",
       "\\end{tabular}\n"
      ],
      "text/markdown": [
       "\n",
       "| subject_id | date | valuenum.x | valuenum.y |\n",
       "|---|---|---|---|\n",
       "| 40124      | 2130-08-12 | 0          | 102.5      |\n",
       "| 40177      | 2169-05-07 | 1          |  67.0      |\n",
       "| 40177      | 2169-05-12 | 0          |  63.0      |\n",
       "| 40277      | 2151-08-13 | 0          |  82.5      |\n",
       "| 40286      | 2193-10-16 | 1          | 113.0      |\n",
       "| 40503      | 2186-07-07 | 0          |  61.0      |\n",
       "\n"
      ],
      "text/plain": [
       "  subject_id date       valuenum.x valuenum.y\n",
       "1 40124      2130-08-12 0          102.5     \n",
       "2 40177      2169-05-07 1           67.0     \n",
       "3 40177      2169-05-12 0           63.0     \n",
       "4 40277      2151-08-13 0           82.5     \n",
       "5 40286      2193-10-16 1          113.0     \n",
       "6 40503      2186-07-07 0           61.0     "
      ]
     },
     "metadata": {},
     "output_type": "display_data"
    }
   ],
   "source": [
    "pain_hr = merge(x = pain_aggregated, y = hr_aggregated, by = c(\"subject_id\", \"date\"))\n",
    "head(pain_hr)"
   ]
  },
  {
   "cell_type": "code",
   "execution_count": 120,
   "metadata": {},
   "outputs": [
    {
     "data": {
      "image/png": "[encoded data removed]",
      "text/plain": [
       "plot without title"
      ]
     },
     "metadata": {},
     "output_type": "display_data"
    }
   ],
   "source": [
    "boxplot(formula=valuenum.y~valuenum.x, \n",
    "        data=pain_hr \n",
    "       )"
   ]
  },
  {
   "cell_type": "code",
   "execution_count": 121,
   "metadata": {},
   "outputs": [
    {
     "data": {
      "text/plain": [
       "\n",
       "\tWelch Two Sample t-test\n",
       "\n",
       "data:  valuenum.y by valuenum.x\n",
       "t = -1.0901, df = 22.908, p-value = 0.287\n",
       "alternative hypothesis: true difference in means is not equal to 0\n",
       "95 percent confidence interval:\n",
       " -20.561177   6.371736\n",
       "sample estimates:\n",
       "mean in group 0 mean in group 1 \n",
       "       83.86957        90.96429 \n"
      ]
     },
     "metadata": {},
     "output_type": "display_data"
    }
   ],
   "source": [
    "t.test(formula=valuenum.y~valuenum.x, \n",
    "        data=pain_hr)"
   ]
  },
  {
   "cell_type": "code",
   "execution_count": 123,
   "metadata": {},
   "outputs": [],
   "source": [
    "patients = read.csv(\"data/PATIENTS.csv\")"
   ]
  },
  {
   "cell_type": "code",
   "execution_count": 129,
   "metadata": {},
   "outputs": [
    {
     "data": {
      "text/html": [
       "<table>\n",
       "<thead><tr><th scope=col>row_id</th><th scope=col>subject_id</th><th scope=col>gender</th><th scope=col>dob</th><th scope=col>dod</th><th scope=col>dod_hosp</th><th scope=col>dod_ssn</th><th scope=col>expire_flag</th></tr></thead>\n",
       "<tbody>\n",
       "\t<tr><td>9467               </td><td>10006              </td><td>F                  </td><td>2094-03-05 00:00:00</td><td>2165-08-12 00:00:00</td><td>2165-08-12 00:00:00</td><td>2165-08-12 00:00:00</td><td>1                  </td></tr>\n",
       "\t<tr><td>9472               </td><td>10011              </td><td>F                  </td><td>2090-06-05 00:00:00</td><td>2126-08-28 00:00:00</td><td>2126-08-28 00:00:00</td><td>                   </td><td>1                  </td></tr>\n",
       "\t<tr><td>9474               </td><td>10013              </td><td>F                  </td><td>2038-09-03 00:00:00</td><td>2125-10-07 00:00:00</td><td>2125-10-07 00:00:00</td><td>2125-10-07 00:00:00</td><td>1                  </td></tr>\n",
       "\t<tr><td>9478               </td><td>10017              </td><td>F                  </td><td>2075-09-21 00:00:00</td><td>2152-09-12 00:00:00</td><td>                   </td><td>2152-09-12 00:00:00</td><td>1                  </td></tr>\n",
       "\t<tr><td>9479               </td><td>10019              </td><td>M                  </td><td>2114-06-20 00:00:00</td><td>2163-05-15 00:00:00</td><td>2163-05-15 00:00:00</td><td>2163-05-15 00:00:00</td><td>1                  </td></tr>\n",
       "\t<tr><td>9486               </td><td>10026              </td><td>F                  </td><td>1895-05-17 00:00:00</td><td>2195-11-24 00:00:00</td><td>                   </td><td>2195-11-24 00:00:00</td><td>1                  </td></tr>\n",
       "</tbody>\n",
       "</table>\n"
      ],
      "text/latex": [
       "\\begin{tabular}{r|llllllll}\n",
       " row\\_id & subject\\_id & gender & dob & dod & dod\\_hosp & dod\\_ssn & expire\\_flag\\\\\n",
       "\\hline\n",
       "\t 9467                & 10006               & F                   & 2094-03-05 00:00:00 & 2165-08-12 00:00:00 & 2165-08-12 00:00:00 & 2165-08-12 00:00:00 & 1                  \\\\\n",
       "\t 9472                & 10011               & F                   & 2090-06-05 00:00:00 & 2126-08-28 00:00:00 & 2126-08-28 00:00:00 &                     & 1                  \\\\\n",
       "\t 9474                & 10013               & F                   & 2038-09-03 00:00:00 & 2125-10-07 00:00:00 & 2125-10-07 00:00:00 & 2125-10-07 00:00:00 & 1                  \\\\\n",
       "\t 9478                & 10017               & F                   & 2075-09-21 00:00:00 & 2152-09-12 00:00:00 &                     & 2152-09-12 00:00:00 & 1                  \\\\\n",
       "\t 9479                & 10019               & M                   & 2114-06-20 00:00:00 & 2163-05-15 00:00:00 & 2163-05-15 00:00:00 & 2163-05-15 00:00:00 & 1                  \\\\\n",
       "\t 9486                & 10026               & F                   & 1895-05-17 00:00:00 & 2195-11-24 00:00:00 &                     & 2195-11-24 00:00:00 & 1                  \\\\\n",
       "\\end{tabular}\n"
      ],
      "text/markdown": [
       "\n",
       "| row_id | subject_id | gender | dob | dod | dod_hosp | dod_ssn | expire_flag |\n",
       "|---|---|---|---|---|---|---|---|\n",
       "| 9467                | 10006               | F                   | 2094-03-05 00:00:00 | 2165-08-12 00:00:00 | 2165-08-12 00:00:00 | 2165-08-12 00:00:00 | 1                   |\n",
       "| 9472                | 10011               | F                   | 2090-06-05 00:00:00 | 2126-08-28 00:00:00 | 2126-08-28 00:00:00 |                     | 1                   |\n",
       "| 9474                | 10013               | F                   | 2038-09-03 00:00:00 | 2125-10-07 00:00:00 | 2125-10-07 00:00:00 | 2125-10-07 00:00:00 | 1                   |\n",
       "| 9478                | 10017               | F                   | 2075-09-21 00:00:00 | 2152-09-12 00:00:00 |                     | 2152-09-12 00:00:00 | 1                   |\n",
       "| 9479                | 10019               | M                   | 2114-06-20 00:00:00 | 2163-05-15 00:00:00 | 2163-05-15 00:00:00 | 2163-05-15 00:00:00 | 1                   |\n",
       "| 9486                | 10026               | F                   | 1895-05-17 00:00:00 | 2195-11-24 00:00:00 |                     | 2195-11-24 00:00:00 | 1                   |\n",
       "\n"
      ],
      "text/plain": [
       "  row_id subject_id gender dob                 dod                \n",
       "1 9467   10006      F      2094-03-05 00:00:00 2165-08-12 00:00:00\n",
       "2 9472   10011      F      2090-06-05 00:00:00 2126-08-28 00:00:00\n",
       "3 9474   10013      F      2038-09-03 00:00:00 2125-10-07 00:00:00\n",
       "4 9478   10017      F      2075-09-21 00:00:00 2152-09-12 00:00:00\n",
       "5 9479   10019      M      2114-06-20 00:00:00 2163-05-15 00:00:00\n",
       "6 9486   10026      F      1895-05-17 00:00:00 2195-11-24 00:00:00\n",
       "  dod_hosp            dod_ssn             expire_flag\n",
       "1 2165-08-12 00:00:00 2165-08-12 00:00:00 1          \n",
       "2 2126-08-28 00:00:00                     1          \n",
       "3 2125-10-07 00:00:00 2125-10-07 00:00:00 1          \n",
       "4                     2152-09-12 00:00:00 1          \n",
       "5 2163-05-15 00:00:00 2163-05-15 00:00:00 1          \n",
       "6                     2195-11-24 00:00:00 1          "
      ]
     },
     "metadata": {},
     "output_type": "display_data"
    }
   ],
   "source": [
    "head(patients)"
   ]
  },
  {
   "cell_type": "code",
   "execution_count": 150,
   "metadata": {},
   "outputs": [],
   "source": [
    "diagnoses = read.csv(\"data/DIAGNOSES_ICD.csv\")"
   ]
  },
  {
   "cell_type": "code",
   "execution_count": 222,
   "metadata": {},
   "outputs": [
    {
     "data": {
      "text/html": [
       "<table>\n",
       "<thead><tr><th></th><th scope=col>row_id</th><th scope=col>subject_id</th><th scope=col>hadm_id</th><th scope=col>seq_num</th><th scope=col>icd9_code</th></tr></thead>\n",
       "<tbody>\n",
       "\t<tr><th scope=row>115</th><td>112571</td><td>10032 </td><td>140372</td><td> 9    </td><td>5849  </td></tr>\n",
       "\t<tr><th scope=row>118</th><td>112574</td><td>10033 </td><td>157235</td><td> 3    </td><td>5849  </td></tr>\n",
       "\t<tr><th scope=row>135</th><td>112593</td><td>10036 </td><td>189483</td><td> 4    </td><td>5849  </td></tr>\n",
       "\t<tr><th scope=row>150</th><td>112615</td><td>10038 </td><td>111115</td><td> 5    </td><td>5849  </td></tr>\n",
       "\t<tr><th scope=row>207</th><td>112686</td><td>10045 </td><td>126949</td><td> 7    </td><td>5849  </td></tr>\n",
       "\t<tr><th scope=row>250</th><td>112816</td><td>10059 </td><td>122098</td><td>11    </td><td>5849  </td></tr>\n",
       "</tbody>\n",
       "</table>\n"
      ],
      "text/latex": [
       "\\begin{tabular}{r|lllll}\n",
       "  & row\\_id & subject\\_id & hadm\\_id & seq\\_num & icd9\\_code\\\\\n",
       "\\hline\n",
       "\t115 & 112571 & 10032  & 140372 &  9     & 5849  \\\\\n",
       "\t118 & 112574 & 10033  & 157235 &  3     & 5849  \\\\\n",
       "\t135 & 112593 & 10036  & 189483 &  4     & 5849  \\\\\n",
       "\t150 & 112615 & 10038  & 111115 &  5     & 5849  \\\\\n",
       "\t207 & 112686 & 10045  & 126949 &  7     & 5849  \\\\\n",
       "\t250 & 112816 & 10059  & 122098 & 11     & 5849  \\\\\n",
       "\\end{tabular}\n"
      ],
      "text/markdown": [
       "\n",
       "| <!--/--> | row_id | subject_id | hadm_id | seq_num | icd9_code |\n",
       "|---|---|---|---|---|---|\n",
       "| 115 | 112571 | 10032  | 140372 |  9     | 5849   |\n",
       "| 118 | 112574 | 10033  | 157235 |  3     | 5849   |\n",
       "| 135 | 112593 | 10036  | 189483 |  4     | 5849   |\n",
       "| 150 | 112615 | 10038  | 111115 |  5     | 5849   |\n",
       "| 207 | 112686 | 10045  | 126949 |  7     | 5849   |\n",
       "| 250 | 112816 | 10059  | 122098 | 11     | 5849   |\n",
       "\n"
      ],
      "text/plain": [
       "    row_id subject_id hadm_id seq_num icd9_code\n",
       "115 112571 10032      140372   9      5849     \n",
       "118 112574 10033      157235   3      5849     \n",
       "135 112593 10036      189483   4      5849     \n",
       "150 112615 10038      111115   5      5849     \n",
       "207 112686 10045      126949   7      5849     \n",
       "250 112816 10059      122098  11      5849     "
      ]
     },
     "metadata": {},
     "output_type": "display_data"
    }
   ],
   "source": [
    "dis_id = 5849\n",
    "dis = diagnoses[diagnoses$icd9_code == dis_id,]\n",
    "head(dis)"
   ]
  },
  {
   "cell_type": "code",
   "execution_count": 219,
   "metadata": {},
   "outputs": [],
   "source": [
    "dis_gender = merge(x = patients[c(\"subject_id\",\"gender\")], y = dis[c(\"subject_id\",\"icd9_code\")], by = c(\"subject_id\"),all.x=TRUE)\n",
    "dis_gender$ill = ifelse(is.na(dis_gender$icd9_code),0,1)"
   ]
  },
  {
   "cell_type": "code",
   "execution_count": 220,
   "metadata": {},
   "outputs": [
    {
     "data": {
      "text/plain": [
       "   \n",
       "     0  1\n",
       "  F 43 13\n",
       "  M 24 32"
      ]
     },
     "metadata": {},
     "output_type": "display_data"
    }
   ],
   "source": [
    "contingency_table = table(dis_gender$gender, dis_gender$ill)\n",
    "contingency_table"
   ]
  },
  {
   "cell_type": "code",
   "execution_count": 221,
   "metadata": {},
   "outputs": [
    {
     "data": {
      "text/plain": [
       "\n",
       "\tFisher's Exact Test for Count Data\n",
       "\n",
       "data:  contingency_table\n",
       "p-value = 0.0004584\n",
       "alternative hypothesis: true odds ratio is not equal to 1\n",
       "95 percent confidence interval:\n",
       "  1.819856 10.893306\n",
       "sample estimates:\n",
       "odds ratio \n",
       "  4.347196 \n"
      ]
     },
     "metadata": {},
     "output_type": "display_data"
    }
   ],
   "source": [
    "fisher.test(contingency_table)"
   ]
  },
  {
   "cell_type": "code",
   "execution_count": null,
   "metadata": {},
   "outputs": [],
   "source": []
  }
 ],
 "metadata": {
  "kernelspec": {
   "display_name": "R",
   "language": "R",
   "name": "ir"
  },
  "language_info": {
   "codemirror_mode": "r",
   "file_extension": ".r",
   "mimetype": "text/x-r-source",
   "name": "R",
   "pygments_lexer": "r",
   "version": "3.6.1"
  }
 },
 "nbformat": 4,
 "nbformat_minor": 4
}
