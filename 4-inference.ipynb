{
 "cells": [
  {
   "cell_type": "markdown",
   "metadata": {},
   "source": [
    "# Inferencia"
   ]
  },
  {
   "cell_type": "markdown",
   "metadata": {},
   "source": [
    "La inferencia es el proceso en el cual nosotros dado características y variables respuesta derivamos las relaciones existentes entre las mismas. Con este proceso logramos extraer la manera en que se relacionas las características con una variable respuesta."
   ]
  },
  {
   "cell_type": "markdown",
   "metadata": {},
   "source": [
    "## Relaciones entre variables continuas"
   ]
  },
  {
   "cell_type": "markdown",
   "metadata": {},
   "source": [
    "Utilizaremos la tabla `CHARTEVENTS` para probar la existencia de relaciones entre un par de variables."
   ]
  },
  {
   "cell_type": "code",
   "execution_count": 1,
   "metadata": {},
   "outputs": [],
   "source": [
    "chartevents = read.csv(\"data/CHARTEVENTS.csv\")"
   ]
  },
  {
   "cell_type": "markdown",
   "metadata": {},
   "source": [
    "Extraeremos la temperatura corporal de los pacientes"
   ]
  },
  {
   "cell_type": "code",
   "execution_count": 2,
   "metadata": {},
   "outputs": [],
   "source": [
    "temp_id = 223762\n",
    "temp = chartevents[chartevents$itemid == temp_id,]\n",
    "temp$charttime = as.POSIXct(temp$charttime) # Recordamos convertir esa columna a fecha y hora."
   ]
  },
  {
   "cell_type": "code",
   "execution_count": 3,
   "metadata": {},
   "outputs": [
    {
     "data": {
      "text/html": [
       "<table>\n",
       "<thead><tr><th></th><th scope=col>row_id</th><th scope=col>subject_id</th><th scope=col>hadm_id</th><th scope=col>icustay_id</th><th scope=col>itemid</th><th scope=col>charttime</th><th scope=col>storetime</th><th scope=col>cgid</th><th scope=col>value</th><th scope=col>valuenum</th><th scope=col>valueuom</th><th scope=col>warning</th><th scope=col>error</th><th scope=col>resultstatus</th><th scope=col>stopped</th></tr></thead>\n",
       "<tbody>\n",
       "\t<tr><th scope=row>4461</th><td>5383746            </td><td>40310              </td><td>186361             </td><td>210989             </td><td>223762             </td><td>2144-07-13 21:00:00</td><td>2144-07-13 23:12:00</td><td>15407              </td><td>39.1               </td><td>39.1               </td><td>?C                 </td><td>0                  </td><td>0                  </td><td>                   </td><td>                   </td></tr>\n",
       "\t<tr><th scope=row>4475</th><td>5383760            </td><td>40310              </td><td>186361             </td><td>210989             </td><td>223762             </td><td>2144-07-13 22:00:00</td><td>2144-07-13 23:13:00</td><td>15407              </td><td>38.9               </td><td>38.9               </td><td>?C                 </td><td>0                  </td><td>0                  </td><td>                   </td><td>                   </td></tr>\n",
       "\t<tr><th scope=row>4515</th><td>5383800            </td><td>40310              </td><td>186361             </td><td>210989             </td><td>223762             </td><td>2144-07-13 23:00:00</td><td>2144-07-13 23:12:00</td><td>15407              </td><td>38.6               </td><td>38.6               </td><td>?C                 </td><td>0                  </td><td>0                  </td><td>                   </td><td>                   </td></tr>\n",
       "\t<tr><th scope=row>4528</th><td>5383813            </td><td>40310              </td><td>186361             </td><td>210989             </td><td>223762             </td><td>2144-07-14 00:00:00</td><td>2144-07-14 00:27:00</td><td>15407              </td><td>38                 </td><td>38.0               </td><td>?C                 </td><td>0                  </td><td>0                  </td><td>                   </td><td>                   </td></tr>\n",
       "\t<tr><th scope=row>4543</th><td>5383828            </td><td>40310              </td><td>186361             </td><td>210989             </td><td>223762             </td><td>2144-07-14 01:00:00</td><td>2144-07-14 01:02:00</td><td>15407              </td><td>37.2               </td><td>37.2               </td><td>?C                 </td><td>0                  </td><td>0                  </td><td>                   </td><td>                   </td></tr>\n",
       "\t<tr><th scope=row>4565</th><td>5383850            </td><td>40310              </td><td>186361             </td><td>210989             </td><td>223762             </td><td>2144-07-14 02:00:00</td><td>2144-07-14 03:02:00</td><td>15407              </td><td>37.2               </td><td>37.2               </td><td>?C                 </td><td>0                  </td><td>0                  </td><td>                   </td><td>                   </td></tr>\n",
       "</tbody>\n",
       "</table>\n"
      ],
      "text/latex": [
       "\\begin{tabular}{r|lllllllllllllll}\n",
       "  & row\\_id & subject\\_id & hadm\\_id & icustay\\_id & itemid & charttime & storetime & cgid & value & valuenum & valueuom & warning & error & resultstatus & stopped\\\\\n",
       "\\hline\n",
       "\t4461 & 5383746             & 40310               & 186361              & 210989              & 223762              & 2144-07-13 21:00:00 & 2144-07-13 23:12:00 & 15407               & 39.1                & 39.1                & ?C                  & 0                   & 0                   &                     &                    \\\\\n",
       "\t4475 & 5383760             & 40310               & 186361              & 210989              & 223762              & 2144-07-13 22:00:00 & 2144-07-13 23:13:00 & 15407               & 38.9                & 38.9                & ?C                  & 0                   & 0                   &                     &                    \\\\\n",
       "\t4515 & 5383800             & 40310               & 186361              & 210989              & 223762              & 2144-07-13 23:00:00 & 2144-07-13 23:12:00 & 15407               & 38.6                & 38.6                & ?C                  & 0                   & 0                   &                     &                    \\\\\n",
       "\t4528 & 5383813             & 40310               & 186361              & 210989              & 223762              & 2144-07-14 00:00:00 & 2144-07-14 00:27:00 & 15407               & 38                  & 38.0                & ?C                  & 0                   & 0                   &                     &                    \\\\\n",
       "\t4543 & 5383828             & 40310               & 186361              & 210989              & 223762              & 2144-07-14 01:00:00 & 2144-07-14 01:02:00 & 15407               & 37.2                & 37.2                & ?C                  & 0                   & 0                   &                     &                    \\\\\n",
       "\t4565 & 5383850             & 40310               & 186361              & 210989              & 223762              & 2144-07-14 02:00:00 & 2144-07-14 03:02:00 & 15407               & 37.2                & 37.2                & ?C                  & 0                   & 0                   &                     &                    \\\\\n",
       "\\end{tabular}\n"
      ],
      "text/markdown": [
       "\n",
       "| <!--/--> | row_id | subject_id | hadm_id | icustay_id | itemid | charttime | storetime | cgid | value | valuenum | valueuom | warning | error | resultstatus | stopped |\n",
       "|---|---|---|---|---|---|---|---|---|---|---|---|---|---|---|---|\n",
       "| 4461 | 5383746             | 40310               | 186361              | 210989              | 223762              | 2144-07-13 21:00:00 | 2144-07-13 23:12:00 | 15407               | 39.1                | 39.1                | ?C                  | 0                   | 0                   |                     |                     |\n",
       "| 4475 | 5383760             | 40310               | 186361              | 210989              | 223762              | 2144-07-13 22:00:00 | 2144-07-13 23:13:00 | 15407               | 38.9                | 38.9                | ?C                  | 0                   | 0                   |                     |                     |\n",
       "| 4515 | 5383800             | 40310               | 186361              | 210989              | 223762              | 2144-07-13 23:00:00 | 2144-07-13 23:12:00 | 15407               | 38.6                | 38.6                | ?C                  | 0                   | 0                   |                     |                     |\n",
       "| 4528 | 5383813             | 40310               | 186361              | 210989              | 223762              | 2144-07-14 00:00:00 | 2144-07-14 00:27:00 | 15407               | 38                  | 38.0                | ?C                  | 0                   | 0                   |                     |                     |\n",
       "| 4543 | 5383828             | 40310               | 186361              | 210989              | 223762              | 2144-07-14 01:00:00 | 2144-07-14 01:02:00 | 15407               | 37.2                | 37.2                | ?C                  | 0                   | 0                   |                     |                     |\n",
       "| 4565 | 5383850             | 40310               | 186361              | 210989              | 223762              | 2144-07-14 02:00:00 | 2144-07-14 03:02:00 | 15407               | 37.2                | 37.2                | ?C                  | 0                   | 0                   |                     |                     |\n",
       "\n"
      ],
      "text/plain": [
       "     row_id  subject_id hadm_id icustay_id itemid charttime          \n",
       "4461 5383746 40310      186361  210989     223762 2144-07-13 21:00:00\n",
       "4475 5383760 40310      186361  210989     223762 2144-07-13 22:00:00\n",
       "4515 5383800 40310      186361  210989     223762 2144-07-13 23:00:00\n",
       "4528 5383813 40310      186361  210989     223762 2144-07-14 00:00:00\n",
       "4543 5383828 40310      186361  210989     223762 2144-07-14 01:00:00\n",
       "4565 5383850 40310      186361  210989     223762 2144-07-14 02:00:00\n",
       "     storetime           cgid  value valuenum valueuom warning error\n",
       "4461 2144-07-13 23:12:00 15407 39.1  39.1     ?C       0       0    \n",
       "4475 2144-07-13 23:13:00 15407 38.9  38.9     ?C       0       0    \n",
       "4515 2144-07-13 23:12:00 15407 38.6  38.6     ?C       0       0    \n",
       "4528 2144-07-14 00:27:00 15407 38    38.0     ?C       0       0    \n",
       "4543 2144-07-14 01:02:00 15407 37.2  37.2     ?C       0       0    \n",
       "4565 2144-07-14 03:02:00 15407 37.2  37.2     ?C       0       0    \n",
       "     resultstatus stopped\n",
       "4461                     \n",
       "4475                     \n",
       "4515                     \n",
       "4528                     \n",
       "4543                     \n",
       "4565                     "
      ]
     },
     "metadata": {},
     "output_type": "display_data"
    }
   ],
   "source": [
    "head(temp)"
   ]
  },
  {
   "cell_type": "markdown",
   "metadata": {},
   "source": [
    "Además extraemos la frecuencia cardiaca de los pacientes."
   ]
  },
  {
   "cell_type": "code",
   "execution_count": 4,
   "metadata": {},
   "outputs": [],
   "source": [
    "hr_id = 220045\n",
    "hr = chartevents[chartevents$itemid == hr_id,]\n",
    "hr$charttime = as.POSIXct(hr$charttime, format=\"%Y-%m-%d %H:%M:%OS\")"
   ]
  },
  {
   "cell_type": "code",
   "execution_count": 5,
   "metadata": {},
   "outputs": [
    {
     "data": {
      "text/html": [
       "<table>\n",
       "<thead><tr><th></th><th scope=col>row_id</th><th scope=col>subject_id</th><th scope=col>hadm_id</th><th scope=col>icustay_id</th><th scope=col>itemid</th><th scope=col>charttime</th><th scope=col>storetime</th><th scope=col>cgid</th><th scope=col>value</th><th scope=col>valuenum</th><th scope=col>valueuom</th><th scope=col>warning</th><th scope=col>error</th><th scope=col>resultstatus</th><th scope=col>stopped</th></tr></thead>\n",
       "<tbody>\n",
       "\t<tr><th scope=row>4</th><td>5279024            </td><td>40124              </td><td>126179             </td><td>279554             </td><td>220045             </td><td>2130-02-04 04:32:00</td><td>2130-02-04 04:43:00</td><td>21452              </td><td>94                 </td><td>94                 </td><td>bpm                </td><td>0                  </td><td>0                  </td><td>                   </td><td>                   </td></tr>\n",
       "\t<tr><th scope=row>22</th><td>5279042            </td><td>40124              </td><td>126179             </td><td>279554             </td><td>220045             </td><td>2130-02-04 05:01:00</td><td>2130-02-04 05:33:00</td><td>21452              </td><td>88                 </td><td>88                 </td><td>bpm                </td><td>0                  </td><td>0                  </td><td>                   </td><td>                   </td></tr>\n",
       "\t<tr><th scope=row>25</th><td>5279045            </td><td>40124              </td><td>126179             </td><td>279554             </td><td>220045             </td><td>2130-02-04 06:00:00</td><td>2130-02-04 06:08:00</td><td>21452              </td><td>82                 </td><td>82                 </td><td>bpm                </td><td>0                  </td><td>0                  </td><td>                   </td><td>                   </td></tr>\n",
       "\t<tr><th scope=row>58</th><td>5279078            </td><td>40124              </td><td>126179             </td><td>279554             </td><td>220045             </td><td>2130-02-04 07:00:00</td><td>2130-02-04 07:39:00</td><td>21304              </td><td>89                 </td><td>89                 </td><td>bpm                </td><td>0                  </td><td>0                  </td><td>                   </td><td>                   </td></tr>\n",
       "\t<tr><th scope=row>64</th><td>5279084            </td><td>40124              </td><td>126179             </td><td>279554             </td><td>220045             </td><td>2130-02-04 08:00:00</td><td>2130-02-04 07:46:00</td><td>21304              </td><td>84                 </td><td>84                 </td><td>bpm                </td><td>0                  </td><td>0                  </td><td>                   </td><td>                   </td></tr>\n",
       "\t<tr><th scope=row>94</th><td>5279114            </td><td>40124              </td><td>126179             </td><td>279554             </td><td>220045             </td><td>2130-02-04 09:00:00</td><td>2130-02-04 08:53:00</td><td>21304              </td><td>95                 </td><td>95                 </td><td>bpm                </td><td>0                  </td><td>0                  </td><td>                   </td><td>                   </td></tr>\n",
       "</tbody>\n",
       "</table>\n"
      ],
      "text/latex": [
       "\\begin{tabular}{r|lllllllllllllll}\n",
       "  & row\\_id & subject\\_id & hadm\\_id & icustay\\_id & itemid & charttime & storetime & cgid & value & valuenum & valueuom & warning & error & resultstatus & stopped\\\\\n",
       "\\hline\n",
       "\t4 & 5279024             & 40124               & 126179              & 279554              & 220045              & 2130-02-04 04:32:00 & 2130-02-04 04:43:00 & 21452               & 94                  & 94                  & bpm                 & 0                   & 0                   &                     &                    \\\\\n",
       "\t22 & 5279042             & 40124               & 126179              & 279554              & 220045              & 2130-02-04 05:01:00 & 2130-02-04 05:33:00 & 21452               & 88                  & 88                  & bpm                 & 0                   & 0                   &                     &                    \\\\\n",
       "\t25 & 5279045             & 40124               & 126179              & 279554              & 220045              & 2130-02-04 06:00:00 & 2130-02-04 06:08:00 & 21452               & 82                  & 82                  & bpm                 & 0                   & 0                   &                     &                    \\\\\n",
       "\t58 & 5279078             & 40124               & 126179              & 279554              & 220045              & 2130-02-04 07:00:00 & 2130-02-04 07:39:00 & 21304               & 89                  & 89                  & bpm                 & 0                   & 0                   &                     &                    \\\\\n",
       "\t64 & 5279084             & 40124               & 126179              & 279554              & 220045              & 2130-02-04 08:00:00 & 2130-02-04 07:46:00 & 21304               & 84                  & 84                  & bpm                 & 0                   & 0                   &                     &                    \\\\\n",
       "\t94 & 5279114             & 40124               & 126179              & 279554              & 220045              & 2130-02-04 09:00:00 & 2130-02-04 08:53:00 & 21304               & 95                  & 95                  & bpm                 & 0                   & 0                   &                     &                    \\\\\n",
       "\\end{tabular}\n"
      ],
      "text/markdown": [
       "\n",
       "| <!--/--> | row_id | subject_id | hadm_id | icustay_id | itemid | charttime | storetime | cgid | value | valuenum | valueuom | warning | error | resultstatus | stopped |\n",
       "|---|---|---|---|---|---|---|---|---|---|---|---|---|---|---|---|\n",
       "| 4 | 5279024             | 40124               | 126179              | 279554              | 220045              | 2130-02-04 04:32:00 | 2130-02-04 04:43:00 | 21452               | 94                  | 94                  | bpm                 | 0                   | 0                   |                     |                     |\n",
       "| 22 | 5279042             | 40124               | 126179              | 279554              | 220045              | 2130-02-04 05:01:00 | 2130-02-04 05:33:00 | 21452               | 88                  | 88                  | bpm                 | 0                   | 0                   |                     |                     |\n",
       "| 25 | 5279045             | 40124               | 126179              | 279554              | 220045              | 2130-02-04 06:00:00 | 2130-02-04 06:08:00 | 21452               | 82                  | 82                  | bpm                 | 0                   | 0                   |                     |                     |\n",
       "| 58 | 5279078             | 40124               | 126179              | 279554              | 220045              | 2130-02-04 07:00:00 | 2130-02-04 07:39:00 | 21304               | 89                  | 89                  | bpm                 | 0                   | 0                   |                     |                     |\n",
       "| 64 | 5279084             | 40124               | 126179              | 279554              | 220045              | 2130-02-04 08:00:00 | 2130-02-04 07:46:00 | 21304               | 84                  | 84                  | bpm                 | 0                   | 0                   |                     |                     |\n",
       "| 94 | 5279114             | 40124               | 126179              | 279554              | 220045              | 2130-02-04 09:00:00 | 2130-02-04 08:53:00 | 21304               | 95                  | 95                  | bpm                 | 0                   | 0                   |                     |                     |\n",
       "\n"
      ],
      "text/plain": [
       "   row_id  subject_id hadm_id icustay_id itemid charttime          \n",
       "4  5279024 40124      126179  279554     220045 2130-02-04 04:32:00\n",
       "22 5279042 40124      126179  279554     220045 2130-02-04 05:01:00\n",
       "25 5279045 40124      126179  279554     220045 2130-02-04 06:00:00\n",
       "58 5279078 40124      126179  279554     220045 2130-02-04 07:00:00\n",
       "64 5279084 40124      126179  279554     220045 2130-02-04 08:00:00\n",
       "94 5279114 40124      126179  279554     220045 2130-02-04 09:00:00\n",
       "   storetime           cgid  value valuenum valueuom warning error resultstatus\n",
       "4  2130-02-04 04:43:00 21452 94    94       bpm      0       0                 \n",
       "22 2130-02-04 05:33:00 21452 88    88       bpm      0       0                 \n",
       "25 2130-02-04 06:08:00 21452 82    82       bpm      0       0                 \n",
       "58 2130-02-04 07:39:00 21304 89    89       bpm      0       0                 \n",
       "64 2130-02-04 07:46:00 21304 84    84       bpm      0       0                 \n",
       "94 2130-02-04 08:53:00 21304 95    95       bpm      0       0                 \n",
       "   stopped\n",
       "4         \n",
       "22        \n",
       "25        \n",
       "58        \n",
       "64        \n",
       "94        "
      ]
     },
     "metadata": {},
     "output_type": "display_data"
    }
   ],
   "source": [
    "head(hr)"
   ]
  },
  {
   "cell_type": "markdown",
   "metadata": {},
   "source": [
    "Seleccionamos sólo las columnas que nos interesa analizar."
   ]
  },
  {
   "cell_type": "code",
   "execution_count": 6,
   "metadata": {},
   "outputs": [
    {
     "data": {
      "text/html": [
       "<table>\n",
       "<thead><tr><th></th><th scope=col>subject_id</th><th scope=col>charttime</th><th scope=col>valuenum</th></tr></thead>\n",
       "<tbody>\n",
       "\t<tr><th scope=row>4461</th><td>40310              </td><td>2144-07-13 21:00:00</td><td>39.1               </td></tr>\n",
       "\t<tr><th scope=row>4475</th><td>40310              </td><td>2144-07-13 22:00:00</td><td>38.9               </td></tr>\n",
       "\t<tr><th scope=row>4515</th><td>40310              </td><td>2144-07-13 23:00:00</td><td>38.6               </td></tr>\n",
       "\t<tr><th scope=row>4528</th><td>40310              </td><td>2144-07-14 00:00:00</td><td>38.0               </td></tr>\n",
       "\t<tr><th scope=row>4543</th><td>40310              </td><td>2144-07-14 01:00:00</td><td>37.2               </td></tr>\n",
       "\t<tr><th scope=row>4565</th><td>40310              </td><td>2144-07-14 02:00:00</td><td>37.2               </td></tr>\n",
       "</tbody>\n",
       "</table>\n"
      ],
      "text/latex": [
       "\\begin{tabular}{r|lll}\n",
       "  & subject\\_id & charttime & valuenum\\\\\n",
       "\\hline\n",
       "\t4461 & 40310               & 2144-07-13 21:00:00 & 39.1               \\\\\n",
       "\t4475 & 40310               & 2144-07-13 22:00:00 & 38.9               \\\\\n",
       "\t4515 & 40310               & 2144-07-13 23:00:00 & 38.6               \\\\\n",
       "\t4528 & 40310               & 2144-07-14 00:00:00 & 38.0               \\\\\n",
       "\t4543 & 40310               & 2144-07-14 01:00:00 & 37.2               \\\\\n",
       "\t4565 & 40310               & 2144-07-14 02:00:00 & 37.2               \\\\\n",
       "\\end{tabular}\n"
      ],
      "text/markdown": [
       "\n",
       "| <!--/--> | subject_id | charttime | valuenum |\n",
       "|---|---|---|---|\n",
       "| 4461 | 40310               | 2144-07-13 21:00:00 | 39.1                |\n",
       "| 4475 | 40310               | 2144-07-13 22:00:00 | 38.9                |\n",
       "| 4515 | 40310               | 2144-07-13 23:00:00 | 38.6                |\n",
       "| 4528 | 40310               | 2144-07-14 00:00:00 | 38.0                |\n",
       "| 4543 | 40310               | 2144-07-14 01:00:00 | 37.2                |\n",
       "| 4565 | 40310               | 2144-07-14 02:00:00 | 37.2                |\n",
       "\n"
      ],
      "text/plain": [
       "     subject_id charttime           valuenum\n",
       "4461 40310      2144-07-13 21:00:00 39.1    \n",
       "4475 40310      2144-07-13 22:00:00 38.9    \n",
       "4515 40310      2144-07-13 23:00:00 38.6    \n",
       "4528 40310      2144-07-14 00:00:00 38.0    \n",
       "4543 40310      2144-07-14 01:00:00 37.2    \n",
       "4565 40310      2144-07-14 02:00:00 37.2    "
      ]
     },
     "metadata": {},
     "output_type": "display_data"
    }
   ],
   "source": [
    "temp = temp[c(\"subject_id\",\"charttime\",\"valuenum\")]\n",
    "head(temp)"
   ]
  },
  {
   "cell_type": "code",
   "execution_count": 7,
   "metadata": {},
   "outputs": [
    {
     "data": {
      "text/html": [
       "<table>\n",
       "<thead><tr><th></th><th scope=col>subject_id</th><th scope=col>charttime</th><th scope=col>valuenum</th></tr></thead>\n",
       "<tbody>\n",
       "\t<tr><th scope=row>4</th><td>40124              </td><td>2130-02-04 04:32:00</td><td>94                 </td></tr>\n",
       "\t<tr><th scope=row>22</th><td>40124              </td><td>2130-02-04 05:01:00</td><td>88                 </td></tr>\n",
       "\t<tr><th scope=row>25</th><td>40124              </td><td>2130-02-04 06:00:00</td><td>82                 </td></tr>\n",
       "\t<tr><th scope=row>58</th><td>40124              </td><td>2130-02-04 07:00:00</td><td>89                 </td></tr>\n",
       "\t<tr><th scope=row>64</th><td>40124              </td><td>2130-02-04 08:00:00</td><td>84                 </td></tr>\n",
       "\t<tr><th scope=row>94</th><td>40124              </td><td>2130-02-04 09:00:00</td><td>95                 </td></tr>\n",
       "</tbody>\n",
       "</table>\n"
      ],
      "text/latex": [
       "\\begin{tabular}{r|lll}\n",
       "  & subject\\_id & charttime & valuenum\\\\\n",
       "\\hline\n",
       "\t4 & 40124               & 2130-02-04 04:32:00 & 94                 \\\\\n",
       "\t22 & 40124               & 2130-02-04 05:01:00 & 88                 \\\\\n",
       "\t25 & 40124               & 2130-02-04 06:00:00 & 82                 \\\\\n",
       "\t58 & 40124               & 2130-02-04 07:00:00 & 89                 \\\\\n",
       "\t64 & 40124               & 2130-02-04 08:00:00 & 84                 \\\\\n",
       "\t94 & 40124               & 2130-02-04 09:00:00 & 95                 \\\\\n",
       "\\end{tabular}\n"
      ],
      "text/markdown": [
       "\n",
       "| <!--/--> | subject_id | charttime | valuenum |\n",
       "|---|---|---|---|\n",
       "| 4 | 40124               | 2130-02-04 04:32:00 | 94                  |\n",
       "| 22 | 40124               | 2130-02-04 05:01:00 | 88                  |\n",
       "| 25 | 40124               | 2130-02-04 06:00:00 | 82                  |\n",
       "| 58 | 40124               | 2130-02-04 07:00:00 | 89                  |\n",
       "| 64 | 40124               | 2130-02-04 08:00:00 | 84                  |\n",
       "| 94 | 40124               | 2130-02-04 09:00:00 | 95                  |\n",
       "\n"
      ],
      "text/plain": [
       "   subject_id charttime           valuenum\n",
       "4  40124      2130-02-04 04:32:00 94      \n",
       "22 40124      2130-02-04 05:01:00 88      \n",
       "25 40124      2130-02-04 06:00:00 82      \n",
       "58 40124      2130-02-04 07:00:00 89      \n",
       "64 40124      2130-02-04 08:00:00 84      \n",
       "94 40124      2130-02-04 09:00:00 95      "
      ]
     },
     "metadata": {},
     "output_type": "display_data"
    }
   ],
   "source": [
    "hr = hr[c(\"subject_id\",\"charttime\",\"valuenum\")]\n",
    "head(hr)"
   ]
  },
  {
   "cell_type": "markdown",
   "metadata": {},
   "source": [
    "Tenemos 2 `data frame`, cada una con un signo vital distinto, pero necesitamos unirlas para saber el estado de ambos signos vitales tomados en el mismo momento."
   ]
  },
  {
   "cell_type": "code",
   "execution_count": 8,
   "metadata": {},
   "outputs": [
    {
     "data": {
      "text/html": [
       "<table>\n",
       "<thead><tr><th scope=col>subject_id</th><th scope=col>charttime</th><th scope=col>valuenum.x</th><th scope=col>valuenum.y</th></tr></thead>\n",
       "<tbody>\n",
       "\t<tr><td>40310              </td><td>2144-07-13 21:00:00</td><td>39.1               </td><td>120                </td></tr>\n",
       "\t<tr><td>40310              </td><td>2144-07-13 22:00:00</td><td>38.9               </td><td>125                </td></tr>\n",
       "\t<tr><td>40310              </td><td>2144-07-13 23:00:00</td><td>38.6               </td><td>122                </td></tr>\n",
       "\t<tr><td>40310              </td><td>2144-07-14 00:00:00</td><td>38.0               </td><td>116                </td></tr>\n",
       "\t<tr><td>40310              </td><td>2144-07-14 02:00:00</td><td>37.2               </td><td>103                </td></tr>\n",
       "\t<tr><td>40310              </td><td>2144-07-14 03:00:00</td><td>37.8               </td><td>106                </td></tr>\n",
       "</tbody>\n",
       "</table>\n"
      ],
      "text/latex": [
       "\\begin{tabular}{r|llll}\n",
       " subject\\_id & charttime & valuenum.x & valuenum.y\\\\\n",
       "\\hline\n",
       "\t 40310               & 2144-07-13 21:00:00 & 39.1                & 120                \\\\\n",
       "\t 40310               & 2144-07-13 22:00:00 & 38.9                & 125                \\\\\n",
       "\t 40310               & 2144-07-13 23:00:00 & 38.6                & 122                \\\\\n",
       "\t 40310               & 2144-07-14 00:00:00 & 38.0                & 116                \\\\\n",
       "\t 40310               & 2144-07-14 02:00:00 & 37.2                & 103                \\\\\n",
       "\t 40310               & 2144-07-14 03:00:00 & 37.8                & 106                \\\\\n",
       "\\end{tabular}\n"
      ],
      "text/markdown": [
       "\n",
       "| subject_id | charttime | valuenum.x | valuenum.y |\n",
       "|---|---|---|---|\n",
       "| 40310               | 2144-07-13 21:00:00 | 39.1                | 120                 |\n",
       "| 40310               | 2144-07-13 22:00:00 | 38.9                | 125                 |\n",
       "| 40310               | 2144-07-13 23:00:00 | 38.6                | 122                 |\n",
       "| 40310               | 2144-07-14 00:00:00 | 38.0                | 116                 |\n",
       "| 40310               | 2144-07-14 02:00:00 | 37.2                | 103                 |\n",
       "| 40310               | 2144-07-14 03:00:00 | 37.8                | 106                 |\n",
       "\n"
      ],
      "text/plain": [
       "  subject_id charttime           valuenum.x valuenum.y\n",
       "1 40310      2144-07-13 21:00:00 39.1       120       \n",
       "2 40310      2144-07-13 22:00:00 38.9       125       \n",
       "3 40310      2144-07-13 23:00:00 38.6       122       \n",
       "4 40310      2144-07-14 00:00:00 38.0       116       \n",
       "5 40310      2144-07-14 02:00:00 37.2       103       \n",
       "6 40310      2144-07-14 03:00:00 37.8       106       "
      ]
     },
     "metadata": {},
     "output_type": "display_data"
    }
   ],
   "source": [
    "temp_hr = merge(x = temp, y = hr, # Unimos la temperatura y la frecuencia cardiaca.\n",
    "                by = c(\"subject_id\", \"charttime\") # Unimos ambos datos utilizando el código del paciente y el momento de la\n",
    "                                                  # lectura del signo vital\n",
    "               )\n",
    "head(temp_hr)"
   ]
  },
  {
   "cell_type": "markdown",
   "metadata": {},
   "source": [
    "Exploramos la relación entre ambas características."
   ]
  },
  {
   "cell_type": "code",
   "execution_count": 9,
   "metadata": {},
   "outputs": [
    {
     "data": {
      "image/png": "[encoded data removed]",
      "text/plain": [
       "Plot with title \"Relación entre temperatura corporal y frecuencia cardiaca\""
      ]
     },
     "metadata": {},
     "output_type": "display_data"
    }
   ],
   "source": [
    "plot(temp_hr$valuenum.x, temp_hr$valuenum.y,\n",
    "     main=\"Relación entre temperatura corporal y frecuencia cardiaca\",\n",
    "     xlab=\"Temperatura corporal (°C)\",\n",
    "     ylab=\"Frecuencia cardiaca (lpm)\"\n",
    "    )"
   ]
  },
  {
   "cell_type": "markdown",
   "metadata": {},
   "source": [
    "Para poder realizar una regresión lineal debemos verificar la normalidad de los datos."
   ]
  },
  {
   "cell_type": "code",
   "execution_count": 10,
   "metadata": {},
   "outputs": [
    {
     "data": {
      "text/plain": [
       "\n",
       "\tShapiro-Wilk normality test\n",
       "\n",
       "data:  temp_hr$valuenum.x\n",
       "W = 0.95939, p-value = 0.3372\n"
      ]
     },
     "metadata": {},
     "output_type": "display_data"
    }
   ],
   "source": [
    "shapiro.test(temp_hr$valuenum.x) # Con la prueba Shapiro-Wilk podemos verificar la normalidad de los datos"
   ]
  },
  {
   "cell_type": "code",
   "execution_count": 11,
   "metadata": {},
   "outputs": [
    {
     "data": {
      "text/plain": [
       "\n",
       "\tShapiro-Wilk normality test\n",
       "\n",
       "data:  temp_hr$valuenum.y\n",
       "W = 0.9264, p-value = 0.05005\n"
      ]
     },
     "metadata": {},
     "output_type": "display_data"
    }
   ],
   "source": [
    "shapiro.test(temp_hr$valuenum.y)"
   ]
  },
  {
   "cell_type": "markdown",
   "metadata": {},
   "source": [
    "Implicitamente estalecemos un umbral de significancia estadística de 0.05, si el p_value la prueba Shapiro-Wilk es mayor a nuestro umbral de significancia, los datos se distribuyen normal."
   ]
  },
  {
   "cell_type": "markdown",
   "metadata": {},
   "source": [
    "La función `lm()` recibe una fórmula de datos para ajustar una linea de la forma\n",
    "\n",
    "$y = pendiente * x + intercepto$"
   ]
  },
  {
   "cell_type": "code",
   "execution_count": 12,
   "metadata": {},
   "outputs": [],
   "source": [
    "model = lm(\n",
    "    formula = temp_hr$valuenum.y ~ temp_hr$valuenum.x # Estamos ajustando una curva donde x es la temperatura corporal\n",
    "                                                      # y y es la frecuencia cardiaca\n",
    ")"
   ]
  },
  {
   "cell_type": "markdown",
   "metadata": {},
   "source": [
    "Con la función `summary()` podemos obtener los parámetros ajustados de la regesión lineal, las significancias estadísticas y el nivel de ajuste de la curva."
   ]
  },
  {
   "cell_type": "code",
   "execution_count": 13,
   "metadata": {},
   "outputs": [
    {
     "data": {
      "text/plain": [
       "\n",
       "Call:\n",
       "lm(formula = temp_hr$valuenum.y ~ temp_hr$valuenum.x)\n",
       "\n",
       "Residuals:\n",
       "    Min      1Q  Median      3Q     Max \n",
       "-6.3907 -2.8907  0.0983  1.9287 13.7768 \n",
       "\n",
       "Coefficients:\n",
       "                   Estimate Std. Error t value Pr(>|t|)    \n",
       "(Intercept)        -171.030     39.217  -4.361 0.000181 ***\n",
       "temp_hr$valuenum.x    7.445      1.047   7.108 1.51e-07 ***\n",
       "---\n",
       "Signif. codes:  0 '***' 0.001 '**' 0.01 '*' 0.05 '.' 0.1 ' ' 1\n",
       "\n",
       "Residual standard error: 4.377 on 26 degrees of freedom\n",
       "Multiple R-squared:  0.6603,\tAdjusted R-squared:  0.6472 \n",
       "F-statistic: 50.53 on 1 and 26 DF,  p-value: 1.506e-07\n"
      ]
     },
     "metadata": {},
     "output_type": "display_data"
    }
   ],
   "source": [
    "summary(model)"
   ]
  },
  {
   "cell_type": "markdown",
   "metadata": {},
   "source": [
    "Con estos datos podemos interpretar que por cada unidad de temperatura, la frecuencia cardiaca aumenta en 7.445 unidades. Acá puedes encontrar la explicación de cada uno de los elementos desplegados https://feliperego.github.io/blog/2015/10/23/Interpreting-Model-Output-In-R ."
   ]
  },
  {
   "cell_type": "markdown",
   "metadata": {},
   "source": [
    "Para visualizar la curva ajustada podemos utilizar la función abline() para graficarla."
   ]
  },
  {
   "cell_type": "code",
   "execution_count": 14,
   "metadata": {},
   "outputs": [
    {
     "data": {
      "image/png": "[encoded data removed]",
      "text/plain": [
       "Plot with title \"Relación entre temperatura corporal y frecuencia cardiaca\""
      ]
     },
     "metadata": {},
     "output_type": "display_data"
    }
   ],
   "source": [
    "plot(temp_hr$valuenum.x, temp_hr$valuenum.y,\n",
    "     main=\"Relación entre temperatura corporal y frecuencia cardiaca\",\n",
    "     xlab=\"Temperatura corporal (°C)\",\n",
    "     ylab=\"Frecuencia cardiaca (lpm)\"\n",
    "    )\n",
    "abline(model, col = \"red\") # Graficamos el modelo ajustado en color rojo.\n",
    "legend(\"bottomright\",\n",
    "       legend = c(\"Datos\", \"Regresión Lineal\"),\n",
    "       col=c(\"black\",\"red\"),\n",
    "       pch = c(1, NA), # Tipo de punto para la leyenda\n",
    "       lty=c(NA,1) # Tipo de línea para la leyenda\n",
    "      )"
   ]
  },
  {
   "cell_type": "markdown",
   "metadata": {},
   "source": [
    "## Relación entre una variable continua y discreta"
   ]
  },
  {
   "cell_type": "markdown",
   "metadata": {},
   "source": [
    "Extraemos los estados de dolor de los pacientes. Esta variables es dicotómica."
   ]
  },
  {
   "cell_type": "code",
   "execution_count": 15,
   "metadata": {},
   "outputs": [
    {
     "data": {
      "text/html": [
       "<table>\n",
       "<thead><tr><th></th><th scope=col>row_id</th><th scope=col>subject_id</th><th scope=col>hadm_id</th><th scope=col>icustay_id</th><th scope=col>itemid</th><th scope=col>charttime</th><th scope=col>storetime</th><th scope=col>cgid</th><th scope=col>value</th><th scope=col>valuenum</th><th scope=col>valueuom</th><th scope=col>warning</th><th scope=col>error</th><th scope=col>resultstatus</th><th scope=col>stopped</th></tr></thead>\n",
       "<tbody>\n",
       "\t<tr><th scope=row>477653</th><td>256431528          </td><td>40124              </td><td>146893             </td><td>269173             </td><td>225113             </td><td>2130-08-12 11:31:00</td><td>2130-08-12 16:20:00</td><td>14953              </td><td>0                  </td><td>FALSE              </td><td>                   </td><td>0                  </td><td>0                  </td><td>                   </td><td>                   </td></tr>\n",
       "\t<tr><th scope=row>477691</th><td>256431566          </td><td>40124              </td><td>146893             </td><td>269173             </td><td>225113             </td><td>2130-08-12 16:44:00</td><td>2130-08-12 16:44:00</td><td>14953              </td><td>0                  </td><td>FALSE              </td><td>                   </td><td>0                  </td><td>0                  </td><td>                   </td><td>                   </td></tr>\n",
       "\t<tr><th scope=row>477939</th><td>256434256          </td><td>40177              </td><td>198480             </td><td>236120             </td><td>225113             </td><td>2169-05-07 03:42:00</td><td>2169-05-07 03:45:00</td><td>17250              </td><td>1                  </td><td> TRUE              </td><td>                   </td><td>0                  </td><td>0                  </td><td>                   </td><td>                   </td></tr>\n",
       "\t<tr><th scope=row>477952</th><td>256434269          </td><td>40177              </td><td>198480             </td><td>236120             </td><td>225113             </td><td>2169-05-07 03:47:00</td><td>2169-05-07 03:47:00</td><td>17250              </td><td>1                  </td><td> TRUE              </td><td>                   </td><td>0                  </td><td>0                  </td><td>                   </td><td>                   </td></tr>\n",
       "\t<tr><th scope=row>478021</th><td>256434338          </td><td>40177              </td><td>198480             </td><td>285750             </td><td>225113             </td><td>2169-05-12 02:18:00</td><td>2169-05-12 02:18:00</td><td>19891              </td><td>1                  </td><td> TRUE              </td><td>                   </td><td>0                  </td><td>0                  </td><td>                   </td><td>                   </td></tr>\n",
       "\t<tr><th scope=row>478038</th><td>256434355          </td><td>40177              </td><td>198480             </td><td>285750             </td><td>225113             </td><td>2169-05-12 02:20:00</td><td>2169-05-12 02:28:00</td><td>19891              </td><td>0                  </td><td>FALSE              </td><td>                   </td><td>0                  </td><td>0                  </td><td>                   </td><td>                   </td></tr>\n",
       "</tbody>\n",
       "</table>\n"
      ],
      "text/latex": [
       "\\begin{tabular}{r|lllllllllllllll}\n",
       "  & row\\_id & subject\\_id & hadm\\_id & icustay\\_id & itemid & charttime & storetime & cgid & value & valuenum & valueuom & warning & error & resultstatus & stopped\\\\\n",
       "\\hline\n",
       "\t477653 & 256431528           & 40124               & 146893              & 269173              & 225113              & 2130-08-12 11:31:00 & 2130-08-12 16:20:00 & 14953               & 0                   & FALSE               &                     & 0                   & 0                   &                     &                    \\\\\n",
       "\t477691 & 256431566           & 40124               & 146893              & 269173              & 225113              & 2130-08-12 16:44:00 & 2130-08-12 16:44:00 & 14953               & 0                   & FALSE               &                     & 0                   & 0                   &                     &                    \\\\\n",
       "\t477939 & 256434256           & 40177               & 198480              & 236120              & 225113              & 2169-05-07 03:42:00 & 2169-05-07 03:45:00 & 17250               & 1                   &  TRUE               &                     & 0                   & 0                   &                     &                    \\\\\n",
       "\t477952 & 256434269           & 40177               & 198480              & 236120              & 225113              & 2169-05-07 03:47:00 & 2169-05-07 03:47:00 & 17250               & 1                   &  TRUE               &                     & 0                   & 0                   &                     &                    \\\\\n",
       "\t478021 & 256434338           & 40177               & 198480              & 285750              & 225113              & 2169-05-12 02:18:00 & 2169-05-12 02:18:00 & 19891               & 1                   &  TRUE               &                     & 0                   & 0                   &                     &                    \\\\\n",
       "\t478038 & 256434355           & 40177               & 198480              & 285750              & 225113              & 2169-05-12 02:20:00 & 2169-05-12 02:28:00 & 19891               & 0                   & FALSE               &                     & 0                   & 0                   &                     &                    \\\\\n",
       "\\end{tabular}\n"
      ],
      "text/markdown": [
       "\n",
       "| <!--/--> | row_id | subject_id | hadm_id | icustay_id | itemid | charttime | storetime | cgid | value | valuenum | valueuom | warning | error | resultstatus | stopped |\n",
       "|---|---|---|---|---|---|---|---|---|---|---|---|---|---|---|---|\n",
       "| 477653 | 256431528           | 40124               | 146893              | 269173              | 225113              | 2130-08-12 11:31:00 | 2130-08-12 16:20:00 | 14953               | 0                   | FALSE               |                     | 0                   | 0                   |                     |                     |\n",
       "| 477691 | 256431566           | 40124               | 146893              | 269173              | 225113              | 2130-08-12 16:44:00 | 2130-08-12 16:44:00 | 14953               | 0                   | FALSE               |                     | 0                   | 0                   |                     |                     |\n",
       "| 477939 | 256434256           | 40177               | 198480              | 236120              | 225113              | 2169-05-07 03:42:00 | 2169-05-07 03:45:00 | 17250               | 1                   |  TRUE               |                     | 0                   | 0                   |                     |                     |\n",
       "| 477952 | 256434269           | 40177               | 198480              | 236120              | 225113              | 2169-05-07 03:47:00 | 2169-05-07 03:47:00 | 17250               | 1                   |  TRUE               |                     | 0                   | 0                   |                     |                     |\n",
       "| 478021 | 256434338           | 40177               | 198480              | 285750              | 225113              | 2169-05-12 02:18:00 | 2169-05-12 02:18:00 | 19891               | 1                   |  TRUE               |                     | 0                   | 0                   |                     |                     |\n",
       "| 478038 | 256434355           | 40177               | 198480              | 285750              | 225113              | 2169-05-12 02:20:00 | 2169-05-12 02:28:00 | 19891               | 0                   | FALSE               |                     | 0                   | 0                   |                     |                     |\n",
       "\n"
      ],
      "text/plain": [
       "       row_id    subject_id hadm_id icustay_id itemid charttime          \n",
       "477653 256431528 40124      146893  269173     225113 2130-08-12 11:31:00\n",
       "477691 256431566 40124      146893  269173     225113 2130-08-12 16:44:00\n",
       "477939 256434256 40177      198480  236120     225113 2169-05-07 03:42:00\n",
       "477952 256434269 40177      198480  236120     225113 2169-05-07 03:47:00\n",
       "478021 256434338 40177      198480  285750     225113 2169-05-12 02:18:00\n",
       "478038 256434355 40177      198480  285750     225113 2169-05-12 02:20:00\n",
       "       storetime           cgid  value valuenum valueuom warning error\n",
       "477653 2130-08-12 16:20:00 14953 0     FALSE             0       0    \n",
       "477691 2130-08-12 16:44:00 14953 0     FALSE             0       0    \n",
       "477939 2169-05-07 03:45:00 17250 1      TRUE             0       0    \n",
       "477952 2169-05-07 03:47:00 17250 1      TRUE             0       0    \n",
       "478021 2169-05-12 02:18:00 19891 1      TRUE             0       0    \n",
       "478038 2169-05-12 02:28:00 19891 0     FALSE             0       0    \n",
       "       resultstatus stopped\n",
       "477653                     \n",
       "477691                     \n",
       "477939                     \n",
       "477952                     \n",
       "478021                     \n",
       "478038                     "
      ]
     },
     "metadata": {},
     "output_type": "display_data"
    }
   ],
   "source": [
    "pain_id = 225113\n",
    "pain = chartevents[chartevents$itemid == pain_id,]\n",
    "pain$charttime = as.POSIXct(pain$charttime)\n",
    "pain$valuenum = as.logical(pain$valuenum) # Convertimos la columna a LOGICAL\n",
    "head(pain)"
   ]
  },
  {
   "cell_type": "markdown",
   "metadata": {},
   "source": [
    "Creamos una columna que contenga sólo la fecha de las obsevaciones con la función `as.Date()`."
   ]
  },
  {
   "cell_type": "code",
   "execution_count": 16,
   "metadata": {},
   "outputs": [],
   "source": [
    "pain$date = as.Date(pain$charttime)\n",
    "hr$date = as.Date(hr$charttime)"
   ]
  },
  {
   "cell_type": "markdown",
   "metadata": {},
   "source": [
    "`R` no tiene una función nativa para calcular la moda de un vector, por lo que la debemos programar."
   ]
  },
  {
   "cell_type": "code",
   "execution_count": 17,
   "metadata": {},
   "outputs": [],
   "source": [
    "getmode = function(v) {\n",
    "    uniqv = unique(v) # Extraemos los valores únicos del vector v\n",
    "    matchv = match(v, uniqv) # Extraemos las posiciones de la aparición de los valores del vector v en uniqv\n",
    "    tabulatedv = tabulate(matchv) # Guardamos la frecuencia de cada uno de los valores del vector matchv\n",
    "    maxv = which.max(tabulatedv) # Retornamos la posición del valor mayor frecuente del vector tabulatedv, si hay más de 1, devolvemos el primero\n",
    "    uniqv[maxv] # Retornamos el valor en la posición maxv desde el vector uniqv\n",
    "}"
   ]
  },
  {
   "cell_type": "markdown",
   "metadata": {},
   "source": [
    "Necesitamos obtener si en general en un día específico, un paciente específico sintió dolor o no, para eso primero debemos agrupar los datos de acuerdo a la fecha de observación y el código del paciente, al agrupar los datos con esas columnas debemos agregar los valores de las observaciones, para eso utilizaremos la moda, por ejemplo, si un paciente declaró sentir dolor 3 veces en el día y declaró no sentir dolor 2 veces al día, el resultado de la agregación de los valores de ese día es que sí sintió dolor.\n",
    "\n",
    "Para realizar este procedimiento utilizamos la función de `r` llamada `aggregate()`, la cual recibe la fórmula de agrupamiento y agregación, los datos que deseamos agregar y la función de agregación que deseamos aplicar."
   ]
  },
  {
   "cell_type": "code",
   "execution_count": 18,
   "metadata": {},
   "outputs": [
    {
     "data": {
      "text/html": [
       "<table>\n",
       "<thead><tr><th scope=col>date</th><th scope=col>subject_id</th><th scope=col>valuenum</th></tr></thead>\n",
       "<tbody>\n",
       "\t<tr><td>2130-08-12</td><td>40124     </td><td>FALSE     </td></tr>\n",
       "\t<tr><td>2169-05-07</td><td>40177     </td><td> TRUE     </td></tr>\n",
       "\t<tr><td>2169-05-12</td><td>40177     </td><td>FALSE     </td></tr>\n",
       "\t<tr><td>2151-08-13</td><td>40277     </td><td>FALSE     </td></tr>\n",
       "\t<tr><td>2193-10-16</td><td>40286     </td><td> TRUE     </td></tr>\n",
       "\t<tr><td>2186-07-07</td><td>40503     </td><td>FALSE     </td></tr>\n",
       "</tbody>\n",
       "</table>\n"
      ],
      "text/latex": [
       "\\begin{tabular}{r|lll}\n",
       " date & subject\\_id & valuenum\\\\\n",
       "\\hline\n",
       "\t 2130-08-12 & 40124      & FALSE     \\\\\n",
       "\t 2169-05-07 & 40177      &  TRUE     \\\\\n",
       "\t 2169-05-12 & 40177      & FALSE     \\\\\n",
       "\t 2151-08-13 & 40277      & FALSE     \\\\\n",
       "\t 2193-10-16 & 40286      &  TRUE     \\\\\n",
       "\t 2186-07-07 & 40503      & FALSE     \\\\\n",
       "\\end{tabular}\n"
      ],
      "text/markdown": [
       "\n",
       "| date | subject_id | valuenum |\n",
       "|---|---|---|\n",
       "| 2130-08-12 | 40124      | FALSE      |\n",
       "| 2169-05-07 | 40177      |  TRUE      |\n",
       "| 2169-05-12 | 40177      | FALSE      |\n",
       "| 2151-08-13 | 40277      | FALSE      |\n",
       "| 2193-10-16 | 40286      |  TRUE      |\n",
       "| 2186-07-07 | 40503      | FALSE      |\n",
       "\n"
      ],
      "text/plain": [
       "  date       subject_id valuenum\n",
       "1 2130-08-12 40124      FALSE   \n",
       "2 2169-05-07 40177       TRUE   \n",
       "3 2169-05-12 40177      FALSE   \n",
       "4 2151-08-13 40277      FALSE   \n",
       "5 2193-10-16 40286       TRUE   \n",
       "6 2186-07-07 40503      FALSE   "
      ]
     },
     "metadata": {},
     "output_type": "display_data"
    }
   ],
   "source": [
    "pain_aggregated = aggregate(valuenum ~ date+subject_id, # Agregaremos la columna de dolor agrupando por la fecha de observación y código del paciente\n",
    "                            pain, # Agregaremos el data frame de observaciones de dolor\n",
    "                            getmode # Agregaremos los valores usando la moda\n",
    "                           )\n",
    "head(pain_aggregated)"
   ]
  },
  {
   "cell_type": "markdown",
   "metadata": {},
   "source": [
    "Haremos el mismo proceso de agregación con los datos de frecuencia cardiaca del día, pero esta vez agregaremos los datos utilizando la mediana."
   ]
  },
  {
   "cell_type": "code",
   "execution_count": 19,
   "metadata": {},
   "outputs": [
    {
     "data": {
      "text/html": [
       "<table>\n",
       "<thead><tr><th scope=col>date</th><th scope=col>subject_id</th><th scope=col>valuenum</th></tr></thead>\n",
       "<tbody>\n",
       "\t<tr><td>2130-02-04</td><td>40124     </td><td> 89.5     </td></tr>\n",
       "\t<tr><td>2130-02-05</td><td>40124     </td><td> 88.0     </td></tr>\n",
       "\t<tr><td>2130-02-06</td><td>40124     </td><td> 88.0     </td></tr>\n",
       "\t<tr><td>2130-08-12</td><td>40124     </td><td>103.0     </td></tr>\n",
       "\t<tr><td>2130-08-13</td><td>40124     </td><td>106.0     </td></tr>\n",
       "\t<tr><td>2130-08-14</td><td>40124     </td><td>101.0     </td></tr>\n",
       "</tbody>\n",
       "</table>\n"
      ],
      "text/latex": [
       "\\begin{tabular}{r|lll}\n",
       " date & subject\\_id & valuenum\\\\\n",
       "\\hline\n",
       "\t 2130-02-04 & 40124      &  89.5     \\\\\n",
       "\t 2130-02-05 & 40124      &  88.0     \\\\\n",
       "\t 2130-02-06 & 40124      &  88.0     \\\\\n",
       "\t 2130-08-12 & 40124      & 103.0     \\\\\n",
       "\t 2130-08-13 & 40124      & 106.0     \\\\\n",
       "\t 2130-08-14 & 40124      & 101.0     \\\\\n",
       "\\end{tabular}\n"
      ],
      "text/markdown": [
       "\n",
       "| date | subject_id | valuenum |\n",
       "|---|---|---|\n",
       "| 2130-02-04 | 40124      |  89.5      |\n",
       "| 2130-02-05 | 40124      |  88.0      |\n",
       "| 2130-02-06 | 40124      |  88.0      |\n",
       "| 2130-08-12 | 40124      | 103.0      |\n",
       "| 2130-08-13 | 40124      | 106.0      |\n",
       "| 2130-08-14 | 40124      | 101.0      |\n",
       "\n"
      ],
      "text/plain": [
       "  date       subject_id valuenum\n",
       "1 2130-02-04 40124       89.5   \n",
       "2 2130-02-05 40124       88.0   \n",
       "3 2130-02-06 40124       88.0   \n",
       "4 2130-08-12 40124      103.0   \n",
       "5 2130-08-13 40124      106.0   \n",
       "6 2130-08-14 40124      101.0   "
      ]
     },
     "metadata": {},
     "output_type": "display_data"
    }
   ],
   "source": [
    "hr_aggregated = aggregate(valuenum ~ date+subject_id, # Agregaremos la columna de frecuencia cardiaca agrupando por la fecha de observación y código del paciente\n",
    "                          hr, # Agregaremos el data frame de observaciones de frecuencia cardiaca\n",
    "                          median # Agregaremos los valores usando la mediana\n",
    "                         )\n",
    "head(hr_aggregated)"
   ]
  },
  {
   "cell_type": "markdown",
   "metadata": {},
   "source": [
    "Unimos las observaciones agregadas utilizando el método enunciado más atrás"
   ]
  },
  {
   "cell_type": "code",
   "execution_count": 20,
   "metadata": {},
   "outputs": [
    {
     "data": {
      "text/html": [
       "<table>\n",
       "<thead><tr><th scope=col>subject_id</th><th scope=col>date</th><th scope=col>valuenum.x</th><th scope=col>valuenum.y</th></tr></thead>\n",
       "<tbody>\n",
       "\t<tr><td>40124     </td><td>2130-08-12</td><td>FALSE     </td><td>103.0     </td></tr>\n",
       "\t<tr><td>40177     </td><td>2169-05-07</td><td> TRUE     </td><td> 67.0     </td></tr>\n",
       "\t<tr><td>40177     </td><td>2169-05-12</td><td>FALSE     </td><td> 63.0     </td></tr>\n",
       "\t<tr><td>40277     </td><td>2151-08-13</td><td>FALSE     </td><td> 83.0     </td></tr>\n",
       "\t<tr><td>40286     </td><td>2193-10-16</td><td> TRUE     </td><td>113.0     </td></tr>\n",
       "\t<tr><td>40503     </td><td>2186-07-07</td><td>FALSE     </td><td> 61.5     </td></tr>\n",
       "</tbody>\n",
       "</table>\n"
      ],
      "text/latex": [
       "\\begin{tabular}{r|llll}\n",
       " subject\\_id & date & valuenum.x & valuenum.y\\\\\n",
       "\\hline\n",
       "\t 40124      & 2130-08-12 & FALSE      & 103.0     \\\\\n",
       "\t 40177      & 2169-05-07 &  TRUE      &  67.0     \\\\\n",
       "\t 40177      & 2169-05-12 & FALSE      &  63.0     \\\\\n",
       "\t 40277      & 2151-08-13 & FALSE      &  83.0     \\\\\n",
       "\t 40286      & 2193-10-16 &  TRUE      & 113.0     \\\\\n",
       "\t 40503      & 2186-07-07 & FALSE      &  61.5     \\\\\n",
       "\\end{tabular}\n"
      ],
      "text/markdown": [
       "\n",
       "| subject_id | date | valuenum.x | valuenum.y |\n",
       "|---|---|---|---|\n",
       "| 40124      | 2130-08-12 | FALSE      | 103.0      |\n",
       "| 40177      | 2169-05-07 |  TRUE      |  67.0      |\n",
       "| 40177      | 2169-05-12 | FALSE      |  63.0      |\n",
       "| 40277      | 2151-08-13 | FALSE      |  83.0      |\n",
       "| 40286      | 2193-10-16 |  TRUE      | 113.0      |\n",
       "| 40503      | 2186-07-07 | FALSE      |  61.5      |\n",
       "\n"
      ],
      "text/plain": [
       "  subject_id date       valuenum.x valuenum.y\n",
       "1 40124      2130-08-12 FALSE      103.0     \n",
       "2 40177      2169-05-07  TRUE       67.0     \n",
       "3 40177      2169-05-12 FALSE       63.0     \n",
       "4 40277      2151-08-13 FALSE       83.0     \n",
       "5 40286      2193-10-16  TRUE      113.0     \n",
       "6 40503      2186-07-07 FALSE       61.5     "
      ]
     },
     "metadata": {},
     "output_type": "display_data"
    }
   ],
   "source": [
    "pain_hr = merge(x = pain_aggregated, y = hr_aggregated, by = c(\"subject_id\", \"date\"))\n",
    "head(pain_hr)"
   ]
  },
  {
   "cell_type": "markdown",
   "metadata": {},
   "source": [
    "Exploramos la posible diferencia en las medianas de la frecuencia cardiaca en cada grupo utilizando un boxplot."
   ]
  },
  {
   "cell_type": "code",
   "execution_count": 21,
   "metadata": {},
   "outputs": [
    {
     "data": {
      "image/png": "[encoded data removed]",
      "text/plain": [
       "Plot with title \"Mediana de la frecuencia cardiaca por grupos presencia de dolor\""
      ]
     },
     "metadata": {},
     "output_type": "display_data"
    }
   ],
   "source": [
    "boxplot(formula=valuenum.y~valuenum.x, \n",
    "        data=pain_hr,\n",
    "        main=\"Mediana de la frecuencia cardiaca por grupos presencia de dolor\",\n",
    "        ylab=\"Frecuencia Cardiaca (lpm)\",\n",
    "        xlab=\"Dolor (LOGICAL)\"\n",
    "       )"
   ]
  },
  {
   "cell_type": "markdown",
   "metadata": {},
   "source": [
    "Gráficamente podemos observar que existe una media mayor de frecuencia cardiaca en el grupo de pacientes con dolor."
   ]
  },
  {
   "cell_type": "markdown",
   "metadata": {},
   "source": [
    "Para poder saber si la diferencia entre las medias es estadísticamente significativa en ambos grupos, podemos aplicar la prueba t de Student con la función de `R` `t.test()`.\n",
    "\n",
    "La función `t.test()` recibe la formula de agrupamiento de los datos y el data frame que agruparemos."
   ]
  },
  {
   "cell_type": "code",
   "execution_count": 22,
   "metadata": {},
   "outputs": [
    {
     "data": {
      "text/plain": [
       "\n",
       "\tWelch Two Sample t-test\n",
       "\n",
       "data:  valuenum.y by valuenum.x\n",
       "t = -1.0903, df = 23.057, p-value = 0.2868\n",
       "alternative hypothesis: true difference in means is not equal to 0\n",
       "95 percent confidence interval:\n",
       " -20.463634   6.336304\n",
       "sample estimates:\n",
       "mean in group FALSE  mean in group TRUE \n",
       "           84.04348            91.10714 \n"
      ]
     },
     "metadata": {},
     "output_type": "display_data"
    }
   ],
   "source": [
    "t.test(formula=valuenum.y~valuenum.x, # Agrupamos la frecuencia cardiaca dado el estado de dolor\n",
    "        data=pain_hr # Usamos el data frame de dolor y frecuencia cardiaca\n",
    "      )"
   ]
  },
  {
   "cell_type": "markdown",
   "metadata": {},
   "source": [
    "Según el resultado de la prueba estadística, no existen diferencias entre las medias de frecuencia cardiaca de los grupos de dolor."
   ]
  },
  {
   "cell_type": "markdown",
   "metadata": {},
   "source": [
    "## Relación ente variables discretas"
   ]
  },
  {
   "cell_type": "markdown",
   "metadata": {},
   "source": [
    "Importamos la tabla `PATIENTS` que contiene las variables asociadas a cada paciente de la base de datos."
   ]
  },
  {
   "cell_type": "code",
   "execution_count": 23,
   "metadata": {},
   "outputs": [],
   "source": [
    "patients = read.csv(\"data/PATIENTS.csv\")"
   ]
  },
  {
   "cell_type": "markdown",
   "metadata": {},
   "source": [
    "Importamos la tabla `DIAGNOSES_ICD` que contiene los diagnósticos asociados a cada admisión a la Unidad de Paciente Crítico."
   ]
  },
  {
   "cell_type": "code",
   "execution_count": 24,
   "metadata": {},
   "outputs": [],
   "source": [
    "diagnoses = read.csv(\"data/DIAGNOSES_ICD.csv\")"
   ]
  },
  {
   "cell_type": "markdown",
   "metadata": {},
   "source": [
    "Una admisión a la Unidad de Paciente Crítico tiene asociado uno o más diagnósticos, por lo que necesitamos crear una función que dado una lista de diagnósticos nos retorne si el diagnóstico de nuestro interes se presenta en la lista.\n",
    "\n",
    "Elegimos el diagnóstico con el código `CIE-9 5849` que equivale a `Acute kidney failure, unspecified`."
   ]
  },
  {
   "cell_type": "code",
   "execution_count": 25,
   "metadata": {},
   "outputs": [],
   "source": [
    "getdis <- function(v) {\n",
    "   5849 %in% v # Retornamos TRUE si el diagnóstico 5489 está en el vector v\n",
    "}"
   ]
  },
  {
   "cell_type": "code",
   "execution_count": 26,
   "metadata": {},
   "outputs": [
    {
     "data": {
      "text/html": [
       "<table>\n",
       "<thead><tr><th scope=col>hadm_id</th><th scope=col>subject_id</th><th scope=col>ill</th></tr></thead>\n",
       "<tbody>\n",
       "\t<tr><td>142345</td><td>10006 </td><td>FALSE </td></tr>\n",
       "\t<tr><td>105331</td><td>10011 </td><td>FALSE </td></tr>\n",
       "\t<tr><td>165520</td><td>10013 </td><td>FALSE </td></tr>\n",
       "\t<tr><td>199207</td><td>10017 </td><td>FALSE </td></tr>\n",
       "\t<tr><td>177759</td><td>10019 </td><td>FALSE </td></tr>\n",
       "\t<tr><td>103770</td><td>10026 </td><td>FALSE </td></tr>\n",
       "</tbody>\n",
       "</table>\n"
      ],
      "text/latex": [
       "\\begin{tabular}{r|lll}\n",
       " hadm\\_id & subject\\_id & ill\\\\\n",
       "\\hline\n",
       "\t 142345 & 10006  & FALSE \\\\\n",
       "\t 105331 & 10011  & FALSE \\\\\n",
       "\t 165520 & 10013  & FALSE \\\\\n",
       "\t 199207 & 10017  & FALSE \\\\\n",
       "\t 177759 & 10019  & FALSE \\\\\n",
       "\t 103770 & 10026  & FALSE \\\\\n",
       "\\end{tabular}\n"
      ],
      "text/markdown": [
       "\n",
       "| hadm_id | subject_id | ill |\n",
       "|---|---|---|\n",
       "| 142345 | 10006  | FALSE  |\n",
       "| 105331 | 10011  | FALSE  |\n",
       "| 165520 | 10013  | FALSE  |\n",
       "| 199207 | 10017  | FALSE  |\n",
       "| 177759 | 10019  | FALSE  |\n",
       "| 103770 | 10026  | FALSE  |\n",
       "\n"
      ],
      "text/plain": [
       "  hadm_id subject_id ill  \n",
       "1 142345  10006      FALSE\n",
       "2 105331  10011      FALSE\n",
       "3 165520  10013      FALSE\n",
       "4 199207  10017      FALSE\n",
       "5 177759  10019      FALSE\n",
       "6 103770  10026      FALSE"
      ]
     },
     "metadata": {},
     "output_type": "display_data"
    }
   ],
   "source": [
    "dis = aggregate(icd9_code ~ hadm_id+subject_id, diagnoses, getdis) # Agrupamos los datos por paciente y admisión y \n",
    "                                                                   # agregamos los diagnósticos utilizando \n",
    "                                                                   # la función programada anteriormente.\n",
    "dis = setNames(dis,c(\"hadm_id\",\"subject_id\",\"ill\")) # Cambiamos los nombres de las columnas\n",
    "head(dis)"
   ]
  },
  {
   "cell_type": "markdown",
   "metadata": {},
   "source": [
    "El data frame dis contiene la agregación de datos antes descrita y en la columna `ill` reporta si el diagnóstico seleccionado está dentro de la lista de diagnósticos de la admisión específica.\n",
    "\n",
    "Necesitamos añadir el género del paciente asociado a cada una de las admisiones a la Unidad de Paciente Crítico y para eso utilizamos el atributo gender presente en la tabla `PATIENTS`.\n",
    "\n",
    "Para unir estas tablas utilizamos la función `merge()`"
   ]
  },
  {
   "cell_type": "code",
   "execution_count": 27,
   "metadata": {},
   "outputs": [
    {
     "data": {
      "text/html": [
       "<table>\n",
       "<thead><tr><th scope=col>subject_id</th><th scope=col>hadm_id</th><th scope=col>ill</th><th scope=col>gender</th></tr></thead>\n",
       "<tbody>\n",
       "\t<tr><td>10006 </td><td>142345</td><td>FALSE </td><td>F     </td></tr>\n",
       "\t<tr><td>10011 </td><td>105331</td><td>FALSE </td><td>F     </td></tr>\n",
       "\t<tr><td>10013 </td><td>165520</td><td>FALSE </td><td>F     </td></tr>\n",
       "\t<tr><td>10017 </td><td>199207</td><td>FALSE </td><td>F     </td></tr>\n",
       "\t<tr><td>10019 </td><td>177759</td><td>FALSE </td><td>M     </td></tr>\n",
       "\t<tr><td>10026 </td><td>103770</td><td>FALSE </td><td>F     </td></tr>\n",
       "</tbody>\n",
       "</table>\n"
      ],
      "text/latex": [
       "\\begin{tabular}{r|llll}\n",
       " subject\\_id & hadm\\_id & ill & gender\\\\\n",
       "\\hline\n",
       "\t 10006  & 142345 & FALSE  & F     \\\\\n",
       "\t 10011  & 105331 & FALSE  & F     \\\\\n",
       "\t 10013  & 165520 & FALSE  & F     \\\\\n",
       "\t 10017  & 199207 & FALSE  & F     \\\\\n",
       "\t 10019  & 177759 & FALSE  & M     \\\\\n",
       "\t 10026  & 103770 & FALSE  & F     \\\\\n",
       "\\end{tabular}\n"
      ],
      "text/markdown": [
       "\n",
       "| subject_id | hadm_id | ill | gender |\n",
       "|---|---|---|---|\n",
       "| 10006  | 142345 | FALSE  | F      |\n",
       "| 10011  | 105331 | FALSE  | F      |\n",
       "| 10013  | 165520 | FALSE  | F      |\n",
       "| 10017  | 199207 | FALSE  | F      |\n",
       "| 10019  | 177759 | FALSE  | M      |\n",
       "| 10026  | 103770 | FALSE  | F      |\n",
       "\n"
      ],
      "text/plain": [
       "  subject_id hadm_id ill   gender\n",
       "1 10006      142345  FALSE F     \n",
       "2 10011      105331  FALSE F     \n",
       "3 10013      165520  FALSE F     \n",
       "4 10017      199207  FALSE F     \n",
       "5 10019      177759  FALSE M     \n",
       "6 10026      103770  FALSE F     "
      ]
     },
     "metadata": {},
     "output_type": "display_data"
    }
   ],
   "source": [
    "dis_gender = merge(x = dis[c(\"hadm_id\",\"subject_id\",\"ill\")], y = patients[c(\"subject_id\",\"gender\")], \n",
    "                   by = c(\"subject_id\")                  \n",
    "                  )\n",
    "head(dis_gender)"
   ]
  },
  {
   "cell_type": "markdown",
   "metadata": {},
   "source": [
    "Para comparar la proporción de admisiones de pacientes que presentan la enfermedad agrupando por el género del paciente debemos generar una tabla de contingencia a través de la función `table()`."
   ]
  },
  {
   "cell_type": "code",
   "execution_count": 28,
   "metadata": {},
   "outputs": [
    {
     "data": {
      "text/plain": [
       "   \n",
       "    FALSE TRUE\n",
       "  F    46   13\n",
       "  M    38   32"
      ]
     },
     "metadata": {},
     "output_type": "display_data"
    }
   ],
   "source": [
    "contingency_table = table(dis_gender$gender, dis_gender$ill) # Tabla de contingencia de presencia de enfermedad y género\n",
    "contingency_table"
   ]
  },
  {
   "cell_type": "markdown",
   "metadata": {},
   "source": [
    "Para verificar si las diferencias en las proporciones de ambos géneros son estadísticamente significativas utilizaremos la función `fisher.test()`, la cual recibe la tabla de contingencia."
   ]
  },
  {
   "cell_type": "code",
   "execution_count": 29,
   "metadata": {},
   "outputs": [
    {
     "data": {
      "text/plain": [
       "\n",
       "\tFisher's Exact Test for Count Data\n",
       "\n",
       "data:  contingency_table\n",
       "p-value = 0.00563\n",
       "alternative hypothesis: true odds ratio is not equal to 1\n",
       "95 percent confidence interval:\n",
       " 1.293204 7.054562\n",
       "sample estimates:\n",
       "odds ratio \n",
       "  2.954226 \n"
      ]
     },
     "metadata": {},
     "output_type": "display_data"
    }
   ],
   "source": [
    "fisher.test(contingency_table)"
   ]
  },
  {
   "cell_type": "markdown",
   "metadata": {},
   "source": [
    "Al interpretar el resultado de la prueba estadística podemos concluir que sí existen diferencias estadísticamente significativas entre los grupos."
   ]
  },
  {
   "cell_type": "markdown",
   "metadata": {},
   "source": [
    "Convertimos la tabla de contingencia hacia una tabla de proporciones normalizada por fila con la función `prop.table()`."
   ]
  },
  {
   "cell_type": "code",
   "execution_count": 30,
   "metadata": {},
   "outputs": [
    {
     "data": {
      "text/plain": [
       "   \n",
       "        FALSE      TRUE\n",
       "  F 0.7796610 0.2203390\n",
       "  M 0.5428571 0.4571429"
      ]
     },
     "metadata": {},
     "output_type": "display_data"
    }
   ],
   "source": [
    "prop.table(contingency_table,1) # Tabla de proporciones normalizada por fila (1)"
   ]
  },
  {
   "cell_type": "markdown",
   "metadata": {},
   "source": [
    "Los admisiones de pacientes de género masculino presentan más `Acute kidney failure, unspecified` que las admisiones de pacientes de género femenino."
   ]
  },
  {
   "cell_type": "code",
   "execution_count": null,
   "metadata": {},
   "outputs": [],
   "source": []
  }
 ],
 "metadata": {
  "kernelspec": {
   "display_name": "R",
   "language": "R",
   "name": "ir"
  },
  "language_info": {
   "codemirror_mode": "r",
   "file_extension": ".r",
   "mimetype": "text/x-r-source",
   "name": "R",
   "pygments_lexer": "r",
   "version": "3.5.1"
  }
 },
 "nbformat": 4,
 "nbformat_minor": 4
}
